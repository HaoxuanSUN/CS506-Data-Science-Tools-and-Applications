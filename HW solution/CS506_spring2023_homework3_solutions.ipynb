{
  "cells": [
    {
      "cell_type": "markdown",
      "metadata": {
        "id": "dOX3EgfuyzCc"
      },
      "source": [
        "# Homework 3 (100 points)\n",
        "\n",
        "The goal of this homework is to practice techniques relating to GMM and SVD.\n",
        "\n",
        "## Exercise 1 (25 points)\n",
        "\n",
        "In this exercise we will implement 1-dimensional GMM clustering algorithm from scratch. A GMM distribution is composed of `k` components, each characterized by:\n",
        "\n",
        "1. A mixture proportion\n",
        "2. A mean for its Normal Distribution\n",
        "3. A variance for its Normal Distribution\n",
        "\n",
        "So, to generate a dataset that follows a GMM dsitrbution we need a list of those parameters. In this exercise we will use a class called `Component` to capture the parameters for a given component. And a GMM will be a list of `Component`s."
      ]
    },
    {
      "cell_type": "code",
      "source": [
        "from google.colab import drive\n",
        "drive.mount('/content/drive')\n",
        "\n",
        "import os\n",
        "os.chdir(\"/content/drive/MyDrive/CS506-Spring23-Homework3\")\n",
        "!ls"
      ],
      "metadata": {
        "id": "AOh8vs_1dNUw",
        "colab": {
          "base_uri": "https://localhost:8080/"
        },
        "outputId": "bcb7e8ef-c476-43ba-c984-b25e7c104ae1"
      },
      "execution_count": null,
      "outputs": [
        {
          "output_type": "stream",
          "name": "stdout",
          "text": [
            "Drive already mounted at /content/drive; to attempt to forcibly remount, call drive.mount(\"/content/drive\", force_remount=True).\n",
            "CS506_homework3_solutions.ipynb  mnist_784.csv\n"
          ]
        }
      ]
    },
    {
      "cell_type": "code",
      "execution_count": null,
      "metadata": {
        "id": "z07hOxQfyzCd"
      },
      "outputs": [],
      "source": [
        "class Component:\n",
        "    def __init__(self, mixture_prop, mean, variance):\n",
        "        self.mixture_prop = mixture_prop\n",
        "        self.mean = mean\n",
        "        self.variance = variance\n",
        "\n",
        "example_gmm = [Component(.5, 5, 1), Component(.5, 8, 1)]\n"
      ]
    },
    {
      "cell_type": "markdown",
      "metadata": {
        "id": "Ai1UkHVByzCe"
      },
      "source": [
        "a) Complete the function below to validate and generate a dataset following a GMM distribution, given a specified set of GMM parameters as above and a size. You may only use the methods already imported in the cell. (10pts)"
      ]
    },
    {
      "cell_type": "code",
      "execution_count": null,
      "metadata": {
        "colab": {
          "base_uri": "https://localhost:8080/"
        },
        "id": "DvyWs3jkyzCe",
        "outputId": "b82cae2b-6eac-4816-d5f3-1c246eef884b"
      },
      "outputs": [
        {
          "output_type": "execute_result",
          "data": {
            "text/plain": [
              "[4.13774094131783,\n",
              " 8.846974865934586,\n",
              " 7.872263791833184,\n",
              " 5.292094340859974,\n",
              " 4.423978054340923,\n",
              " 8.745417066326064,\n",
              " 4.441615027481394,\n",
              " 7.055010621480804,\n",
              " 4.868679746839044,\n",
              " 4.962202369555102]"
            ]
          },
          "metadata": {},
          "execution_count": 2
        }
      ],
      "source": [
        "from numpy.random import normal, uniform\n",
        "\n",
        "def generate_gmm_dataset(gmm_params, size):\n",
        "    if not is_valid_gmm(gmm_params):\n",
        "        raise ValueError(\"GMM parameters are invalid\")\n",
        "    \n",
        "    dataset = []\n",
        "    for _ in range(size):\n",
        "        comp = get_random_component(gmm_params)\n",
        "        dataset.append(normal(comp.mean, comp.variance))    #TODO\n",
        "    return dataset\n",
        "\n",
        "def is_valid_gmm(gmm_params):\n",
        "    '''\n",
        "        Checks that the sum of the mixture\n",
        "        proportions is 1\n",
        "    '''\n",
        "    #TODO\n",
        "    return abs(sum([comp.mixture_prop for comp in gmm_params]) - 1) < 1e-6  #added tolerance\n",
        "\n",
        "def get_random_component(gmm_params):\n",
        "    '''\n",
        "        returns component with prob\n",
        "        proportional to mixture_prop\n",
        "    '''\n",
        "    #TODO\n",
        "    r = uniform()\n",
        "    total = 0\n",
        "    for comp in gmm_params:\n",
        "        total += comp.mixture_prop\n",
        "        if r <= total:\n",
        "            return comp\n",
        "    return gmm_params[-1]  # return last component if we fall off the end\n",
        "\n",
        "# test your code: this should return a list of 10 numbers similar to worksheet 8\n",
        "data = generate_gmm_dataset(example_gmm, 10)\n",
        "data"
      ]
    },
    {
      "cell_type": "markdown",
      "source": [
        "*NOTE*: The data generated is not unique."
      ],
      "metadata": {
        "id": "iDevC1eNEd_n"
      }
    },
    {
      "cell_type": "code",
      "source": [
        "#extra\n",
        "import matplotlib.pyplot as plt\n",
        "plt.plot(data)"
      ],
      "metadata": {
        "colab": {
          "base_uri": "https://localhost:8080/",
          "height": 283
        },
        "id": "dH0Pd8JI4nBZ",
        "outputId": "3182f665-cff5-42ca-f7a0-10ed568f78c0"
      },
      "execution_count": null,
      "outputs": [
        {
          "output_type": "execute_result",
          "data": {
            "text/plain": [
              "[<matplotlib.lines.Line2D at 0x7f0249197b20>]"
            ]
          },
          "metadata": {},
          "execution_count": 5
        },
        {
          "output_type": "display_data",
          "data": {
            "text/plain": [
              "<Figure size 432x288 with 1 Axes>"
            ],
            "image/png": "[encoded data removed]"
          },
          "metadata": {
            "needs_background": "light"
          }
        }
      ]
    },
    {
      "cell_type": "markdown",
      "source": [
        "*Explaination: Code first checks that the GMM parameters are valid by ensuring that the sum of the mixture proportions is close enough to 1 (within a tolerance of 1e-6). Then it generates a dataset of the specified size by looping size times and selecting a random component based on the mixture proportions. Finally, it generates a random number from a normal distribution with the mean and variance of the selected component, and adds it to the dataset.*\n",
        "\n",
        "*Note that the `get_random_component` function uses the `uniform` function from numpy.random to generate a random number between 0 and 1, and then loops over the GMM components until it finds the component whose mixture proportion \"contains\" this random number. This is done by keeping track of a running total of the mixture proportions, and returning the first component whose total mixture proportion is greater than the random number. If we fall off the end of the loop, we return the last component in the list (which should have a total mixture proportion of 1, so it will always be selected if the loop fails to find a matching component)*"
      ],
      "metadata": {
        "id": "VsHQtK-T17l7"
      }
    },
    {
      "cell_type": "markdown",
      "metadata": {
        "id": "WGdz4qoSyzCe"
      },
      "source": [
        "b) Finish the implementation below of the Expectation-Maximization Algorithm. Only use methods that have been imported in the cell. (15pts)"
      ]
    },
    {
      "cell_type": "code",
      "execution_count": null,
      "metadata": {
        "colab": {
          "base_uri": "https://localhost:8080/",
          "height": 265
        },
        "id": "SEX9fxC6yzCe",
        "outputId": "5a44c5b3-83fb-4d4d-a205-abafe109121b"
      },
      "outputs": [
        {
          "output_type": "display_data",
          "data": {
            "text/plain": [
              "<Figure size 432x288 with 1 Axes>"
            ],
            "image/png": "[encoded data removed]"
          },
          "metadata": {
            "needs_background": "light"
          }
        }
      ],
      "source": [
        "from scipy.stats import norm\n",
        "from numpy import array, argmax\n",
        "import matplotlib.pyplot as plt\n",
        "from sklearn.cluster import KMeans\n",
        "\n",
        "def gmm_init(k, dataset):\n",
        "    kmeans = KMeans(k, init='k-means++').fit(X=array(dataset).reshape(-1, 1))\n",
        "    gmm_params = []\n",
        "    #TODO\n",
        "    for i in range(k):\n",
        "        comp = Component(1 / k, kmeans.cluster_centers_[i][0], 1)\n",
        "        gmm_params.append(comp)\n",
        "    return gmm_params\n",
        "\n",
        "\n",
        "def compute_gmm(k, dataset, probs):\n",
        "    '''\n",
        "        Compute P(C_j), mean_j, var_j\n",
        "    '''\n",
        "    gmm_params = []\n",
        "    #TODO\n",
        "    for j in range(k):\n",
        "        # compute new mixture proportion\n",
        "        mixture_prop = sum(probs[i][j] for i in range(len(dataset))) / len(dataset)\n",
        "        # compute new mean\n",
        "        mean = sum(probs[i][j] * dataset[i] for i in range(len(dataset))) / sum(probs[i][j] for i in range(len(dataset)))\n",
        "        # compute new variance\n",
        "        variance = sum(probs[i][j] * (dataset[i] - mean) ** 2 for i in range(len(dataset))) / sum(probs[i][j] for i in range(len(dataset)))\n",
        "        # add new component\n",
        "        comp = Component(mixture_prop, mean, variance)\n",
        "        gmm_params.append(comp)\n",
        "    return gmm_params\n",
        "\n",
        "\n",
        "def compute_probs(k, dataset, gmm_params):\n",
        "    '''\n",
        "        For all x_i in dataset, compute P(C_j | X_i)\n",
        "        = P(X_i | C_j)P(C_j) / P(X_i) for all C_j\n",
        "        return the list of lists of all P(C_j | X_i)\n",
        "        for all x_i in dataset.\n",
        "    '''\n",
        "    probs = []\n",
        "    #TODO\n",
        "    for i in range(len(dataset)):\n",
        "        x = dataset[i]\n",
        "        p = []\n",
        "        for j in range(k):\n",
        "            comp = gmm_params[j]\n",
        "            p_j = comp.mixture_prop * norm.pdf(x, loc=comp.mean, scale=comp.variance ** 0.5)\n",
        "            p.append(p_j)\n",
        "        sum_p = sum(p)\n",
        "        if sum_p == 0:\n",
        "            # if sum_p is 0, set all probs to 0\n",
        "            probs.append([0] * k)\n",
        "        else:\n",
        "            probs.append([p[j] / sum_p for j in range(k)])\n",
        "    return probs\n",
        "\n",
        "\n",
        "def expectation_maximization(k, dataset, iterations):\n",
        "    '''\n",
        "        Repeat for a set number of iterations.\n",
        "    '''\n",
        "    gmm_params = gmm_init(k, dataset)\n",
        "    for _ in range(iterations):\n",
        "        # expectation step\n",
        "        probs = compute_probs(k, dataset, gmm_params)\n",
        "\n",
        "        # maximization step\n",
        "        gmm_params = compute_gmm(k, dataset, probs)\n",
        "\n",
        "    return probs, gmm_params\n",
        "\n",
        "\n",
        "# for testing: you should see smaller sized points\n",
        "# near the boundary of a cluster if it is close to another cluster\n",
        "probs, gmm_p = expectation_maximization(2, data, 3)\n",
        "labels = [argmax(array(p)) for p in probs] # create a hard assignment\n",
        "size = 50 * array(probs).max(1) ** 2  # square to emphasize the difference\n",
        "plt.scatter(data, [0.0 for _ in range(len(data))], c=labels, cmap='viridis', s=size)\n",
        "plt.show()"
      ]
    },
    {
      "cell_type": "markdown",
      "source": [
        "*NOTE:* Output is not unique."
      ],
      "metadata": {
        "id": "NU9BVAJXB1mj"
      }
    },
    {
      "cell_type": "markdown",
      "metadata": {
        "id": "g_gMPHy_yzCf"
      },
      "source": [
        "Notes:\n",
        "\n",
        "1. your code should work with any number of components, each with reasonable parameters.\n",
        "2. your code should work for 1 to about 5 iterations of the EM algorithm. It may not work for iterations over 10 because the math we are doing may overflow and create `nans` - that's ok / don't worry about it.\n",
        "3. worksheet 7 is your friend"
      ]
    },
    {
      "cell_type": "markdown",
      "source": [
        "*Explaination: Note that the Component class from the previous question is used in this implementation. The gmm_init function initializes the GMM parameters using K-means clustering, and the compute_gmm function computes the new GMM parameters based on the current probabilities. The compute_probs function computes the probabilities for each point in the dataset given the current GMM parameters. Finally, the expectation_maximization function performs the full EM algorithm by iterating over the expectation and maximization steps. The resulting probabilities and GMM parameters can then be used to cluster the data.*"
      ],
      "metadata": {
        "id": "rQDi3Wsd2t4h"
      }
    },
    {
      "cell_type": "markdown",
      "metadata": {
        "id": "ilmPFKLlyzCf"
      },
      "source": [
        "## Exercise 2 (50 points)\n",
        "\n",
        "a) Fetch the \"mnist_784\" data and store is as a `.csv` (that way you don't have to fetch it every time - which takes about 30s). (2.5 points)"
      ]
    },
    {
      "cell_type": "code",
      "source": [
        "import matplotlib.pyplot as plt\n",
        "import pandas as pd\n",
        "from sklearn.datasets import fetch_openml\n",
        "import numpy as np\n",
        "from sklearn.cluster import KMeans\n",
        "\n",
        "\n",
        "import warnings\n",
        "warnings.filterwarnings(\"ignore\")"
      ],
      "metadata": {
        "id": "oKPYYR_Sr7Oc"
      },
      "execution_count": null,
      "outputs": []
    },
    {
      "cell_type": "code",
      "execution_count": null,
      "metadata": {
        "id": "9crBBW-oyzCf",
        "colab": {
          "base_uri": "https://localhost:8080/",
          "height": 423
        },
        "outputId": "2221ef18-5a9b-4dd7-9333-cf175a2fb4c5"
      },
      "outputs": [
        {
          "output_type": "execute_result",
          "data": {
            "text/plain": [
              "         0    1    2    3    4    5    6    7    8    9  ...  775  776  777  \\\n",
              "0      0.0  0.0  0.0  0.0  0.0  0.0  0.0  0.0  0.0  0.0  ...  0.0  0.0  0.0   \n",
              "1      0.0  0.0  0.0  0.0  0.0  0.0  0.0  0.0  0.0  0.0  ...  0.0  0.0  0.0   \n",
              "2      0.0  0.0  0.0  0.0  0.0  0.0  0.0  0.0  0.0  0.0  ...  0.0  0.0  0.0   \n",
              "3      0.0  0.0  0.0  0.0  0.0  0.0  0.0  0.0  0.0  0.0  ...  0.0  0.0  0.0   \n",
              "4      0.0  0.0  0.0  0.0  0.0  0.0  0.0  0.0  0.0  0.0  ...  0.0  0.0  0.0   \n",
              "...    ...  ...  ...  ...  ...  ...  ...  ...  ...  ...  ...  ...  ...  ...   \n",
              "69995  0.0  0.0  0.0  0.0  0.0  0.0  0.0  0.0  0.0  0.0  ...  0.0  0.0  0.0   \n",
              "69996  0.0  0.0  0.0  0.0  0.0  0.0  0.0  0.0  0.0  0.0  ...  0.0  0.0  0.0   \n",
              "69997  0.0  0.0  0.0  0.0  0.0  0.0  0.0  0.0  0.0  0.0  ...  0.0  0.0  0.0   \n",
              "69998  0.0  0.0  0.0  0.0  0.0  0.0  0.0  0.0  0.0  0.0  ...  0.0  0.0  0.0   \n",
              "69999  0.0  0.0  0.0  0.0  0.0  0.0  0.0  0.0  0.0  0.0  ...  0.0  0.0  0.0   \n",
              "\n",
              "       778  779  780  781  782  783  label  \n",
              "0      0.0  0.0  0.0  0.0  0.0  0.0      5  \n",
              "1      0.0  0.0  0.0  0.0  0.0  0.0      0  \n",
              "2      0.0  0.0  0.0  0.0  0.0  0.0      4  \n",
              "3      0.0  0.0  0.0  0.0  0.0  0.0      1  \n",
              "4      0.0  0.0  0.0  0.0  0.0  0.0      9  \n",
              "...    ...  ...  ...  ...  ...  ...    ...  \n",
              "69995  0.0  0.0  0.0  0.0  0.0  0.0      2  \n",
              "69996  0.0  0.0  0.0  0.0  0.0  0.0      3  \n",
              "69997  0.0  0.0  0.0  0.0  0.0  0.0      4  \n",
              "69998  0.0  0.0  0.0  0.0  0.0  0.0      5  \n",
              "69999  0.0  0.0  0.0  0.0  0.0  0.0      6  \n",
              "\n",
              "[70000 rows x 785 columns]"
            ],
            "text/html": [
              "\n",
              "  <div id=\"df-e69ca5de-0396-412a-80fe-6dfac893ade6\">\n",
              "    <div class=\"colab-df-container\">\n",
              "      <div>\n",
              "<style scoped>\n",
              "    .dataframe tbody tr th:only-of-type {\n",
              "        vertical-align: middle;\n",
              "    }\n",
              "\n",
              "    .dataframe tbody tr th {\n",
              "        vertical-align: top;\n",
              "    }\n",
              "\n",
              "    .dataframe thead th {\n",
              "        text-align: right;\n",
              "    }\n",
              "</style>\n",
              "<table border=\"1\" class=\"dataframe\">\n",
              "  <thead>\n",
              "    <tr style=\"text-align: right;\">\n",
              "      <th></th>\n",
              "      <th>0</th>\n",
              "      <th>1</th>\n",
              "      <th>2</th>\n",
              "      <th>3</th>\n",
              "      <th>4</th>\n",
              "      <th>5</th>\n",
              "      <th>6</th>\n",
              "      <th>7</th>\n",
              "      <th>8</th>\n",
              "      <th>9</th>\n",
              "      <th>...</th>\n",
              "      <th>775</th>\n",
              "      <th>776</th>\n",
              "      <th>777</th>\n",
              "      <th>778</th>\n",
              "      <th>779</th>\n",
              "      <th>780</th>\n",
              "      <th>781</th>\n",
              "      <th>782</th>\n",
              "      <th>783</th>\n",
              "      <th>label</th>\n",
              "    </tr>\n",
              "  </thead>\n",
              "  <tbody>\n",
              "    <tr>\n",
              "      <th>0</th>\n",
              "      <td>0.0</td>\n",
              "      <td>0.0</td>\n",
              "      <td>0.0</td>\n",
              "      <td>0.0</td>\n",
              "      <td>0.0</td>\n",
              "      <td>0.0</td>\n",
              "      <td>0.0</td>\n",
              "      <td>0.0</td>\n",
              "      <td>0.0</td>\n",
              "      <td>0.0</td>\n",
              "      <td>...</td>\n",
              "      <td>0.0</td>\n",
              "      <td>0.0</td>\n",
              "      <td>0.0</td>\n",
              "      <td>0.0</td>\n",
              "      <td>0.0</td>\n",
              "      <td>0.0</td>\n",
              "      <td>0.0</td>\n",
              "      <td>0.0</td>\n",
              "      <td>0.0</td>\n",
              "      <td>5</td>\n",
              "    </tr>\n",
              "    <tr>\n",
              "      <th>1</th>\n",
              "      <td>0.0</td>\n",
              "      <td>0.0</td>\n",
              "      <td>0.0</td>\n",
              "      <td>0.0</td>\n",
              "      <td>0.0</td>\n",
              "      <td>0.0</td>\n",
              "      <td>0.0</td>\n",
              "      <td>0.0</td>\n",
              "      <td>0.0</td>\n",
              "      <td>0.0</td>\n",
              "      <td>...</td>\n",
              "      <td>0.0</td>\n",
              "      <td>0.0</td>\n",
              "      <td>0.0</td>\n",
              "      <td>0.0</td>\n",
              "      <td>0.0</td>\n",
              "      <td>0.0</td>\n",
              "      <td>0.0</td>\n",
              "      <td>0.0</td>\n",
              "      <td>0.0</td>\n",
              "      <td>0</td>\n",
              "    </tr>\n",
              "    <tr>\n",
              "      <th>2</th>\n",
              "      <td>0.0</td>\n",
              "      <td>0.0</td>\n",
              "      <td>0.0</td>\n",
              "      <td>0.0</td>\n",
              "      <td>0.0</td>\n",
              "      <td>0.0</td>\n",
              "      <td>0.0</td>\n",
              "      <td>0.0</td>\n",
              "      <td>0.0</td>\n",
              "      <td>0.0</td>\n",
              "      <td>...</td>\n",
              "      <td>0.0</td>\n",
              "      <td>0.0</td>\n",
              "      <td>0.0</td>\n",
              "      <td>0.0</td>\n",
              "      <td>0.0</td>\n",
              "      <td>0.0</td>\n",
              "      <td>0.0</td>\n",
              "      <td>0.0</td>\n",
              "      <td>0.0</td>\n",
              "      <td>4</td>\n",
              "    </tr>\n",
              "    <tr>\n",
              "      <th>3</th>\n",
              "      <td>0.0</td>\n",
              "      <td>0.0</td>\n",
              "      <td>0.0</td>\n",
              "      <td>0.0</td>\n",
              "      <td>0.0</td>\n",
              "      <td>0.0</td>\n",
              "      <td>0.0</td>\n",
              "      <td>0.0</td>\n",
              "      <td>0.0</td>\n",
              "      <td>0.0</td>\n",
              "      <td>...</td>\n",
              "      <td>0.0</td>\n",
              "      <td>0.0</td>\n",
              "      <td>0.0</td>\n",
              "      <td>0.0</td>\n",
              "      <td>0.0</td>\n",
              "      <td>0.0</td>\n",
              "      <td>0.0</td>\n",
              "      <td>0.0</td>\n",
              "      <td>0.0</td>\n",
              "      <td>1</td>\n",
              "    </tr>\n",
              "    <tr>\n",
              "      <th>4</th>\n",
              "      <td>0.0</td>\n",
              "      <td>0.0</td>\n",
              "      <td>0.0</td>\n",
              "      <td>0.0</td>\n",
              "      <td>0.0</td>\n",
              "      <td>0.0</td>\n",
              "      <td>0.0</td>\n",
              "      <td>0.0</td>\n",
              "      <td>0.0</td>\n",
              "      <td>0.0</td>\n",
              "      <td>...</td>\n",
              "      <td>0.0</td>\n",
              "      <td>0.0</td>\n",
              "      <td>0.0</td>\n",
              "      <td>0.0</td>\n",
              "      <td>0.0</td>\n",
              "      <td>0.0</td>\n",
              "      <td>0.0</td>\n",
              "      <td>0.0</td>\n",
              "      <td>0.0</td>\n",
              "      <td>9</td>\n",
              "    </tr>\n",
              "    <tr>\n",
              "      <th>...</th>\n",
              "      <td>...</td>\n",
              "      <td>...</td>\n",
              "      <td>...</td>\n",
              "      <td>...</td>\n",
              "      <td>...</td>\n",
              "      <td>...</td>\n",
              "      <td>...</td>\n",
              "      <td>...</td>\n",
              "      <td>...</td>\n",
              "      <td>...</td>\n",
              "      <td>...</td>\n",
              "      <td>...</td>\n",
              "      <td>...</td>\n",
              "      <td>...</td>\n",
              "      <td>...</td>\n",
              "      <td>...</td>\n",
              "      <td>...</td>\n",
              "      <td>...</td>\n",
              "      <td>...</td>\n",
              "      <td>...</td>\n",
              "      <td>...</td>\n",
              "    </tr>\n",
              "    <tr>\n",
              "      <th>69995</th>\n",
              "      <td>0.0</td>\n",
              "      <td>0.0</td>\n",
              "      <td>0.0</td>\n",
              "      <td>0.0</td>\n",
              "      <td>0.0</td>\n",
              "      <td>0.0</td>\n",
              "      <td>0.0</td>\n",
              "      <td>0.0</td>\n",
              "      <td>0.0</td>\n",
              "      <td>0.0</td>\n",
              "      <td>...</td>\n",
              "      <td>0.0</td>\n",
              "      <td>0.0</td>\n",
              "      <td>0.0</td>\n",
              "      <td>0.0</td>\n",
              "      <td>0.0</td>\n",
              "      <td>0.0</td>\n",
              "      <td>0.0</td>\n",
              "      <td>0.0</td>\n",
              "      <td>0.0</td>\n",
              "      <td>2</td>\n",
              "    </tr>\n",
              "    <tr>\n",
              "      <th>69996</th>\n",
              "      <td>0.0</td>\n",
              "      <td>0.0</td>\n",
              "      <td>0.0</td>\n",
              "      <td>0.0</td>\n",
              "      <td>0.0</td>\n",
              "      <td>0.0</td>\n",
              "      <td>0.0</td>\n",
              "      <td>0.0</td>\n",
              "      <td>0.0</td>\n",
              "      <td>0.0</td>\n",
              "      <td>...</td>\n",
              "      <td>0.0</td>\n",
              "      <td>0.0</td>\n",
              "      <td>0.0</td>\n",
              "      <td>0.0</td>\n",
              "      <td>0.0</td>\n",
              "      <td>0.0</td>\n",
              "      <td>0.0</td>\n",
              "      <td>0.0</td>\n",
              "      <td>0.0</td>\n",
              "      <td>3</td>\n",
              "    </tr>\n",
              "    <tr>\n",
              "      <th>69997</th>\n",
              "      <td>0.0</td>\n",
              "      <td>0.0</td>\n",
              "      <td>0.0</td>\n",
              "      <td>0.0</td>\n",
              "      <td>0.0</td>\n",
              "      <td>0.0</td>\n",
              "      <td>0.0</td>\n",
              "      <td>0.0</td>\n",
              "      <td>0.0</td>\n",
              "      <td>0.0</td>\n",
              "      <td>...</td>\n",
              "      <td>0.0</td>\n",
              "      <td>0.0</td>\n",
              "      <td>0.0</td>\n",
              "      <td>0.0</td>\n",
              "      <td>0.0</td>\n",
              "      <td>0.0</td>\n",
              "      <td>0.0</td>\n",
              "      <td>0.0</td>\n",
              "      <td>0.0</td>\n",
              "      <td>4</td>\n",
              "    </tr>\n",
              "    <tr>\n",
              "      <th>69998</th>\n",
              "      <td>0.0</td>\n",
              "      <td>0.0</td>\n",
              "      <td>0.0</td>\n",
              "      <td>0.0</td>\n",
              "      <td>0.0</td>\n",
              "      <td>0.0</td>\n",
              "      <td>0.0</td>\n",
              "      <td>0.0</td>\n",
              "      <td>0.0</td>\n",
              "      <td>0.0</td>\n",
              "      <td>...</td>\n",
              "      <td>0.0</td>\n",
              "      <td>0.0</td>\n",
              "      <td>0.0</td>\n",
              "      <td>0.0</td>\n",
              "      <td>0.0</td>\n",
              "      <td>0.0</td>\n",
              "      <td>0.0</td>\n",
              "      <td>0.0</td>\n",
              "      <td>0.0</td>\n",
              "      <td>5</td>\n",
              "    </tr>\n",
              "    <tr>\n",
              "      <th>69999</th>\n",
              "      <td>0.0</td>\n",
              "      <td>0.0</td>\n",
              "      <td>0.0</td>\n",
              "      <td>0.0</td>\n",
              "      <td>0.0</td>\n",
              "      <td>0.0</td>\n",
              "      <td>0.0</td>\n",
              "      <td>0.0</td>\n",
              "      <td>0.0</td>\n",
              "      <td>0.0</td>\n",
              "      <td>...</td>\n",
              "      <td>0.0</td>\n",
              "      <td>0.0</td>\n",
              "      <td>0.0</td>\n",
              "      <td>0.0</td>\n",
              "      <td>0.0</td>\n",
              "      <td>0.0</td>\n",
              "      <td>0.0</td>\n",
              "      <td>0.0</td>\n",
              "      <td>0.0</td>\n",
              "      <td>6</td>\n",
              "    </tr>\n",
              "  </tbody>\n",
              "</table>\n",
              "<p>70000 rows × 785 columns</p>\n",
              "</div>\n",
              "      <button class=\"colab-df-convert\" onclick=\"convertToInteractive('df-e69ca5de-0396-412a-80fe-6dfac893ade6')\"\n",
              "              title=\"Convert this dataframe to an interactive table.\"\n",
              "              style=\"display:none;\">\n",
              "        \n",
              "  <svg xmlns=\"http://www.w3.org/2000/svg\" height=\"24px\"viewBox=\"0 0 24 24\"\n",
              "       width=\"24px\">\n",
              "    <path d=\"M0 0h24v24H0V0z\" fill=\"none\"/>\n",
              "    <path d=\"M18.56 5.44l.94 2.06.94-2.06 2.06-.94-2.06-.94-.94-2.06-.94 2.06-2.06.94zm-11 1L8.5 8.5l.94-2.06 2.06-.94-2.06-.94L8.5 2.5l-.94 2.06-2.06.94zm10 10l.94 2.06.94-2.06 2.06-.94-2.06-.94-.94-2.06-.94 2.06-2.06.94z\"/><path d=\"M17.41 7.96l-1.37-1.37c-.4-.4-.92-.59-1.43-.59-.52 0-1.04.2-1.43.59L10.3 9.45l-7.72 7.72c-.78.78-.78 2.05 0 2.83L4 21.41c.39.39.9.59 1.41.59.51 0 1.02-.2 1.41-.59l7.78-7.78 2.81-2.81c.8-.78.8-2.07 0-2.86zM5.41 20L4 18.59l7.72-7.72 1.47 1.35L5.41 20z\"/>\n",
              "  </svg>\n",
              "      </button>\n",
              "      \n",
              "  <style>\n",
              "    .colab-df-container {\n",
              "      display:flex;\n",
              "      flex-wrap:wrap;\n",
              "      gap: 12px;\n",
              "    }\n",
              "\n",
              "    .colab-df-convert {\n",
              "      background-color: #E8F0FE;\n",
              "      border: none;\n",
              "      border-radius: 50%;\n",
              "      cursor: pointer;\n",
              "      display: none;\n",
              "      fill: #1967D2;\n",
              "      height: 32px;\n",
              "      padding: 0 0 0 0;\n",
              "      width: 32px;\n",
              "    }\n",
              "\n",
              "    .colab-df-convert:hover {\n",
              "      background-color: #E2EBFA;\n",
              "      box-shadow: 0px 1px 2px rgba(60, 64, 67, 0.3), 0px 1px 3px 1px rgba(60, 64, 67, 0.15);\n",
              "      fill: #174EA6;\n",
              "    }\n",
              "\n",
              "    [theme=dark] .colab-df-convert {\n",
              "      background-color: #3B4455;\n",
              "      fill: #D2E3FC;\n",
              "    }\n",
              "\n",
              "    [theme=dark] .colab-df-convert:hover {\n",
              "      background-color: #434B5C;\n",
              "      box-shadow: 0px 1px 3px 1px rgba(0, 0, 0, 0.15);\n",
              "      filter: drop-shadow(0px 1px 2px rgba(0, 0, 0, 0.3));\n",
              "      fill: #FFFFFF;\n",
              "    }\n",
              "  </style>\n",
              "\n",
              "      <script>\n",
              "        const buttonEl =\n",
              "          document.querySelector('#df-e69ca5de-0396-412a-80fe-6dfac893ade6 button.colab-df-convert');\n",
              "        buttonEl.style.display =\n",
              "          google.colab.kernel.accessAllowed ? 'block' : 'none';\n",
              "\n",
              "        async function convertToInteractive(key) {\n",
              "          const element = document.querySelector('#df-e69ca5de-0396-412a-80fe-6dfac893ade6');\n",
              "          const dataTable =\n",
              "            await google.colab.kernel.invokeFunction('convertToInteractive',\n",
              "                                                     [key], {});\n",
              "          if (!dataTable) return;\n",
              "\n",
              "          const docLinkHtml = 'Like what you see? Visit the ' +\n",
              "            '<a target=\"_blank\" href=https://colab.research.google.com/notebooks/data_table.ipynb>data table notebook</a>'\n",
              "            + ' to learn more about interactive tables.';\n",
              "          element.innerHTML = '';\n",
              "          dataTable['output_type'] = 'display_data';\n",
              "          await google.colab.output.renderOutput(dataTable, element);\n",
              "          const docLink = document.createElement('div');\n",
              "          docLink.innerHTML = docLinkHtml;\n",
              "          element.appendChild(docLink);\n",
              "        }\n",
              "      </script>\n",
              "    </div>\n",
              "  </div>\n",
              "  "
            ]
          },
          "metadata": {},
          "execution_count": 44
        }
      ],
      "source": [
        "X, y = fetch_openml(name=\"mnist_784\", version=1, return_X_y=True, as_frame=False)\n",
        "\n",
        "# your code here\n",
        "df = pd.DataFrame(data=X)\n",
        "df['label'] = y\n",
        "df.to_csv('mnist_784.csv', index=False)\n",
        "df"
      ]
    },
    {
      "cell_type": "code",
      "source": [
        "#directly import csv from here\n",
        "df = pd.read_csv('mnist_784.csv')\n",
        "df"
      ],
      "metadata": {
        "colab": {
          "base_uri": "https://localhost:8080/",
          "height": 423
        },
        "id": "SazWEGXXrzi9",
        "outputId": "d6205845-a4a5-4d81-ac9c-f6b24f3cc12f"
      },
      "execution_count": null,
      "outputs": [
        {
          "output_type": "execute_result",
          "data": {
            "text/plain": [
              "         0    1    2    3    4    5    6    7    8    9  ...  775  776  777  \\\n",
              "0      0.0  0.0  0.0  0.0  0.0  0.0  0.0  0.0  0.0  0.0  ...  0.0  0.0  0.0   \n",
              "1      0.0  0.0  0.0  0.0  0.0  0.0  0.0  0.0  0.0  0.0  ...  0.0  0.0  0.0   \n",
              "2      0.0  0.0  0.0  0.0  0.0  0.0  0.0  0.0  0.0  0.0  ...  0.0  0.0  0.0   \n",
              "3      0.0  0.0  0.0  0.0  0.0  0.0  0.0  0.0  0.0  0.0  ...  0.0  0.0  0.0   \n",
              "4      0.0  0.0  0.0  0.0  0.0  0.0  0.0  0.0  0.0  0.0  ...  0.0  0.0  0.0   \n",
              "...    ...  ...  ...  ...  ...  ...  ...  ...  ...  ...  ...  ...  ...  ...   \n",
              "69995  0.0  0.0  0.0  0.0  0.0  0.0  0.0  0.0  0.0  0.0  ...  0.0  0.0  0.0   \n",
              "69996  0.0  0.0  0.0  0.0  0.0  0.0  0.0  0.0  0.0  0.0  ...  0.0  0.0  0.0   \n",
              "69997  0.0  0.0  0.0  0.0  0.0  0.0  0.0  0.0  0.0  0.0  ...  0.0  0.0  0.0   \n",
              "69998  0.0  0.0  0.0  0.0  0.0  0.0  0.0  0.0  0.0  0.0  ...  0.0  0.0  0.0   \n",
              "69999  0.0  0.0  0.0  0.0  0.0  0.0  0.0  0.0  0.0  0.0  ...  0.0  0.0  0.0   \n",
              "\n",
              "       778  779  780  781  782  783  label  \n",
              "0      0.0  0.0  0.0  0.0  0.0  0.0      5  \n",
              "1      0.0  0.0  0.0  0.0  0.0  0.0      0  \n",
              "2      0.0  0.0  0.0  0.0  0.0  0.0      4  \n",
              "3      0.0  0.0  0.0  0.0  0.0  0.0      1  \n",
              "4      0.0  0.0  0.0  0.0  0.0  0.0      9  \n",
              "...    ...  ...  ...  ...  ...  ...    ...  \n",
              "69995  0.0  0.0  0.0  0.0  0.0  0.0      2  \n",
              "69996  0.0  0.0  0.0  0.0  0.0  0.0      3  \n",
              "69997  0.0  0.0  0.0  0.0  0.0  0.0      4  \n",
              "69998  0.0  0.0  0.0  0.0  0.0  0.0      5  \n",
              "69999  0.0  0.0  0.0  0.0  0.0  0.0      6  \n",
              "\n",
              "[70000 rows x 785 columns]"
            ],
            "text/html": [
              "\n",
              "  <div id=\"df-f7df51a6-46d3-4014-8641-e6fdeefaf073\">\n",
              "    <div class=\"colab-df-container\">\n",
              "      <div>\n",
              "<style scoped>\n",
              "    .dataframe tbody tr th:only-of-type {\n",
              "        vertical-align: middle;\n",
              "    }\n",
              "\n",
              "    .dataframe tbody tr th {\n",
              "        vertical-align: top;\n",
              "    }\n",
              "\n",
              "    .dataframe thead th {\n",
              "        text-align: right;\n",
              "    }\n",
              "</style>\n",
              "<table border=\"1\" class=\"dataframe\">\n",
              "  <thead>\n",
              "    <tr style=\"text-align: right;\">\n",
              "      <th></th>\n",
              "      <th>0</th>\n",
              "      <th>1</th>\n",
              "      <th>2</th>\n",
              "      <th>3</th>\n",
              "      <th>4</th>\n",
              "      <th>5</th>\n",
              "      <th>6</th>\n",
              "      <th>7</th>\n",
              "      <th>8</th>\n",
              "      <th>9</th>\n",
              "      <th>...</th>\n",
              "      <th>775</th>\n",
              "      <th>776</th>\n",
              "      <th>777</th>\n",
              "      <th>778</th>\n",
              "      <th>779</th>\n",
              "      <th>780</th>\n",
              "      <th>781</th>\n",
              "      <th>782</th>\n",
              "      <th>783</th>\n",
              "      <th>label</th>\n",
              "    </tr>\n",
              "  </thead>\n",
              "  <tbody>\n",
              "    <tr>\n",
              "      <th>0</th>\n",
              "      <td>0.0</td>\n",
              "      <td>0.0</td>\n",
              "      <td>0.0</td>\n",
              "      <td>0.0</td>\n",
              "      <td>0.0</td>\n",
              "      <td>0.0</td>\n",
              "      <td>0.0</td>\n",
              "      <td>0.0</td>\n",
              "      <td>0.0</td>\n",
              "      <td>0.0</td>\n",
              "      <td>...</td>\n",
              "      <td>0.0</td>\n",
              "      <td>0.0</td>\n",
              "      <td>0.0</td>\n",
              "      <td>0.0</td>\n",
              "      <td>0.0</td>\n",
              "      <td>0.0</td>\n",
              "      <td>0.0</td>\n",
              "      <td>0.0</td>\n",
              "      <td>0.0</td>\n",
              "      <td>5</td>\n",
              "    </tr>\n",
              "    <tr>\n",
              "      <th>1</th>\n",
              "      <td>0.0</td>\n",
              "      <td>0.0</td>\n",
              "      <td>0.0</td>\n",
              "      <td>0.0</td>\n",
              "      <td>0.0</td>\n",
              "      <td>0.0</td>\n",
              "      <td>0.0</td>\n",
              "      <td>0.0</td>\n",
              "      <td>0.0</td>\n",
              "      <td>0.0</td>\n",
              "      <td>...</td>\n",
              "      <td>0.0</td>\n",
              "      <td>0.0</td>\n",
              "      <td>0.0</td>\n",
              "      <td>0.0</td>\n",
              "      <td>0.0</td>\n",
              "      <td>0.0</td>\n",
              "      <td>0.0</td>\n",
              "      <td>0.0</td>\n",
              "      <td>0.0</td>\n",
              "      <td>0</td>\n",
              "    </tr>\n",
              "    <tr>\n",
              "      <th>2</th>\n",
              "      <td>0.0</td>\n",
              "      <td>0.0</td>\n",
              "      <td>0.0</td>\n",
              "      <td>0.0</td>\n",
              "      <td>0.0</td>\n",
              "      <td>0.0</td>\n",
              "      <td>0.0</td>\n",
              "      <td>0.0</td>\n",
              "      <td>0.0</td>\n",
              "      <td>0.0</td>\n",
              "      <td>...</td>\n",
              "      <td>0.0</td>\n",
              "      <td>0.0</td>\n",
              "      <td>0.0</td>\n",
              "      <td>0.0</td>\n",
              "      <td>0.0</td>\n",
              "      <td>0.0</td>\n",
              "      <td>0.0</td>\n",
              "      <td>0.0</td>\n",
              "      <td>0.0</td>\n",
              "      <td>4</td>\n",
              "    </tr>\n",
              "    <tr>\n",
              "      <th>3</th>\n",
              "      <td>0.0</td>\n",
              "      <td>0.0</td>\n",
              "      <td>0.0</td>\n",
              "      <td>0.0</td>\n",
              "      <td>0.0</td>\n",
              "      <td>0.0</td>\n",
              "      <td>0.0</td>\n",
              "      <td>0.0</td>\n",
              "      <td>0.0</td>\n",
              "      <td>0.0</td>\n",
              "      <td>...</td>\n",
              "      <td>0.0</td>\n",
              "      <td>0.0</td>\n",
              "      <td>0.0</td>\n",
              "      <td>0.0</td>\n",
              "      <td>0.0</td>\n",
              "      <td>0.0</td>\n",
              "      <td>0.0</td>\n",
              "      <td>0.0</td>\n",
              "      <td>0.0</td>\n",
              "      <td>1</td>\n",
              "    </tr>\n",
              "    <tr>\n",
              "      <th>4</th>\n",
              "      <td>0.0</td>\n",
              "      <td>0.0</td>\n",
              "      <td>0.0</td>\n",
              "      <td>0.0</td>\n",
              "      <td>0.0</td>\n",
              "      <td>0.0</td>\n",
              "      <td>0.0</td>\n",
              "      <td>0.0</td>\n",
              "      <td>0.0</td>\n",
              "      <td>0.0</td>\n",
              "      <td>...</td>\n",
              "      <td>0.0</td>\n",
              "      <td>0.0</td>\n",
              "      <td>0.0</td>\n",
              "      <td>0.0</td>\n",
              "      <td>0.0</td>\n",
              "      <td>0.0</td>\n",
              "      <td>0.0</td>\n",
              "      <td>0.0</td>\n",
              "      <td>0.0</td>\n",
              "      <td>9</td>\n",
              "    </tr>\n",
              "    <tr>\n",
              "      <th>...</th>\n",
              "      <td>...</td>\n",
              "      <td>...</td>\n",
              "      <td>...</td>\n",
              "      <td>...</td>\n",
              "      <td>...</td>\n",
              "      <td>...</td>\n",
              "      <td>...</td>\n",
              "      <td>...</td>\n",
              "      <td>...</td>\n",
              "      <td>...</td>\n",
              "      <td>...</td>\n",
              "      <td>...</td>\n",
              "      <td>...</td>\n",
              "      <td>...</td>\n",
              "      <td>...</td>\n",
              "      <td>...</td>\n",
              "      <td>...</td>\n",
              "      <td>...</td>\n",
              "      <td>...</td>\n",
              "      <td>...</td>\n",
              "      <td>...</td>\n",
              "    </tr>\n",
              "    <tr>\n",
              "      <th>69995</th>\n",
              "      <td>0.0</td>\n",
              "      <td>0.0</td>\n",
              "      <td>0.0</td>\n",
              "      <td>0.0</td>\n",
              "      <td>0.0</td>\n",
              "      <td>0.0</td>\n",
              "      <td>0.0</td>\n",
              "      <td>0.0</td>\n",
              "      <td>0.0</td>\n",
              "      <td>0.0</td>\n",
              "      <td>...</td>\n",
              "      <td>0.0</td>\n",
              "      <td>0.0</td>\n",
              "      <td>0.0</td>\n",
              "      <td>0.0</td>\n",
              "      <td>0.0</td>\n",
              "      <td>0.0</td>\n",
              "      <td>0.0</td>\n",
              "      <td>0.0</td>\n",
              "      <td>0.0</td>\n",
              "      <td>2</td>\n",
              "    </tr>\n",
              "    <tr>\n",
              "      <th>69996</th>\n",
              "      <td>0.0</td>\n",
              "      <td>0.0</td>\n",
              "      <td>0.0</td>\n",
              "      <td>0.0</td>\n",
              "      <td>0.0</td>\n",
              "      <td>0.0</td>\n",
              "      <td>0.0</td>\n",
              "      <td>0.0</td>\n",
              "      <td>0.0</td>\n",
              "      <td>0.0</td>\n",
              "      <td>...</td>\n",
              "      <td>0.0</td>\n",
              "      <td>0.0</td>\n",
              "      <td>0.0</td>\n",
              "      <td>0.0</td>\n",
              "      <td>0.0</td>\n",
              "      <td>0.0</td>\n",
              "      <td>0.0</td>\n",
              "      <td>0.0</td>\n",
              "      <td>0.0</td>\n",
              "      <td>3</td>\n",
              "    </tr>\n",
              "    <tr>\n",
              "      <th>69997</th>\n",
              "      <td>0.0</td>\n",
              "      <td>0.0</td>\n",
              "      <td>0.0</td>\n",
              "      <td>0.0</td>\n",
              "      <td>0.0</td>\n",
              "      <td>0.0</td>\n",
              "      <td>0.0</td>\n",
              "      <td>0.0</td>\n",
              "      <td>0.0</td>\n",
              "      <td>0.0</td>\n",
              "      <td>...</td>\n",
              "      <td>0.0</td>\n",
              "      <td>0.0</td>\n",
              "      <td>0.0</td>\n",
              "      <td>0.0</td>\n",
              "      <td>0.0</td>\n",
              "      <td>0.0</td>\n",
              "      <td>0.0</td>\n",
              "      <td>0.0</td>\n",
              "      <td>0.0</td>\n",
              "      <td>4</td>\n",
              "    </tr>\n",
              "    <tr>\n",
              "      <th>69998</th>\n",
              "      <td>0.0</td>\n",
              "      <td>0.0</td>\n",
              "      <td>0.0</td>\n",
              "      <td>0.0</td>\n",
              "      <td>0.0</td>\n",
              "      <td>0.0</td>\n",
              "      <td>0.0</td>\n",
              "      <td>0.0</td>\n",
              "      <td>0.0</td>\n",
              "      <td>0.0</td>\n",
              "      <td>...</td>\n",
              "      <td>0.0</td>\n",
              "      <td>0.0</td>\n",
              "      <td>0.0</td>\n",
              "      <td>0.0</td>\n",
              "      <td>0.0</td>\n",
              "      <td>0.0</td>\n",
              "      <td>0.0</td>\n",
              "      <td>0.0</td>\n",
              "      <td>0.0</td>\n",
              "      <td>5</td>\n",
              "    </tr>\n",
              "    <tr>\n",
              "      <th>69999</th>\n",
              "      <td>0.0</td>\n",
              "      <td>0.0</td>\n",
              "      <td>0.0</td>\n",
              "      <td>0.0</td>\n",
              "      <td>0.0</td>\n",
              "      <td>0.0</td>\n",
              "      <td>0.0</td>\n",
              "      <td>0.0</td>\n",
              "      <td>0.0</td>\n",
              "      <td>0.0</td>\n",
              "      <td>...</td>\n",
              "      <td>0.0</td>\n",
              "      <td>0.0</td>\n",
              "      <td>0.0</td>\n",
              "      <td>0.0</td>\n",
              "      <td>0.0</td>\n",
              "      <td>0.0</td>\n",
              "      <td>0.0</td>\n",
              "      <td>0.0</td>\n",
              "      <td>0.0</td>\n",
              "      <td>6</td>\n",
              "    </tr>\n",
              "  </tbody>\n",
              "</table>\n",
              "<p>70000 rows × 785 columns</p>\n",
              "</div>\n",
              "      <button class=\"colab-df-convert\" onclick=\"convertToInteractive('df-f7df51a6-46d3-4014-8641-e6fdeefaf073')\"\n",
              "              title=\"Convert this dataframe to an interactive table.\"\n",
              "              style=\"display:none;\">\n",
              "        \n",
              "  <svg xmlns=\"http://www.w3.org/2000/svg\" height=\"24px\"viewBox=\"0 0 24 24\"\n",
              "       width=\"24px\">\n",
              "    <path d=\"M0 0h24v24H0V0z\" fill=\"none\"/>\n",
              "    <path d=\"M18.56 5.44l.94 2.06.94-2.06 2.06-.94-2.06-.94-.94-2.06-.94 2.06-2.06.94zm-11 1L8.5 8.5l.94-2.06 2.06-.94-2.06-.94L8.5 2.5l-.94 2.06-2.06.94zm10 10l.94 2.06.94-2.06 2.06-.94-2.06-.94-.94-2.06-.94 2.06-2.06.94z\"/><path d=\"M17.41 7.96l-1.37-1.37c-.4-.4-.92-.59-1.43-.59-.52 0-1.04.2-1.43.59L10.3 9.45l-7.72 7.72c-.78.78-.78 2.05 0 2.83L4 21.41c.39.39.9.59 1.41.59.51 0 1.02-.2 1.41-.59l7.78-7.78 2.81-2.81c.8-.78.8-2.07 0-2.86zM5.41 20L4 18.59l7.72-7.72 1.47 1.35L5.41 20z\"/>\n",
              "  </svg>\n",
              "      </button>\n",
              "      \n",
              "  <style>\n",
              "    .colab-df-container {\n",
              "      display:flex;\n",
              "      flex-wrap:wrap;\n",
              "      gap: 12px;\n",
              "    }\n",
              "\n",
              "    .colab-df-convert {\n",
              "      background-color: #E8F0FE;\n",
              "      border: none;\n",
              "      border-radius: 50%;\n",
              "      cursor: pointer;\n",
              "      display: none;\n",
              "      fill: #1967D2;\n",
              "      height: 32px;\n",
              "      padding: 0 0 0 0;\n",
              "      width: 32px;\n",
              "    }\n",
              "\n",
              "    .colab-df-convert:hover {\n",
              "      background-color: #E2EBFA;\n",
              "      box-shadow: 0px 1px 2px rgba(60, 64, 67, 0.3), 0px 1px 3px 1px rgba(60, 64, 67, 0.15);\n",
              "      fill: #174EA6;\n",
              "    }\n",
              "\n",
              "    [theme=dark] .colab-df-convert {\n",
              "      background-color: #3B4455;\n",
              "      fill: #D2E3FC;\n",
              "    }\n",
              "\n",
              "    [theme=dark] .colab-df-convert:hover {\n",
              "      background-color: #434B5C;\n",
              "      box-shadow: 0px 1px 3px 1px rgba(0, 0, 0, 0.15);\n",
              "      filter: drop-shadow(0px 1px 2px rgba(0, 0, 0, 0.3));\n",
              "      fill: #FFFFFF;\n",
              "    }\n",
              "  </style>\n",
              "\n",
              "      <script>\n",
              "        const buttonEl =\n",
              "          document.querySelector('#df-f7df51a6-46d3-4014-8641-e6fdeefaf073 button.colab-df-convert');\n",
              "        buttonEl.style.display =\n",
              "          google.colab.kernel.accessAllowed ? 'block' : 'none';\n",
              "\n",
              "        async function convertToInteractive(key) {\n",
              "          const element = document.querySelector('#df-f7df51a6-46d3-4014-8641-e6fdeefaf073');\n",
              "          const dataTable =\n",
              "            await google.colab.kernel.invokeFunction('convertToInteractive',\n",
              "                                                     [key], {});\n",
              "          if (!dataTable) return;\n",
              "\n",
              "          const docLinkHtml = 'Like what you see? Visit the ' +\n",
              "            '<a target=\"_blank\" href=https://colab.research.google.com/notebooks/data_table.ipynb>data table notebook</a>'\n",
              "            + ' to learn more about interactive tables.';\n",
              "          element.innerHTML = '';\n",
              "          dataTable['output_type'] = 'display_data';\n",
              "          await google.colab.output.renderOutput(dataTable, element);\n",
              "          const docLink = document.createElement('div');\n",
              "          docLink.innerHTML = docLinkHtml;\n",
              "          element.appendChild(docLink);\n",
              "        }\n",
              "      </script>\n",
              "    </div>\n",
              "  </div>\n",
              "  "
            ]
          },
          "metadata": {},
          "execution_count": 49
        }
      ]
    },
    {
      "cell_type": "markdown",
      "metadata": {
        "id": "Bve_a_BzyzCg"
      },
      "source": [
        "b) Plot the singular value plot for a single example of the 0 digit (2.5 points)"
      ]
    },
    {
      "cell_type": "code",
      "execution_count": null,
      "metadata": {
        "id": "WvfBbHYqyzCg",
        "colab": {
          "base_uri": "https://localhost:8080/",
          "height": 295
        },
        "outputId": "fcf38a0a-6666-4a07-a7af-4f971a0a04d5"
      },
      "outputs": [
        {
          "output_type": "display_data",
          "data": {
            "text/plain": [
              "<Figure size 432x288 with 1 Axes>"
            ],
            "image/png": "[encoded data removed]"
          },
          "metadata": {
            "needs_background": "light"
          }
        }
      ],
      "source": [
        "# Select an example (over here the first occurance) of the 0 digit\n",
        "example = df[df['label'] == 0].iloc[0, :-1].to_numpy()\n",
        "\n",
        "# Perform singular value decomposition (SVD)\n",
        "U, S, V = np.linalg.svd(example.reshape(28, 28))\n",
        "\n",
        "# Plot singular values\n",
        "plt.plot(np.arange(1, len(S)+1), S, 'bo-')\n",
        "plt.title(\"Singular Value Plot for Example 0 Digit\")\n",
        "plt.xlabel(\"Singular Value Index\")\n",
        "plt.ylabel(\"Singular Value\")\n",
        "plt.show()"
      ]
    },
    {
      "cell_type": "markdown",
      "metadata": {
        "id": "3EC9on8DyzCg"
      },
      "source": [
        "c) Just like we did in class with the image of the boat: By setting some singular values to 0, plot the approximation of an image of a 0 digit next to the original image. (10 points)"
      ]
    },
    {
      "cell_type": "code",
      "execution_count": null,
      "metadata": {
        "id": "BU8znJ7-yzCg",
        "colab": {
          "base_uri": "https://localhost:8080/",
          "height": 216
        },
        "outputId": "26e3625a-72f7-4e53-b139-7b11149ce6d7"
      },
      "outputs": [
        {
          "output_type": "display_data",
          "data": {
            "text/plain": [
              "<Figure size 432x288 with 2 Axes>"
            ],
            "image/png": "[encoded data removed]"
          },
          "metadata": {
            "needs_background": "light"
          }
        }
      ],
      "source": [
        "# Set some singular values to 0\n",
        "num_singular_values = 100 #choice made at random\n",
        "S[num_singular_values:] = 0\n",
        "\n",
        "# Reconstruct the image using the modified SVD\n",
        "approx = U.dot(np.diag(S)).dot(V)\n",
        "\n",
        "# Plot the original and approximated images side by side\n",
        "fig, axs = plt.subplots(1, 2)\n",
        "axs[0].imshow(example.reshape(28, 28), cmap='gray')\n",
        "axs[0].set_title(\"Original Image\")\n",
        "axs[1].imshow(approx, cmap='gray')\n",
        "axs[1].set_title(\"Approximation with {} Singular Values\".format(num_singular_values))\n",
        "plt.show()"
      ]
    },
    {
      "cell_type": "markdown",
      "metadata": {
        "id": "si2YwA6lyzCg"
      },
      "source": [
        "d) Consider the entire dataset as a matrix. Perform SVD and explain why / how you chose a particular rank. Note: you may not be able to run this on the entire dataset in a reasonable amount of time so you may take a small random sample for this and the following questions. (5 points)"
      ]
    },
    {
      "cell_type": "code",
      "execution_count": null,
      "metadata": {
        "id": "Wvy3mgD3yzCg",
        "colab": {
          "base_uri": "https://localhost:8080/",
          "height": 350
        },
        "outputId": "b65108c6-4d1d-49c1-e72e-aaec9a1567bf"
      },
      "outputs": [
        {
          "output_type": "display_data",
          "data": {
            "text/plain": [
              "<Figure size 1080x360 with 2 Axes>"
            ],
            "image/png": "[encoded data removed]"
          },
          "metadata": {
            "needs_background": "light"
          }
        }
      ],
      "source": [
        "#taking a sample of data since session keeps crashing and doing it on cuda seems unnecessary\n",
        "sample_df = df.sample(n=2000, random_state=42)\n",
        "X = sample_df.iloc[:, :-1].values\n",
        "\n",
        "# Compute SVD on the dataset\n",
        "U, S, V = np.linalg.svd(X)\n",
        "\n",
        "# Compute fraction of explained variance\n",
        "total_variance = sum(S ** 2)\n",
        "explained_variance = np.cumsum(S ** 2) / total_variance\n",
        "\n",
        "fig, axs = plt.subplots(1,2, sharex=True, figsize = (15,5))\n",
        "# Plot singular values\n",
        "axs[0].plot(np.arange(1, len(S)+1), S, 'bo-')\n",
        "axs[0].set_title(\"Singular Value Plot\")\n",
        "axs[0].set_xlabel(\"Singular Value Index\")\n",
        "axs[0].set_ylabel(\"Singular Value\")\n",
        "\n",
        "# Plot fraction of explained variance as a function of rank\n",
        "axs[1].plot(np.arange(1, len(explained_variance)+1), explained_variance, 'bo-')\n",
        "axs[1].set_title(\"Fraction of Explained Variance\")\n",
        "axs[1].set_xlabel(\"Rank\")\n",
        "axs[1].set_ylabel(\"Fraction of Explained Variance\")\n",
        "plt.show()"
      ]
    },
    {
      "cell_type": "markdown",
      "metadata": {
        "id": "lCEAInoxyzCh"
      },
      "source": [
        "Taken a rank of 50 because that is where the elbow point seems to be for the sample data\n",
        "\n"
      ]
    },
    {
      "cell_type": "markdown",
      "metadata": {
        "id": "okJte396yzCh"
      },
      "source": [
        "e) As in homework 2, using Kmeans on this new dataset, cluster the images from d) using 10 clusters and plot the centroid of each cluster. Note: the centroids should be represented as images. (10 points)"
      ]
    },
    {
      "cell_type": "code",
      "execution_count": null,
      "metadata": {
        "id": "SuI7ImY2yzCh",
        "colab": {
          "base_uri": "https://localhost:8080/",
          "height": 279
        },
        "outputId": "9971b304-6489-4f77-c1aa-0680190b46e2"
      },
      "outputs": [
        {
          "output_type": "stream",
          "name": "stdout",
          "text": [
            "Clustering accuracy on reconstructed dataset: 0.038\n"
          ]
        },
        {
          "output_type": "display_data",
          "data": {
            "text/plain": [
              "<Figure size 720x288 with 10 Axes>"
            ],
            "image/png": "[encoded data removed]"
          },
          "metadata": {
            "needs_background": "light"
          }
        }
      ],
      "source": [
        "# Choose a rank to reconstruct the data\n",
        "rank = 50\n",
        "\n",
        "# Reconstruct the data using the chosen rank\n",
        "X_approx = U[:, :rank] @ np.diag(S[:rank]) @ V[:rank, :]\n",
        "\n",
        "# Perform k-means clustering on the reconstructed data\n",
        "kmeans = KMeans(n_clusters=10, random_state=42)\n",
        "labels = kmeans.fit_predict(X_approx)\n",
        "\n",
        "# Evaluate the clustering performance using the true labels\n",
        "true_labels = sample_df.iloc[:, -1].values\n",
        "accuracy = np.mean(labels == true_labels)\n",
        "print(f'Clustering accuracy on reconstructed dataset: {accuracy:.3f}')\n",
        "\n",
        "\n",
        "# Plot the centroids\n",
        "centroids = kmeans.cluster_centers_.reshape((-1, 28, 28))\n",
        "fig, axs = plt.subplots(nrows=2, ncols=5, figsize=(10, 4))\n",
        "for i, ax in enumerate(axs.flat):\n",
        "    ax.imshow(centroids[i], cmap='gray')\n",
        "    ax.set_title(f'Centroid {i}')\n",
        "    ax.axis('off')\n",
        "plt.tight_layout\n",
        "plt.show()"
      ]
    },
    {
      "cell_type": "markdown",
      "source": [
        "NOTE: output shown here is not unique, may vary due to random sampling."
      ],
      "metadata": {
        "id": "QkSlMxuY9Xbi"
      }
    },
    {
      "cell_type": "markdown",
      "metadata": {
        "id": "j-RohnJfyzCh"
      },
      "source": [
        "f) Repeat e) on the original dataset (if you used a subset of the dataset, keep using that same subset). Comment on any differences (or lack thereof) you observe between the centroids. (5 points)"
      ]
    },
    {
      "cell_type": "code",
      "execution_count": null,
      "metadata": {
        "id": "1IybUqkjyzCh",
        "colab": {
          "base_uri": "https://localhost:8080/",
          "height": 279
        },
        "outputId": "98819d36-5d43-479a-db1b-bf5842f0bb5e"
      },
      "outputs": [
        {
          "output_type": "stream",
          "name": "stdout",
          "text": [
            "Clustering accuracy on orginal sample of dataset: 0.038\n"
          ]
        },
        {
          "output_type": "display_data",
          "data": {
            "text/plain": [
              "<Figure size 720x288 with 10 Axes>"
            ],
            "image/png": "[encoded data removed]"
          },
          "metadata": {
            "needs_background": "light"
          }
        }
      ],
      "source": [
        "# Perform k-means clustering on original data\n",
        "kmeans_original = KMeans(n_clusters=10, random_state=42)\n",
        "labels_original = kmeans.fit_predict(X)\n",
        "\n",
        "# Evaluate the clustering performance using the true labels\n",
        "accuracy_original = np.mean(labels_original == true_labels)\n",
        "print(f'Clustering accuracy on orginal sample of dataset: {accuracy:.3f}')\n",
        "\n",
        "\n",
        "# Plot the centroids\n",
        "centroids = kmeans.cluster_centers_.reshape((-1, 28, 28))\n",
        "fig, axs = plt.subplots(nrows=2, ncols=5, figsize=(10, 4))\n",
        "for i, ax in enumerate(axs.flat):\n",
        "    ax.imshow(centroids[i], cmap='gray')\n",
        "    ax.set_title(f'Centroid {i}')\n",
        "    ax.axis('off')\n",
        "plt.tight_layout\n",
        "plt.show()"
      ]
    },
    {
      "cell_type": "markdown",
      "metadata": {
        "id": "ei4Tb7nmyzCh"
      },
      "source": [
        "We can see that we have the same accuracy on the orignal and reconstructed dataset; we chose the correct rank, SVD preserves important data information"
      ]
    },
    {
      "cell_type": "markdown",
      "source": [
        "*NOTE:* output shown here is not unique, may vary due to random sampling. But should be close to the output in prev question."
      ],
      "metadata": {
        "id": "yEHSN_iY89kA"
      }
    },
    {
      "cell_type": "markdown",
      "metadata": {
        "id": "PR1bReD8yzCh"
      },
      "source": [
        "g) Create a matrix (let's call it `O`) that is the difference between the original dataset and the rank-10 approximation of the dataset. (5 points)"
      ]
    },
    {
      "cell_type": "code",
      "execution_count": null,
      "metadata": {
        "id": "5hRZIcVOyzCh",
        "colab": {
          "base_uri": "https://localhost:8080/"
        },
        "outputId": "9b1dad62-6e50-40cf-8b5a-f970e24fa312"
      },
      "outputs": [
        {
          "output_type": "stream",
          "name": "stdout",
          "text": [
            "[[-3.27735701e-14 -9.85992138e-13 -3.74066928e-13 ...  0.00000000e+00\n",
            "   0.00000000e+00  0.00000000e+00]\n",
            " [ 2.69095838e-15 -4.36753485e-13 -6.61907760e-14 ...  0.00000000e+00\n",
            "   0.00000000e+00  0.00000000e+00]\n",
            " [ 5.86873252e-15 -4.94117621e-13  7.23493442e-14 ...  0.00000000e+00\n",
            "   0.00000000e+00  0.00000000e+00]\n",
            " ...\n",
            " [-3.69755742e-15 -4.69187664e-13 -2.71354394e-13 ...  0.00000000e+00\n",
            "   0.00000000e+00  0.00000000e+00]\n",
            " [ 7.28047637e-15 -8.60966663e-13  1.90706320e-13 ...  0.00000000e+00\n",
            "   0.00000000e+00  0.00000000e+00]\n",
            " [ 1.87428767e-15 -1.51822896e-13  1.20635806e-13 ...  0.00000000e+00\n",
            "   0.00000000e+00  0.00000000e+00]]\n"
          ]
        }
      ],
      "source": [
        "rank = 10\n",
        "X_approx = U[:, :rank] @ np.diag(S[:rank]) @ V[:rank, :]\n",
        "\n",
        "# Compute the difference matrix\n",
        "O = X - X_approx\n",
        "print(O)"
      ]
    },
    {
      "cell_type": "markdown",
      "metadata": {
        "id": "_2XDsOCfyzCh"
      },
      "source": [
        "h) The largest (using euclidean distance from the origin) rows of the matrix `O` could be considered anomalous data points. Briefly explain why. Plot the 10 images responsible for the 10 largest rows of that matrix `O`. (10 points)"
      ]
    },
    {
      "cell_type": "code",
      "execution_count": null,
      "metadata": {
        "id": "A02xurKvyzCi",
        "colab": {
          "base_uri": "https://localhost:8080/",
          "height": 299
        },
        "outputId": "a2075273-7b38-4f06-8047-e98afa9b49e4"
      },
      "outputs": [
        {
          "output_type": "display_data",
          "data": {
            "text/plain": [
              "<Figure size 720x288 with 10 Axes>"
            ],
            "image/png": "[encoded data removed]"
          },
          "metadata": {
            "needs_background": "light"
          }
        }
      ],
      "source": [
        "# Compute the row-wise Euclidean norm of O\n",
        "norm_O = np.linalg.norm(O, axis=1)\n",
        "\n",
        "# Get the indices of the 10 largest norm values\n",
        "largest_indices = norm_O.argsort()[-10:][::-1]\n",
        "\n",
        "# Get the corresponding rows from the original dataset\n",
        "largest_rows = X[largest_indices]\n",
        "\n",
        "# Plot the largest rows as images\n",
        "fig, axs = plt.subplots(nrows=2, ncols=5, figsize=(10, 4))\n",
        "for i, ax in enumerate(axs.flat):\n",
        "    ax.imshow(largest_rows[i].reshape(28, 28), cmap='gray')\n",
        "    ax.set_title(f'Anomalous sample {i}')\n",
        "    ax.axis('off')\n",
        "plt.tight_layout()\n",
        "plt.show()"
      ]
    },
    {
      "cell_type": "markdown",
      "metadata": {
        "id": "uB3fud4GyzCi"
      },
      "source": [
        "The largest rows of the matrix O can be considered anomalous data points because they represent the samples that are farthest from the low-rank approximation. In other words, these are the samples that deviate the most from the subspace spanned by the top singular vectors, which capture most of the information in the dataset. Such samples may represent outliers or noise in the dataset, or they may have different characteristics that are not captured by the low-rank approximation."
      ]
    },
    {
      "cell_type": "markdown",
      "source": [
        "*NOTE:* output shown here is not unique, may vary due to random sampling."
      ],
      "metadata": {
        "id": "E6wkaDjY8swX"
      }
    },
    {
      "cell_type": "code",
      "source": [
        "#Alternate method\n",
        "def euclid_dist(x, y):\n",
        "    return np.sqrt(np.sum((x-y)**2))\n",
        "\n",
        "#Plot the 10 images responsible for the 10 largest rows of O\n",
        "fig, axs = plt.subplots(2, 5, figsize=(10, 5))\n",
        "\n",
        "X_df_subset['euclid_dist'] = O.apply(lambda x: euclid_dist(x, np.zeros(len(x))), axis=1)\n",
        "\n",
        "top_10_X_df = X_df_subset.sort_values(by='euclid_dist', ascending=False).head(10)\n",
        "\n",
        "#get rid of the euclid_dist column\n",
        "top_10_X_df = top_10_X_df.drop(columns=['euclid_dist'])\n",
        "\n",
        "for i in range(10):\n",
        "    axs[i//5, i%5].imshow(top_10_X_df.iloc[i].values.reshape(28, 28))\n",
        "    axs[i//5, i%5].axis('off')\n",
        "\n",
        "plt.show()"
      ],
      "metadata": {
        "id": "T8EFQ2K85sqa"
      },
      "execution_count": null,
      "outputs": []
    },
    {
      "cell_type": "markdown",
      "metadata": {
        "id": "SU1RFk6KyzCi"
      },
      "source": [
        "## Exercise 3 (25pts)\n",
        "\n",
        "For this question we will re-use the \"mnist_784\" dataset.\n",
        "\n",
        "a) Begin by creating a training and testing datasest from our dataset, with a 80-20 ratio, and random_state=1. You can use the `train_test_split` function from sklearn. By holding out a portion of the dataset we can evaluate how our model generalizes to unseen data (i.e. data it did not learn from). **- 2 Points**"
      ]
    },
    {
      "cell_type": "code",
      "execution_count": null,
      "metadata": {
        "id": "nCH8R8MfyzCi"
      },
      "outputs": [],
      "source": [
        "from sklearn.model_selection import train_test_split\n",
        "from sklearn.neighbors import KNeighborsClassifier\n",
        "import matplotlib.pyplot as plt\n",
        "from tqdm import tqdm\n",
        "import pandas as pd\n",
        "import numpy as np\n",
        "from sklearn.decomposition import PCA\n",
        "from sklearn.pipeline import make_pipeline"
      ]
    },
    {
      "cell_type": "code",
      "source": [
        "df = pd.read_csv('mnist_784.csv')\n",
        "X = df.iloc[:, :-1].values\n",
        "y = df.iloc[:, -1].values"
      ],
      "metadata": {
        "id": "_sqbyU6mYfki"
      },
      "execution_count": null,
      "outputs": []
    },
    {
      "cell_type": "code",
      "source": [
        "X_train, X_test, y_train, y_test = train_test_split(X, y, test_size=0.2, random_state=1)"
      ],
      "metadata": {
        "id": "zyXwmicIYr__"
      },
      "execution_count": null,
      "outputs": []
    },
    {
      "cell_type": "markdown",
      "metadata": {
        "id": "D4rp0GaiyzCi"
      },
      "source": [
        "b) For K ranging from 1 to 20:\n",
        "\n",
        "1. train a KNN on the training data - **2 points**\n",
        "2. record the training and testing accuracy - **2 points**\n",
        "\n",
        "Plot a graph of the training and testing set accuracy as a function of the number of neighbors K (on the same plot). Which value of K is optimal? Briefly explain.  **- 4 points**"
      ]
    },
    {
      "cell_type": "code",
      "execution_count": null,
      "metadata": {
        "id": "TPwZQZwoyzCi",
        "colab": {
          "base_uri": "https://localhost:8080/",
          "height": 296
        },
        "outputId": "1a394992-2bbe-4880-8fd9-0ae1b5566bde"
      },
      "outputs": [
        {
          "output_type": "stream",
          "name": "stderr",
          "text": [
            "100%|██████████| 20/20 [1:00:59<00:00, 182.97s/it]\n"
          ]
        },
        {
          "output_type": "display_data",
          "data": {
            "text/plain": [
              "<Figure size 432x288 with 1 Axes>"
            ],
            "image/png": "[encoded data removed]"
          },
          "metadata": {
            "needs_background": "light"
          }
        }
      ],
      "source": [
        "#from sklearn.neighbors import KNeighborsClassifier <---- imported the library at the start of the question\n",
        "\n",
        "\n",
        "train_accs = []\n",
        "test_accs = []\n",
        "\n",
        "# try K values from 1 to 20\n",
        "for k in tqdm(range(1, 21)):\n",
        "    knn = KNeighborsClassifier(n_neighbors=k)\n",
        "    knn.fit(X_train, y_train)\n",
        "    train_acc = knn.score(X_train, y_train)\n",
        "    test_acc = knn.score(X_test, y_test)\n",
        "    train_accs.append(train_acc)\n",
        "    test_accs.append(test_acc)\n",
        "\n",
        "# plot the accuracy as a function of K\n",
        "plt.plot(range(1, 21), train_accs, label='Training accuracy')\n",
        "plt.plot(range(1, 21), test_accs, label='Testing accuracy')\n",
        "plt.xlabel('K')\n",
        "plt.ylabel('Accuracy')\n",
        "plt.legend()\n",
        "plt.show()"
      ]
    },
    {
      "cell_type": "markdown",
      "source": [
        "Looking at the graph, we can see that the testing accuracy is highest for K=3, and the training accuracy decreases as K increases. This suggests that K=3 is the optimal value of K for this dataset, as it gives good performance on the testing set while avoiding overfitting."
      ],
      "metadata": {
        "id": "mZJK-8arof7b"
      }
    },
    {
      "cell_type": "markdown",
      "metadata": {
        "id": "2D-AHPOWyzCi"
      },
      "source": [
        "c) Using the best model from b), pick an image at random and plot it next to its K nearest neighbors (5pts)"
      ]
    },
    {
      "cell_type": "code",
      "execution_count": null,
      "metadata": {
        "id": "1zTwRNR5yzCi",
        "colab": {
          "base_uri": "https://localhost:8080/",
          "height": 185
        },
        "outputId": "fd3065d7-0312-40a0-bab1-d4b44e2e13bb"
      },
      "outputs": [
        {
          "output_type": "display_data",
          "data": {
            "text/plain": [
              "<Figure size 720x360 with 4 Axes>"
            ],
            "image/png": "[encoded data removed]"
          },
          "metadata": {
            "needs_background": "light"
          }
        }
      ],
      "source": [
        "# train a KNN model with K=3\n",
        "knn = KNeighborsClassifier(n_neighbors=3)\n",
        "knn.fit(X_train, y_train)\n",
        "\n",
        "# choose a random image from the testing set\n",
        "random_index = np.random.randint(len(X_test))\n",
        "random_image = X_test[random_index].reshape(28, 28)\n",
        "\n",
        "# find the K nearest neighbors of the random image\n",
        "_, indices = knn.kneighbors([X_test[random_index]])\n",
        "neighbor_images = X_train[indices[0]].reshape(-1, 28, 28)\n",
        "\n",
        "# plot the random image and its K nearest neighbors\n",
        "plt.figure(figsize=(10, 5))\n",
        "plt.subplot(1, 4, 1)\n",
        "plt.imshow(random_image, cmap='gray')\n",
        "plt.title('Random image')\n",
        "for i in range(3):\n",
        "    plt.subplot(1, 4, i+2)\n",
        "    plt.imshow(neighbor_images[i], cmap='gray')\n",
        "    plt.title(f'Neighbor {i+1}')\n",
        "plt.show()"
      ]
    },
    {
      "cell_type": "markdown",
      "source": [
        "*NOTE:* output may vary due to choices made in picking k and plotting"
      ],
      "metadata": {
        "id": "KidjmGPIFcoT"
      }
    },
    {
      "cell_type": "markdown",
      "metadata": {
        "id": "ttuO_YR5yzCj"
      },
      "source": [
        "d) Using a dimensionality reduction technique discussed in class, reduce the dimensionality of the dataset before applying a KNN model. Repeat b) and discuss similarities and differences to the previous model. Briefly discuss your choice of dimension and why you think the performance / accuracy of the model has changed. (10 points)"
      ]
    },
    {
      "cell_type": "code",
      "execution_count": null,
      "metadata": {
        "id": "Gyai6QRvyzCj",
        "colab": {
          "base_uri": "https://localhost:8080/",
          "height": 296
        },
        "outputId": "0bbff398-df25-40e3-e420-a847ff6a4c30"
      },
      "outputs": [
        {
          "output_type": "stream",
          "name": "stderr",
          "text": [
            "100%|██████████| 20/20 [11:17<00:00, 33.90s/it]\n"
          ]
        },
        {
          "output_type": "display_data",
          "data": {
            "text/plain": [
              "<Figure size 432x288 with 1 Axes>"
            ],
            "image/png": "[encoded data removed]"
          },
          "metadata": {
            "needs_background": "light"
          }
        }
      ],
      "source": [
        "#from sklearn.pipeline import make_pipeline <---- imported the library at the start of the question\n",
        "\n",
        "\"\"\"\n",
        "Basic code for this question\n",
        "\n",
        "model = make_pipeline(PCA(n_components=50), KNeighborsClassifier(n_neighbors=3))\n",
        "model.fit(X_train, y_train) \n",
        "\n",
        "\"\"\"\n",
        "\n",
        "train_accs = []\n",
        "test_accs = []\n",
        "\n",
        "for k in tqdm(range(1, 21)):\n",
        "    model = make_pipeline(PCA(n_components=50), KNeighborsClassifier(n_neighbors=k))\n",
        "    model.fit(X_train, y_train)\n",
        "    train_acc = model.score(X_train, y_train)\n",
        "    test_acc = model.score(X_test, y_test)\n",
        "    train_accs.append(train_acc)\n",
        "    test_accs.append(test_acc)\n",
        "\n",
        "# plot the accuracy as a function of K\n",
        "plt.plot(range(1, 21), train_accs, label='Training accuracy')\n",
        "plt.plot(range(1, 21), test_accs, label='Testing accuracy')\n",
        "plt.xlabel('K')\n",
        "plt.ylabel('Accuracy')\n",
        "plt.legend()\n",
        "plt.show()"
      ]
    },
    {
      "cell_type": "markdown",
      "metadata": {
        "id": "sz9rwky7yzCj"
      },
      "source": [
        "\n",
        "\n",
        "*   Improved computational complexity\n",
        "*   Improved accuracy (at best K, ie K=3)\n",
        "\n",
        "\n",
        "The choice of 50 components for the PCA model is somewhat arbitrary. \n",
        "The performance of the model may have changed because the PCA model reduces the dimensionality of the data by projecting it onto a lower-dimensional subspace. This can sometimes help to reduce noise and extract meaningful features from the data."
      ]
    },
    {
      "cell_type": "markdown",
      "metadata": {
        "id": "Eu-ws9v3yzCj"
      },
      "source": [
        "## Bonus (20 points)\n",
        "\n",
        "Complete the code below to support N-dimensional GMM clustering. Only use the methods imported below. Please take a look at the comments and docstrings for more info."
      ]
    },
    {
      "cell_type": "code",
      "source": [
        "import warnings\n",
        "warnings.filterwarnings(\"ignore\")"
      ],
      "metadata": {
        "id": "51x5m5Pwko3Z"
      },
      "execution_count": null,
      "outputs": []
    },
    {
      "cell_type": "code",
      "execution_count": null,
      "metadata": {
        "id": "YnJyoGC-yzCj",
        "colab": {
          "base_uri": "https://localhost:8080/",
          "height": 281
        },
        "outputId": "71fbf3c8-b2b0-4b40-87ae-467cc44d455b"
      },
      "outputs": [
        {
          "output_type": "display_data",
          "data": {
            "text/plain": [
              "<Figure size 432x288 with 1 Axes>"
            ],
            "image/png": "[encoded data removed]"
          },
          "metadata": {
            "needs_background": "light"
          }
        }
      ],
      "source": [
        "from numpy import array, argmax\n",
        "import matplotlib.pyplot as plt\n",
        "from sklearn.cluster import KMeans\n",
        "from scipy.stats import multivariate_normal as sc_multivariate_normal\n",
        "from numpy.random import multivariate_normal, uniform\n",
        "\n",
        "\n",
        "#mark changes here - class definied\n",
        "class Component:\n",
        "    def __init__(self, weight, mean, cov):\n",
        "        self.weight = weight\n",
        "        self.mean = mean\n",
        "        self.cov = cov  \n",
        "\n",
        "\n",
        "nd_gmm = [\n",
        "    Component(.25, [-1, 1], [[1, 0], [0, 1]]),\n",
        "    Component(.50, [0, 0], [[1, 0], [0, 1]]),\n",
        "    Component(.25, [1, 1], [[1, 0], [0, 1]])\n",
        "]\n",
        "\n",
        "def generate_nd_gmm_dataset(gmm_params, size):\n",
        "    if not is_valid_nd_gmm(gmm_params):\n",
        "        raise ValueError(\"GMM parameters are invalid\")\n",
        "    \n",
        "    dataset = []\n",
        "    for _ in range(size):\n",
        "        comp = get_random_component(gmm_params)\n",
        "        dataset += [multivariate_normal(comp.mean, comp.cov)] #mark changes here\n",
        "    return array(dataset) # this should be a numpy array instead of a list   #mark changes here\n",
        "\n",
        "\n",
        "def is_valid_nd_gmm(gmm_params):\n",
        "    '''\n",
        "        Check that all the dimensions are consistent\n",
        "        accross all components\n",
        "    '''\n",
        "    dimensions = len(gmm_params[0].mean)  #mark changes from here\n",
        "    for comp in gmm_params:\n",
        "        if len(comp.mean) != dimensions or array(comp.cov).shape != (dimensions, dimensions):\n",
        "            return False\n",
        "    return is_valid_gmm(gmm_params)# checks if mixture components add to 1\n",
        "\n",
        "#mark changes here - new function defined - reusing from a)\n",
        "def is_valid_gmm(gmm_params):\n",
        "    '''\n",
        "        Check that the weights add up to 1\n",
        "    '''\n",
        "    return abs(sum([comp.weight for comp in gmm_params]) - 1) < 1e-6\n",
        "\n",
        "#mark changes here - new function defined - reusing from a)\n",
        "def get_random_component(gmm_params):\n",
        "    '''\n",
        "        Randomly pick a component according to its weight\n",
        "    '''\n",
        "    r = uniform()\n",
        "    total = 0\n",
        "    for comp in gmm_params:\n",
        "        total += comp.weight\n",
        "        if r <= total:\n",
        "            return comp\n",
        "    return gmm_params[-1]\n",
        "\n",
        "\n",
        "def gmm_nd_init(k, dataset):\n",
        "    kmeans = KMeans(k, init='k-means++').fit(dataset) #mark changes from here\n",
        "    gmm_params = []\n",
        "    for j in range(k):\n",
        "        p_cj = sum([1 if kmeans.labels_[i] == j else 0 for i in range(len(dataset))]) / len(dataset)\n",
        "        mean_j = sum([dataset[i] for i in range(len(dataset)) if kmeans.labels_[i] == j]) / sum([1 if kmeans.labels_[i] == j else 0 for i in range(len(dataset))])\n",
        "        var_j = sum([(dataset[i] - mean_j).reshape(-1, 1) * (dataset[i] - mean_j).reshape(1, -1) for i in range(len(dataset)) if kmeans.labels_[i] == j]) / sum([1 if kmeans.labels_[i] == j else 0 for i in range(len(dataset))])\n",
        "        gmm_params.append(Component(p_cj, mean_j, var_j))\n",
        "\n",
        "    return gmm_params\n",
        "\n",
        "\n",
        "def compute_nd_gmm(k, dataset, probs):\n",
        "    '''\n",
        "        Compute P(C_j), mean_j, var_j\n",
        "\n",
        "        Here mean_j is a vector and var_j is a matrix\n",
        "    '''\n",
        "    gmm_params = []\n",
        "    for j in range(k): #mark changed from here\n",
        "        p_cj = sum([probs[i][j] for i in range(len(dataset))]) / len(dataset)\n",
        "        mean_j = sum([probs[i][j] * dataset[i] for i in range(len(dataset))]) / sum([probs[i][j] for i in range(len(dataset))])\n",
        "        var_j = sum([probs[i][j] * (dataset[i] - mean_j).reshape(-1, 1) * (dataset[i] - mean_j).reshape(1, -1) for i in range(len(dataset))]) / sum([probs[i][j] for i in range(len(dataset))])\n",
        "\n",
        "        gmm_params += [Component(p_cj, mean_j, var_j)]\n",
        "\n",
        "    return gmm_params\n",
        "\n",
        "\n",
        "\n",
        "def compute_nd_probs(k, dataset, gmm_params):\n",
        "    '''\n",
        "        For all x_i in dataset, compute P(C_j | X_i)\n",
        "        = P(X_i | C_j)P(C_j) / P(X_i) for all C_j\n",
        "        return the list of lists of all P(C_j | X_i)\n",
        "        for all x_i in dataset.\n",
        "        \n",
        "        Here x_i are vectors\n",
        "    '''\n",
        "    probs = []\n",
        "     #mark changes from here\n",
        "    #assert all(isinstance(comp, dict) and 'mean' in comp and 'cov' in comp and isinstance(comp['mean'], np.ndarray) and isinstance(comp['cov'], np.ndarray) for comp in gmm_params), \"Invalid format for GMM component parameters\"\n",
        "\n",
        "    for i in range(len(dataset)):\n",
        "        p_cj_xi = []\n",
        "        for j in range(k):\n",
        "            p_cj_xi += [gmm_params[j].weight * sc_multivariate_normal.pdf(dataset[i], gmm_params[j].mean, gmm_params[j].cov)]\n",
        "        p_cj_xi = p_cj_xi / sum(p_cj_xi)\n",
        "        probs += [p_cj_xi]\n",
        "\n",
        "    return probs\n",
        "\n",
        "\n",
        "def expectation_maximization_nd(k, dataset, iterations):\n",
        "    '''\n",
        "        Repeat for a set number of iterations.\n",
        "    '''\n",
        "    gmm_params = gmm_nd_init(k, dataset)\n",
        "    for _ in range(iterations):\n",
        "        # expectation step\n",
        "        probs = compute_nd_probs(k, dataset, gmm_params)\n",
        "\n",
        "        # maximization step\n",
        "        gmm_params = compute_nd_gmm(k, dataset, probs)\n",
        "\n",
        "    return probs, gmm_params\n",
        "\n",
        "\n",
        "#defining new variable for ease of testing code\n",
        "n_clust = 2\n",
        "sample_size = 100\n",
        "\n",
        "data = generate_nd_gmm_dataset(nd_gmm, sample_size)\n",
        "probs, gmm_p = expectation_maximization_nd(n_clust, data, 3)\n",
        "labels = [argmax(array(p)) for p in probs] # create a hard assignment\n",
        "size = 50 * array(probs).max(1) ** 2\n",
        "plt.scatter(data[:, 0], data[:, 1], c=labels, cmap='viridis', s=size)\n",
        "plt.title('GMM with {} clusters and {} samples'.format(n_clust, sample_size)) #adding title to graph\n",
        "plt.show()"
      ]
    },
    {
      "cell_type": "code",
      "source": [
        "#extra: not to be graded on basis of this\n",
        "\n",
        "\n",
        "import numpy as np\n",
        "#defining new variable for ease of testing code\n",
        "n_clust = 5\n",
        "sample_size = 500\n",
        "\n",
        "data = generate_nd_gmm_dataset(nd_gmm, sample_size)\n",
        "probs, gmm_p = expectation_maximization_nd(n_clust, data, 3)\n",
        "labels = [argmax(array(p)) for p in probs] # create a hard assignment\n",
        "size = 50 * array(probs).max(1) ** 2\n",
        "plt.scatter(data[:, 0], data[:, 1], c=labels, cmap='viridis', s=size)\n",
        "\n",
        "for i in range(n_clust):\n",
        "    cluster_color = plt.cm.viridis(i/n_clust)\n",
        "    plt.scatter(gmm_p[i].mean[0], gmm_p[i].mean[1], color=cluster_color, marker='x')\n",
        "    \n",
        "    plt.gca().add_artist(plt.Circle(gmm_p[i].mean, np.sqrt(gmm_p[i].cov[0][0]),   color=cluster_color, fill=False))\n",
        "    plt.gca().add_artist(plt.Circle(gmm_p[i].mean, np.sqrt(gmm_p[i].cov[0][0])*2, color=cluster_color, fill=False, linestyle='dashed'))\n",
        "\n",
        "#NOTE: added title to make it clearer\n",
        "plt.title('GMM with {} clusters and {} samples'.format(n_clust, sample_size))\n",
        "plt.show()"
      ],
      "metadata": {
        "colab": {
          "base_uri": "https://localhost:8080/",
          "height": 281
        },
        "id": "g9sOMTshkUUb",
        "outputId": "396ae21b-3310-4a4f-97fc-5eb53d78bf2f"
      },
      "execution_count": null,
      "outputs": [
        {
          "output_type": "display_data",
          "data": {
            "text/plain": [
              "<Figure size 432x288 with 1 Axes>"
            ],
            "image/png": "[encoded data removed]"
          },
          "metadata": {
            "needs_background": "light"
          }
        }
      ]
    }
  ],
  "metadata": {
    "kernelspec": {
      "display_name": "Python 3",
      "language": "python",
      "name": "python3"
    },
    "language_info": {
      "codemirror_mode": {
        "name": "ipython",
        "version": 3
      },
      "file_extension": ".py",
      "mimetype": "text/x-python",
      "name": "python",
      "nbconvert_exporter": "python",
      "pygments_lexer": "ipython3",
      "version": "3.11.1"
    },
    "orig_nbformat": 4,
    "vscode": {
      "interpreter": {
        "hash": "e7370f93d1d0cde622a1f8e1c04877d8463912d04d973331ad4851f04de6915a"
      }
    },
    "colab": {
      "provenance": []
    }
  },
  "nbformat": 4,
  "nbformat_minor": 0
}
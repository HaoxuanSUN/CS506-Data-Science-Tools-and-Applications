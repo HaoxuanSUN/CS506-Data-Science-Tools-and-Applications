{
 "cells": [
  {
   "cell_type": "code",
   "execution_count": 16,
   "metadata": {},
   "outputs": [],
   "source": [
    "import pandas as pd\n",
    "from sklearn.preprocessing import MinMaxScaler\n",
    "from sklearn.feature_extraction.text import TfidfVectorizer\n",
    "from textblob import TextBlob\n",
    "\n",
    "def process(df):\n",
    "    # This is where you can do all your processing\n",
    "\n",
    "#     df['Helpfulness'] = df['HelpfulnessNumerator'] / df['HelpfulnessDenominator']\n",
    "#     df['Helpfulness'] = df['Helpfulness'].fillna(0)\n",
    "    df['ReviewLength'] = df.apply(lambda row : len(row['Text'].split()) if type(row['Text']) == str else 0, axis = 1)\n",
    "\n",
    "#     # Perform TF-IDF feature extraction on the 'Summary' column\n",
    "#     df['Summary'] = df['Summary'].fillna('')\n",
    "#     tfidf_vectorizer = TfidfVectorizer(max_features=500, min_df=10, stop_words='english', ngram_range=(1,3))\n",
    "#     summary_tfidf = tfidf_vectorizer.fit_transform(df['Summary'])\n",
    "#     summary_tfidf_df = pd.DataFrame(summary_tfidf.toarray(), columns=tfidf_vectorizer.get_feature_names_out())\n",
    "    \n",
    "#     # Perform TF-IDF feature extraction on the 'Text' column\n",
    "#     df['Text'] = df['Text'].fillna('')\n",
    "#     tfidf_vectorizer = TfidfVectorizer(max_features=700, min_df=20, stop_words='english', ngram_range=(1,3))\n",
    "#     text_tfidf = tfidf_vectorizer.fit_transform(df['Text'])\n",
    "#     text_tfidf_df = pd.DataFrame(text_tfidf.toarray(), columns=tfidf_vectorizer.get_feature_names_out())\n",
    "    \n",
    "#     # show tfidf score\n",
    "#     tfidf_df = {'word': tfidf_vectorizer.get_feature_names_out(),\n",
    "#              'tfidf': summary_tfidf.toarray().sum(axis=0).tolist()}\n",
    "#     df_tfidf = pd.DataFrame(data1).sort_values(by=\"tfidf\" ,ascending=False,ignore_index=True) \n",
    "#     df_tfidf.head(10)\n",
    "    \n",
    "#     df = pd.concat([df, summary_tfidf_df, text_tfidf_df], axis=1)\n",
    "    \n",
    "    # Add sentiment analysis using TextBlob\n",
    "    df['Summary_sentiment_polarity'] = df['Summary'].apply(lambda x: TextBlob(str(x)).sentiment.polarity)\n",
    "    df['Summary_sentiment_subjectivity'] = df['Summary'].apply(lambda x: TextBlob(str(x)).sentiment.subjectivity)\n",
    "    df['Text_sentiment_polarity'] = df['Text'].apply(lambda x: TextBlob(str(x)).sentiment.polarity)\n",
    "    df['Text_sentiment_subjectivity'] = df['Text'].apply(lambda x: TextBlob(str(x)).sentiment.subjectivity)\n",
    "    \n",
    "    scaler = MinMaxScaler()\n",
    "    df['Summary_sentiment_polarity_normalized'] = scaler.fit_transform(df[['Summary_sentiment_polarity']])\n",
    "    df['Text_sentiment_polarity_normalized'] = scaler.fit_transform(df[['Text_sentiment_polarity']])\n",
    "    df['Time_normalized'] = scaler.fit_transform(df[['Time']])\n",
    "    \n",
    "    # Dropping columns\n",
    "    df = df.drop(['Summary_sentiment_polarity', 'Text_sentiment_polarity'], axis=1)\n",
    "    \n",
    "    return df"
   ]
  },
  {
   "cell_type": "markdown",
   "metadata": {},
   "source": [
    "## Creating your model"
   ]
  },
  {
   "cell_type": "code",
   "execution_count": 17,
   "metadata": {},
   "outputs": [],
   "source": [
    "# Load the dataset\n",
    "trainingSet = pd.read_csv(\"./data/train.csv\")\n",
    "\n",
    "# Process the DataFrame\n",
    "train_processed = process(trainingSet)\n",
    "\n",
    "# Load test set\n",
    "submissionSet = pd.read_csv(\"./data/test.csv\")\n",
    "\n",
    "# Merge on Id so that the test set can have feature columns as well\n",
    "testX= pd.merge(train_processed, submissionSet, left_on='Id', right_on='Id')\n",
    "testX = testX.drop(columns=['Score_x'])\n",
    "testX = testX.rename(columns={'Score_y': 'Score'})\n",
    "\n",
    "# The training set is where the score is not null\n",
    "# This line creates a new DataFrame called trainX by selecting only the rows in train_processed \n",
    "#     where the \"Score\" column is not null. \n",
    "# This assumes that the \"Score\" column is the target variable that we want to predict.\n",
    "trainX =  train_processed[train_processed['Score'].notnull()]\n",
    "\n",
    "# Save the datasets with the new features for easy access later\n",
    "testX.to_csv(\"./data/X_test.csv\", index=False)\n",
    "trainX.to_csv(\"./data/X_train.csv\", index=False)"
   ]
  },
  {
   "cell_type": "code",
   "execution_count": 18,
   "metadata": {},
   "outputs": [
    {
     "name": "stdout",
     "output_type": "stream",
     "text": [
      "        HelpfulnessDenominator  ReviewLength  Summary_sentiment_subjectivity  \\\n",
      "115330                       0            35                        0.600000   \n",
      "17624                        2            22                        0.000000   \n",
      "30519                        1            20                        0.000000   \n",
      "8247                       151           819                        0.833333   \n",
      "36131                        1           119                        0.520833   \n",
      "\n",
      "        Text_sentiment_subjectivity  Summary_sentiment_polarity_normalized  \\\n",
      "115330                     0.587963                               0.850000   \n",
      "17624                      0.727778                               0.500000   \n",
      "30519                      0.500000                               0.500000   \n",
      "8247                       0.494893                               0.877778   \n",
      "36131                      0.550829                               0.354167   \n",
      "\n",
      "        Text_sentiment_polarity_normalized  Time_normalized  \n",
      "115330                            0.504167         0.965692  \n",
      "17624                             0.800000         0.931722  \n",
      "30519                             0.625000         0.608247  \n",
      "8247                              0.607059         0.588812  \n",
      "36131                             0.429545         0.902822  \n",
      "        HelpfulnessDenominator  ReviewLength  Summary_sentiment_subjectivity  \\\n",
      "100649                       1            43                        0.750000   \n",
      "35452                        1           106                        0.300000   \n",
      "66518                        1           260                        0.666667   \n",
      "35535                        2           352                        0.100000   \n",
      "123300                      13           354                        0.000000   \n",
      "\n",
      "        Text_sentiment_subjectivity  Summary_sentiment_polarity_normalized  \\\n",
      "100649                     0.498750                               0.900000   \n",
      "35452                      0.627889                               0.650000   \n",
      "66518                      0.480893                               0.583333   \n",
      "35535                      0.430714                               0.500000   \n",
      "123300                     0.534588                               0.500000   \n",
      "\n",
      "        Text_sentiment_polarity_normalized  Time_normalized  \n",
      "100649                            0.738125         0.964678  \n",
      "35452                             0.585778         0.870712  \n",
      "66518                             0.560374         0.273618  \n",
      "35535                             0.596607         0.502282  \n",
      "123300                            0.572984         0.421835  \n"
     ]
    }
   ],
   "source": [
    "import pickle\n",
    "import pandas as pd\n",
    "import seaborn as sns\n",
    "import matplotlib.pyplot as plt\n",
    "from sklearn.neighbors import KNeighborsClassifier\n",
    "from sklearn.model_selection import train_test_split, cross_val_score\n",
    "from sklearn.metrics import accuracy_score, confusion_matrix, mean_squared_error\n",
    "from sklearn.decomposition import PCA\n",
    "\n",
    "# Load training set with new features into DataFrame\n",
    "X_train = pd.read_csv(\"./data/X_train.csv\")\n",
    "\n",
    "# Split training set into training and testing set\n",
    "# X_train and Y_train are the training data (features and target variable)\n",
    "# X_test and Y_test are the validation data (features and target variable)\n",
    "X_train, X_test, Y_train, Y_test = train_test_split(\n",
    "        X_train.drop(['Score'], axis=1),\n",
    "        X_train['Score'],\n",
    "        test_size=1/4.0,\n",
    "        random_state=0\n",
    "    )\n",
    "\n",
    "# This is where you can do more feature selection\n",
    "X_train_processed = X_train.drop(columns=['Id', 'ProductId', 'UserId', 'Text', 'Summary', 'Time','HelpfulnessNumerator'])\n",
    "X_test_processed = X_test.drop(columns=['Id', 'ProductId', 'UserId', 'Text', 'Summary','Time','HelpfulnessNumerator'])\n",
    "print(X_train_processed.head())\n",
    "print(X_test_processed.head())\n",
    "X_train_processed.to_csv(\"./data/X_train_processed.csv\", index=False)\n",
    "X_test_processed.to_csv(\"./data/X_test_processed.csv\", index=False)\n",
    "\n",
    "\n",
    "# # Learn the model\n",
    "# model = KNeighborsClassifier(n_neighbors=20)\n",
    "# # model = model.fit(X_train_processed, Y_train)\n",
    "# # Use 5-fold cross-validation\n",
    "# cross_validation_scores = cross_val_score(model, X_train_processed, Y_train, cv=5)\n",
    "# print(\"Cross-validation scores = \", cross_validation_scores)\n",
    "# print(\"Mean cross-validation score = \", cross_validation_scores.mean())\n",
    "# model = model.fit(X_train_processed, Y_train)\n",
    "\n",
    "\n",
    "    \n",
    "# pickle model - saves it so you can load it later\n",
    "\n",
    "# with open('Tfidf(300,30)-Tfidf(300,50)-LGBM(158)-TextBlob.obj', 'wb') as f:\n",
    "#         pickle.dump(model, f)\n",
    "\n",
    "# to load pickled model: \n",
    "# with open('Tfidf(400,10)-Tfidf(400,10)-LGBM(158)-TextBlob.obj', 'rb') as f:\n",
    "#    model = pickle.load(f)\n"
   ]
  },
  {
   "cell_type": "code",
   "execution_count": 19,
   "metadata": {},
   "outputs": [
    {
     "name": "stdout",
     "output_type": "stream",
     "text": [
      "LogisticRegression: accuracy 0.554\n",
      "MultinomialNB: accuracy 0.487\n"
     ]
    },
    {
     "name": "stderr",
     "output_type": "stream",
     "text": [
      "/Users/haoxuansun/opt/anaconda3/lib/python3.9/site-packages/sklearn/neighbors/_classification.py:228: FutureWarning: Unlike other reduction functions (e.g. `skew`, `kurtosis`), the default behavior of `mode` typically preserves the axis it acts along. In SciPy 1.11.0, this behavior will change: the default value of `keepdims` will become False, the `axis` over which the statistic is taken will be eliminated, and the value None will no longer be accepted. Set `keepdims` to True or False to avoid this warning.\n",
      "  mode, _ = stats.mode(_y[neigh_ind, k], axis=1)\n"
     ]
    },
    {
     "name": "stdout",
     "output_type": "stream",
     "text": [
      "KNeighborsClassifier: accuracy 0.517\n",
      "DecisionTreeClassifier: accuracy 0.442\n",
      "RandomForestClassifier: accuracy 0.558\n",
      "GradientBoostingClassifier: accuracy 0.572\n",
      "LGBMClassifier: accuracy 0.574\n"
     ]
    }
   ],
   "source": [
    "#采用十种模型，对比测试集精度\n",
    "from sklearn.linear_model import LogisticRegression\n",
    "from sklearn.naive_bayes import MultinomialNB\n",
    "from sklearn.neighbors import KNeighborsClassifier\n",
    "from sklearn.tree import DecisionTreeClassifier\n",
    "from sklearn.ensemble import RandomForestClassifier\n",
    "from sklearn.ensemble import GradientBoostingClassifier\n",
    "from xgboost.sklearn import XGBClassifier\n",
    "from lightgbm import LGBMClassifier\n",
    "from sklearn.svm import SVC\n",
    "\n",
    "\n",
    "#逻辑回归\n",
    "model1 =  LogisticRegression(C=1e10,max_iter=10000)\n",
    "#朴素贝叶斯\n",
    "model2 = MultinomialNB()\n",
    "#K近邻\n",
    "model3 = KNeighborsClassifier(n_neighbors=20)\n",
    "#决策树\n",
    "model4 = DecisionTreeClassifier()\n",
    "#随机森林\n",
    "model5= RandomForestClassifier(n_estimators=500,  max_features='sqrt')\n",
    "#梯度提升\n",
    "model6 = GradientBoostingClassifier()\n",
    "#轻量梯度提升\n",
    "model7 = LGBMClassifier(n_estimators=158)\n",
    "model_list=[model1,model2,model3,model4,model5,model6,model7]\n",
    "model_name=['LogisticRegression','MultinomialNB','KNeighborsClassifier','DecisionTreeClassifier','RandomForestClassifier','GradientBoostingClassifier','LGBMClassifier']    \n",
    "# model_list=[model7]\n",
    "# model_name=['LGBMClassifier']\n",
    "scores=[]\n",
    "for i in range(len(model_list)):\n",
    "    model_C=model_list[i]\n",
    "    name=model_name[i]\n",
    "    model_C.fit(X_train_processed, Y_train)\n",
    "    s=model_C.score(X_test_processed, Y_test)\n",
    "    scores.append(s)\n",
    "    print(f'{name}: accuracy {round(s,3)}')\n",
    "\n",
    "# with open('Tfidf(500,10)-Tfidf(700,20)-LGBM(158)-TextBlob.obj', 'wb') as f:\n",
    "#         pickle.dump(model7, f)"
   ]
  },
  {
   "cell_type": "code",
   "execution_count": 8,
   "metadata": {},
   "outputs": [
    {
     "name": "stdout",
     "output_type": "stream",
     "text": [
      "Accuracy on testing set =  0.5623787565590714\n",
      "MSE on testing set =  1.5901733184926061\n"
     ]
    },
    {
     "data": {
      "image/png": "[encoded data removed]",
      "text/plain": [
       "<Figure size 640x480 with 2 Axes>"
      ]
     },
     "metadata": {},
     "output_type": "display_data"
    }
   ],
   "source": [
    "# Evaluate your model on the testing set\n",
    "Y_test_predictions = model7.predict(X_test_processed)\n",
    "print(\"Accuracy on testing set = \", accuracy_score(Y_test, Y_test_predictions))\n",
    "print(\"MSE on testing set = \", mean_squared_error(Y_test, Y_test_predictions))\n",
    "# print(\"RMSE on testing set = \", mean_squared_error(Y_test, Y_test_predictions, squared=False))\n",
    "\n",
    "# Plot a confusion matrix\n",
    "cm = confusion_matrix(Y_test, Y_test_predictions, normalize='true')\n",
    "sns.heatmap(cm, annot=True)\n",
    "plt.title('Confusion matrix of the classifier')\n",
    "plt.xlabel('Predicted')\n",
    "plt.ylabel('True')\n",
    "plt.show()"
   ]
  },
  {
   "cell_type": "markdown",
   "metadata": {},
   "source": [
    "## Create the Kaggle submission"
   ]
  },
  {
   "cell_type": "code",
   "execution_count": 35,
   "metadata": {},
   "outputs": [],
   "source": [
    "X_submission = pd.read_csv(\"./data/X_test.csv\")\n",
    "X_submission_processed = X_submission.drop(columns=['Id', 'ProductId', 'UserId', 'Text', 'Summary', 'Score'])\n",
    "\n",
    "X_submission['Score'] = model7.predict(X_submission_processed)\n",
    "submission = X_submission[['Id', 'Score']]\n",
    "submission.to_csv(\"./data/submission.csv\", index=False)"
   ]
  },
  {
   "cell_type": "markdown",
   "metadata": {},
   "source": [
    "Now you can upload the `submission.csv` to kaggle"
   ]
  }
 ],
 "metadata": {
  "kernelspec": {
   "display_name": "Python 3 (ipykernel)",
   "language": "python",
   "name": "python3"
  },
  "language_info": {
   "codemirror_mode": {
    "name": "ipython",
    "version": 3
   },
   "file_extension": ".py",
   "mimetype": "text/x-python",
   "name": "python",
   "nbconvert_exporter": "python",
   "pygments_lexer": "ipython3",
   "version": "3.9.13"
  },
  "vscode": {
   "interpreter": {
    "hash": "7697e155108679fa2d22949e509aeff305faa212a8830735ae3989f6ecc6d1af"
   }
  }
 },
 "nbformat": 4,
 "nbformat_minor": 2
}

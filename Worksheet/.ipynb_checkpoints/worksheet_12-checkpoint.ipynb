{
 "cells": [
  {
   "cell_type": "markdown",
   "metadata": {},
   "source": [
    "# Worksheet 12\n",
    "\n",
    "Name:  Haoxuan Sun\n",
    "UID: U58198360\n",
    "\n",
    "### Topics\n",
    "\n",
    "- Naive Bayes\n",
    "- Model Evaluation\n",
    "\n",
    "### Naive Bayes\n",
    "\n",
    "| Attribute A | Attribute B | Attribute C | Class |\n",
    "|-------------|-------------|-------------|-------|\n",
    "| Yes         | Single      | High        | No    |\n",
    "| No          | Married     | Mid         | No    |\n",
    "| No          | Single      | Low         | No    |\n",
    "| Yes         | Married     | High        | No    |\n",
    "| No          | Divorced    | Mid         | Yes   |\n",
    "| No          | Married     | Low         | No    |\n",
    "| Yes         | Divorced    | High        | No    |\n",
    "| No          | Single      | Mid         | Yes   |\n",
    "| No          | Married     | Low         | No    |\n",
    "| No          | Single      | Mid         | Yes   |\n",
    "\n",
    "a) Compute the following probabilities:\n",
    "\n",
    "- P(Attribute A = Yes | Class = No)\n",
    "- P(Attribute B = Divorced | Class = Yes)\n",
    "- P(Attribute C = High | Class = No)\n",
    "- P(Attribute C = Mid | Class = Yes)"
   ]
  },
  {
   "cell_type": "markdown",
   "metadata": {},
   "source": [
    "- P(Attribute A = Yes | Class = No) = 3/7\n",
    "- P(Attribute B = Divorced | Class = Yes) = 1/3\n",
    "- P(Attribute C = High | Class = No) = 3/7\n",
    "- P(Attribute C = Mid | Class = Yes) = 1"
   ]
  },
  {
   "cell_type": "markdown",
   "metadata": {},
   "source": [
    "b) Classify the following unseen records:\n",
    "\n",
    "- (Yes, Married, Mid) \n",
    "    \n",
    "    P(No) * P(Yes|No) * P(Married|No) * P(Mid|No) = 7/10 * 3/7 * 4/7 * 1/7 = 84/3430\n",
    "    \n",
    "    P(Yes) * P(Yes|Yes) * P(Married|Yes) * P(Mid|Yes) = 3/10 * 0 * 0 * 1 = 0\n",
    "    \n",
    "    Class = No\n",
    "    \n",
    "    \n",
    "- (No, Divorced, High) \n",
    "    \n",
    "    P(No) * P(No|No) * P(Divorced|No) * P(High|No) = 7/10 * 4/7 * 1/7 * 3/7 = 84/3430\n",
    "    \n",
    "    P(Yes) * P(No|Yes) * P(Divorced|Yes) * P(High|Yes) = 3/10 * 1 * 1/3 * 0 = 0\n",
    "    \n",
    "    Class = No\n",
    "    \n",
    "    \n",
    "- (No, Single, High) \n",
    "    \n",
    "    P(No) * P(No|No) * P(Single|No) * P(High|No) = 7/10 * 4/7 * 2/7 * 3/7 = 168/3430\n",
    "    \n",
    "    P(Yes) * P(No|Yes) * P(Single|Yes) * P(High|Yes) = 3/10 * 1 * 2/3 * 0 = 0\n",
    "    \n",
    "    Class = No\n",
    "    \n",
    "    \n",
    "- (No, Divorced, Low) \n",
    "    \n",
    "    P(No) * P(No|No) * P(Divorced|No) * P(Low|No) = 7/10 * 4/7 * 1/7 * 3/7 = 84/3430\n",
    "    \n",
    "    P(Yes) * P(No|Yes) * P(Single|Yes) * P(High|Yes) = 3/10 * 1 * 2/3 * 0 = 0\n",
    "    \n",
    "    Class = No"
   ]
  },
  {
   "cell_type": "markdown",
   "metadata": {},
   "source": [
    "### Model Evaluation\n",
    "\n",
    "a) Write a function to generate the confusion matrix for a list of actual classes and a list of predicted classes"
   ]
  },
  {
   "cell_type": "code",
   "execution_count": 3,
   "metadata": {},
   "outputs": [
    {
     "name": "stdout",
     "output_type": "stream",
     "text": [
      "[[2, 1], [3, 4]]\n"
     ]
    }
   ],
   "source": [
    "actual_class =    [\"Yes\", \"No\", \"No\", \"Yes\", \"No\", \"No\", \"Yes\", \"No\", \"No\", \"No\"]\n",
    "predicted_class = [\"Yes\", \"No\", \"Yes\", \"No\", \"No\", \"No\", \"Yes\", \"Yes\", \"Yes\", \"No\"]\n",
    "\n",
    "def confusion_matrix(actual, predicted):\n",
    "    true_pos = 0\n",
    "    true_neg = 0\n",
    "    false_pos = 0\n",
    "    false_neg = 0\n",
    "    \n",
    "    for i in range(len(actual_class)):\n",
    "        if actual_class[i] == \"Yes\" and predicted_class[i] == \"Yes\":\n",
    "            true_pos += 1\n",
    "        elif actual_class[i] == \"No\" and predicted_class[i] == \"No\":\n",
    "            true_neg += 1\n",
    "        elif actual_class[i] == \"No\" and predicted_class[i] == \"Yes\":\n",
    "            false_pos += 1\n",
    "        elif actual_class[i] == \"Yes\" and predicted_class[i] == \"No\":\n",
    "            false_neg += 1\n",
    "    \n",
    "    return [[true_pos, false_neg], [false_pos, true_neg]]\n",
    "\n",
    "print(confusion_matrix(actual_class, predicted_class))"
   ]
  },
  {
   "cell_type": "markdown",
   "metadata": {},
   "source": [
    "b) Assume you have the following Cost Matrix:\n",
    "\n",
    "|            | predicted = Y | predicted = N |\n",
    "|------------|---------------|---------------|\n",
    "| actual = Y |       -1      |       5       |\n",
    "| actual = N |        10     |       0       |\n",
    "\n",
    "What is the cost of the above classification?"
   ]
  },
  {
   "cell_type": "markdown",
   "metadata": {},
   "source": [
    "2*(-1) + 1*5 + 3*10 + 4*0 = 33"
   ]
  },
  {
   "cell_type": "markdown",
   "metadata": {},
   "source": [
    "c) Write a function that takes in the actual values, the predictions, and a cost matrix and outputs a cost. Test it on the above example."
   ]
  },
  {
   "cell_type": "code",
   "execution_count": 4,
   "metadata": {},
   "outputs": [
    {
     "data": {
      "text/plain": [
       "33"
      ]
     },
     "execution_count": 4,
     "metadata": {},
     "output_type": "execute_result"
    }
   ],
   "source": [
    "actual_class =    [\"Yes\", \"No\", \"No\", \"Yes\", \"No\", \"No\", \"Yes\", \"No\", \"No\", \"No\"]\n",
    "predicted_class = [\"Yes\", \"No\", \"Yes\", \"No\", \"No\", \"No\", \"Yes\", \"Yes\", \"Yes\", \"No\"]\n",
    "cost = [-1, 5, 10, 0]\n",
    "\n",
    "def cost_matrix(actual, predicted, cost):\n",
    "    true_pos = 0\n",
    "    true_neg = 0\n",
    "    false_pos = 0\n",
    "    false_neg = 0\n",
    "    \n",
    "    for i in range(len(actual_class)):\n",
    "        if actual_class[i] == \"Yes\" and predicted_class[i] == \"Yes\":\n",
    "            true_pos += 1\n",
    "        elif actual_class[i] == \"No\" and predicted_class[i] == \"No\":\n",
    "            true_neg += 1\n",
    "        elif actual_class[i] == \"No\" and predicted_class[i] == \"Yes\":\n",
    "            false_pos += 1\n",
    "        elif actual_class[i] == \"Yes\" and predicted_class[i] == \"No\":\n",
    "            false_neg += 1\n",
    "    \n",
    "    return true_pos * cost[0] + false_neg * cost[1] + false_pos * cost[2] + true_neg * cost[3] \n",
    "\n",
    "cost_matrix(actual_class, predicted_class, cost)"
   ]
  },
  {
   "cell_type": "markdown",
   "metadata": {},
   "source": [
    "d) What is the difference between a testing set and a validation set?"
   ]
  },
  {
   "cell_type": "markdown",
   "metadata": {},
   "source": [
    "The data at hand is divided into training set and testing set, and the training set is a large set including Training set and Validation set. Validation set helps confirm which machine learning method and corresponding hyperparameters to choose. And then use the training set to retrain and learn all the data. After obtaining the final model, use the testing set to finally verify the effect."
   ]
  },
  {
   "cell_type": "markdown",
   "metadata": {},
   "source": [
    "e) What are some things you can do to handle the case where you have a highly imbalanced dataset (i.e. there are way more of one class than another). Describe both how you can provide better visibility into the failures of the model and how you can set your model training up for success."
   ]
  },
  {
   "cell_type": "markdown",
   "metadata": {},
   "source": [
    "Ensemble methods: Ensemble methods such as bagging and boosting can help to improve the performance of models on imbalanced datasets. In boosting, the algorithm gives more weight to misclassified examples, which helps it to focus more on the minority class. Bagging involves training multiple models on different subsets of the dataset and then combining their predictions."
   ]
  }
 ],
 "metadata": {
  "kernelspec": {
   "display_name": "Python 3 (ipykernel)",
   "language": "python",
   "name": "python3"
  },
  "language_info": {
   "codemirror_mode": {
    "name": "ipython",
    "version": 3
   },
   "file_extension": ".py",
   "mimetype": "text/x-python",
   "name": "python",
   "nbconvert_exporter": "python",
   "pygments_lexer": "ipython3",
   "version": "3.9.13"
  },
  "vscode": {
   "interpreter": {
    "hash": "e7370f93d1d0cde622a1f8e1c04877d8463912d04d973331ad4851f04de6915a"
   }
  }
 },
 "nbformat": 4,
 "nbformat_minor": 2
}

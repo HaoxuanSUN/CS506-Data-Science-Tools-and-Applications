{
 "cells": [
  {
   "cell_type": "markdown",
   "metadata": {},
   "source": [
    "# Worksheet 07\n",
    "\n",
    "Name:  Haoxuan Sun\n",
    "UID: U58198360\n",
    "\n",
    "### Topics\n",
    "\n",
    "- Soft Clustering\n",
    "- Clustering Aggregation\n",
    "\n",
    "### Probability Review\n",
    "\n",
    "Read through [the following](https://medium.com/@gallettilance/overview-of-probability-3272b72c82c8)\n",
    "\n",
    "### Soft Clustering\n",
    "\n",
    "We generate 10 data points that come from a normal distribution with mean 5 and variance 1."
   ]
  },
  {
   "cell_type": "code",
   "execution_count": 16,
   "metadata": {},
   "outputs": [
    {
     "name": "stdout",
     "output_type": "stream",
     "text": [
      "[4.455844959958421, 6.525385972869572, 4.17538667423901, 4.197098651045389, 4.831759921761283, 4.8735653574474505, 2.836976019505325, 5.387823269029881, 6.101841639985016, 4.265495523680029]\n"
     ]
    }
   ],
   "source": [
    "import random\n",
    "import numpy as np\n",
    "from sklearn.cluster import KMeans\n",
    "\n",
    "mean = 5\n",
    "stdev = 1\n",
    "\n",
    "c1 = np.random.normal(mean, stdev, 10).tolist()\n",
    "print(c1)"
   ]
  },
  {
   "cell_type": "markdown",
   "metadata": {},
   "source": [
    "a) Generate 10 more data points, this time coming from a normal distribution with mean 8 and variance 1."
   ]
  },
  {
   "cell_type": "code",
   "execution_count": 17,
   "metadata": {},
   "outputs": [
    {
     "name": "stdout",
     "output_type": "stream",
     "text": [
      "[8.860392672373044, 7.286670955189124, 8.287755468175266, 7.907776689700414, 8.58119752749503, 8.556734020917157, 6.7484308241326865, 6.786633314876843, 9.37249603005111, 7.837474815428458]\n"
     ]
    }
   ],
   "source": [
    "c2 = np.random.normal(8,1,10).tolist()\n",
    "print(c2)"
   ]
  },
  {
   "cell_type": "markdown",
   "metadata": {},
   "source": [
    "b) Flip a fair coin 10 times. If the coin lands on H, then pick the last data point of `c1` and remove it from `c1`, if T then pick the last data point from `c2` and remove it from `c2`. Add these 10 points to a list called `data`."
   ]
  },
  {
   "cell_type": "code",
   "execution_count": 18,
   "metadata": {},
   "outputs": [
    {
     "name": "stdout",
     "output_type": "stream",
     "text": [
      "[7.837474815428458, 9.37249603005111, 6.786633314876843, 4.265495523680029, 6.101841639985016, 6.7484308241326865, 8.556734020917157, 8.58119752749503, 7.907776689700414, 8.287755468175266]\n"
     ]
    }
   ],
   "source": [
    "data = []\n",
    "for i in range(10):\n",
    "    # flip coin\n",
    "    coin_output = random.choice([0, 1])\n",
    "    if coin_output == 0:\n",
    "        p1 = c1.pop()\n",
    "        data.append(p1)\n",
    "    else:\n",
    "        p2 = c2.pop()\n",
    "        data.append(p2)\n",
    "print(data)"
   ]
  },
  {
   "cell_type": "markdown",
   "metadata": {},
   "source": [
    "c) This `data` is a Gaussian Mixture Distribution with 2 mixture components. Over the next few questions we will walk through the GMM algorithm to see if we can uncover the parameters we used to generate this data. First, please list all these parameters of the GMM that created `data` and the values we know they have."
   ]
  },
  {
   "cell_type": "markdown",
   "metadata": {},
   "source": [
    "$P(c1) = P(c2) = 1/2$\n",
    "\n",
    "\n",
    "$\\mu_1 = 5$ $\\mu_2 = 8$\n",
    "\n",
    "\n",
    "$var_1 = var_2 = 1$"
   ]
  },
  {
   "cell_type": "markdown",
   "metadata": {},
   "source": [
    "d) Let's assume there are two mixture components (note: we could plot the data and make the observation that there are two clusters). The EM algorithm asks us to start with a random `mean_j`, `variance_j`, `P(C_j)` for each component j. One method we could use to find sensible values for these is to apply K means with k=2 here.\n",
    "\n",
    "1. the centroids would be the estimates of the `mean_j`\n",
    "2. the intra-cluster variance could be the estimate of `variance_j`\n",
    "3. the proportion of points in each cluster could be the estimate of `P(C_j)`\n",
    "\n",
    "Go through this process and list the parameter estimates it gives. Are they close or far from the true values?"
   ]
  },
  {
   "cell_type": "code",
   "execution_count": 19,
   "metadata": {
    "scrolled": true
   },
   "outputs": [
    {
     "name": "stdout",
     "output_type": "stream",
     "text": [
      "[7.837474815428458, 9.37249603005111, 8.556734020917157, 8.58119752749503, 7.907776689700414, 8.287755468175266]\n",
      "[6.786633314876843, 4.265495523680029, 6.101841639985016, 6.7484308241326865]\n",
      "P(C_1) = 0.6,  P(C_2) = 0.4\n",
      "mean_1 = 8.423905758627905,  mean_2 = 5.975600325668643\n",
      "var_1 = 0.26183915322982826,  var_2 = 1.0488591980412534\n"
     ]
    }
   ],
   "source": [
    "kmeans = KMeans(2, init='k-means++').fit(X=np.array(data).reshape(-1, 1))\n",
    "\n",
    "c1 = [x[0] for x in filter(lambda x: x[1] == 0, zip(data, kmeans.labels_))]\n",
    "print(c1)\n",
    "c2 = [x[0] for x in filter(lambda x: x[1] == 1, zip(data, kmeans.labels_))]\n",
    "print(c2)\n",
    "\n",
    "prob_c = [ len(c1) / (len(c1) + len(c2)) , len(c2) / (len(c1) + len(c2)) ]\n",
    "mean = [ sum(c1)/len(c1) , sum(c2)/len(c2) ]\n",
    "var = [ sum(map(lambda x : (x - mean[0])**2, c1)) / len(c1) , sum(map(lambda x : (x - mean[1])**2, c2)) / len(c2) ]\n",
    "\n",
    "print(\"P(C_1) = \" + str(prob_c[0]) + \",  P(C_2) = \" + str(prob_c[1]))\n",
    "print(\"mean_1 = \" + str(mean[0]) + \",  mean_2 = \" + str(mean[1]))\n",
    "print(\"var_1 = \" + str(var[0]) + \",  var_2 = \" + str(var[1]))"
   ]
  },
  {
   "cell_type": "markdown",
   "metadata": {},
   "source": [
    "close from the true values."
   ]
  },
  {
   "cell_type": "markdown",
   "metadata": {},
   "source": [
    "e) For each data point, compute `P(C_j | X_i)`. Comment on which cluster you think each point belongs to based on the estimated probabilities. How does that compare to the truth?"
   ]
  },
  {
   "cell_type": "code",
   "execution_count": 20,
   "metadata": {},
   "outputs": [
    {
     "name": "stdout",
     "output_type": "stream",
     "text": [
      "point =  7.837474815428458\n",
      "probability of observing that point if it came from cluster 0 =  0.12406441439200142\n",
      "probability of observing that point if it came from cluster 1 =  0.07869253412447695\n",
      "point =  9.37249603005111\n",
      "probability of observing that point if it came from cluster 0 =  0.002152242213118262\n",
      "probability of observing that point if it came from cluster 1 =  0.0020070429323340152\n",
      "point =  6.786633314876843\n",
      "probability of observing that point if it came from cluster 0 =  4.926030612149292e-09\n",
      "probability of observing that point if it came from cluster 1 =  0.2820696261488221\n",
      "point =  4.265495523680029\n",
      "probability of observing that point if it came from cluster 0 =  2.5896799581761082e-55\n",
      "probability of observing that point if it came from cluster 1 =  0.10067947781057983\n",
      "point =  6.101841639985016\n",
      "probability of observing that point if it came from cluster 0 =  1.273536212883043e-17\n",
      "probability of observing that point if it came from cluster 1 =  0.3776131708981674\n",
      "point =  6.7484308241326865\n",
      "probability of observing that point if it came from cluster 0 =  1.9573233001845806e-09\n",
      "probability of observing that point if it came from cluster 1 =  0.28993440972076423\n",
      "point =  8.556734020917157\n",
      "probability of observing that point if it came from cluster 0 =  1.3396588786012416\n",
      "probability of observing that point if it came from cluster 1 =  0.018413947761229024\n",
      "point =  8.58119752749503\n",
      "probability of observing that point if it came from cluster 0 =  1.2720816556946064\n",
      "probability of observing that point if it came from cluster 1 =  0.017382060365422444\n",
      "point =  7.907776689700414\n",
      "probability of observing that point if it came from cluster 0 =  0.21834779170207302\n",
      "probability of observing that point if it came from cluster 1 =  0.069708309101253\n",
      "point =  8.287755468175266\n",
      "probability of observing that point if it came from cluster 0 =  1.3309572263719445\n",
      "probability of observing that point if it came from cluster 1 =  0.03349241644328711\n",
      "7.837474815428458\n",
      "Probability of coming from C_1 = 0.7028105856044756\n",
      "Probability of coming from C_2 = 0.29718941439552427\n",
      "\n",
      "9.37249603005111\n",
      "Probability of coming from C_1 = 0.6166404600286897\n",
      "Probability of coming from C_2 = 0.3833595399713102\n",
      "\n",
      "6.786633314876843\n",
      "Probability of coming from C_1 = 2.619582202290469e-08\n",
      "Probability of coming from C_2 = 0.999999973804178\n",
      "\n",
      "4.265495523680029\n",
      "Probability of coming from C_1 = 3.858303620299429e-54\n",
      "Probability of coming from C_2 = 1.0\n",
      "\n",
      "6.101841639985016\n",
      "Probability of coming from C_1 = 5.058892185303897e-17\n",
      "Probability of coming from C_2 = 1.0\n",
      "\n",
      "6.7484308241326865\n",
      "Probability of coming from C_1 = 1.0126376249627042e-08\n",
      "Probability of coming from C_2 = 0.9999999898736237\n",
      "\n",
      "8.556734020917157\n",
      "Probability of coming from C_1 = 0.9909197065001513\n",
      "Probability of coming from C_2 = 0.009080293499848704\n",
      "\n",
      "8.58119752749503\n",
      "Probability of coming from C_1 = 0.9909727243072874\n",
      "Probability of coming from C_2 = 0.009027275692712666\n",
      "\n",
      "7.907776689700414\n",
      "Probability of coming from C_1 = 0.8245139851260842\n",
      "Probability of coming from C_2 = 0.17548601487391585\n",
      "\n",
      "8.287755468175266\n",
      "Probability of coming from C_1 = 0.9835006895715298\n",
      "Probability of coming from C_2 = 0.016499310428470262\n",
      "\n"
     ]
    }
   ],
   "source": [
    "from scipy.stats import norm\n",
    "\n",
    "prob_c0_x = [] # P(C_0 | X_i)\n",
    "prob_c1_x = [] # P(C_1 | X_i)\n",
    "prob_x = [] # P(X_i)\n",
    "\n",
    "k = 2\n",
    "\n",
    "for p in data:\n",
    "    print(\"point = \", p)\n",
    "    pdf_i = []\n",
    "\n",
    "    for j in range(k):\n",
    "        # P(X_i | C_j)\n",
    "        pdf_i.append(norm.pdf(p, mean[j], var[j]))\n",
    "        print(\"probability of observing that point if it came from cluster \" + str(j) + \" = \", pdf_i[j])\n",
    "        # P(C_j) already computed\n",
    "        prob_c[j]\n",
    "\n",
    "    # P(X_i) = P(C_0)P(X_i | C_0) + P(C_1)P(X_i | C_1)\n",
    "    prob_x = prob_c[0] * pdf_i[0] + prob_c[1] * pdf_i[1]\n",
    "\n",
    "    # P(C_j | X_i) = P(X_i | C_j)P(C_j) / P(X_i)\n",
    "    prob_c0_x.append( pdf_i[0]* prob_c[0] / prob_x )\n",
    "    prob_c1_x.append( pdf_i[1]* prob_c[1] / prob_x )\n",
    "\n",
    "probs = zip(data, prob_c0_x, prob_c1_x)\n",
    "for p in probs:\n",
    "    print(p[0])\n",
    "    print(\"Probability of coming from C_1 = \" + str(p[1]))\n",
    "    print(\"Probability of coming from C_2 = \" + str(p[2]))\n",
    "    print()\n"
   ]
  },
  {
   "cell_type": "markdown",
   "metadata": {},
   "source": [
    "f) Having computed `P(C_j | X_i)`, update the estimates of `mean_j`, `var_j`, and `P(C_j)`. How different are these values from the original ones you got from K means? briefly comment."
   ]
  },
  {
   "cell_type": "code",
   "execution_count": 21,
   "metadata": {},
   "outputs": [
    {
     "name": "stdout",
     "output_type": "stream",
     "text": [
      "P(C_1) = 0.5109358187460417,  P(C_2) = 0.4890641812539583\n",
      "mean_1 = 8.404495035383755,  mean_2 = 6.441743546451679\n",
      "var_1 = 0.21030297400745726,  var_2 = 1.932601338680948\n"
     ]
    }
   ],
   "source": [
    "prob_c = [sum(prob_c0_x)/ len(prob_c0_x), sum(prob_c1_x)/ len(prob_c1_x) ]\n",
    "mean = [sum([x[0] * x[1] for x in zip(prob_c0_x, data)]) / sum(prob_c0_x), sum([x[0] * x[1] for x in zip(prob_c1_x, data)]) / sum(prob_c1_x) ]\n",
    "var = [sum(map(lambda x : x[0]* (x[1] - mean[0])**2, zip(prob_c0_x, data))) / sum(prob_c0_x), sum(map(lambda x : x[0]*(x[1] - mean[1])**2, zip(prob_c1_x, data))) / sum(prob_c1_x)]\n",
    "\n",
    "print(\"P(C_1) = \" + str(prob_c[0]) + \",  P(C_2) = \" + str(prob_c[1]))\n",
    "print(\"mean_1 = \" + str(mean[0]) + \",  mean_2 = \" + str(mean[1]))\n",
    "print(\"var_1 = \" + str(var[0]) + \",  var_2 = \" + str(var[1]))"
   ]
  },
  {
   "cell_type": "markdown",
   "metadata": {},
   "source": [
    "From Kmeans:\n",
    "\n",
    "\n",
    "P(C_1) = 0.6,  P(C_2) = 0.4\n",
    "\n",
    "\n",
    "mean_1 = 8.423905758627905,  mean_2 = 5.975600325668643\n",
    "\n",
    "\n",
    "var_1 = 0.26183915322982826,  var_2 = 1.0488591980412534\n",
    "\n",
    "\n",
    "They are close but still some distance."
   ]
  },
  {
   "cell_type": "markdown",
   "metadata": {},
   "source": [
    "g) Update `P(C_j | X_i)`. Comment on any differences or lack thereof you observe."
   ]
  },
  {
   "cell_type": "code",
   "execution_count": 22,
   "metadata": {},
   "outputs": [
    {
     "name": "stdout",
     "output_type": "stream",
     "text": [
      "P(C_1) = 0.347349030824462,  P(C_2) = 0.652650969175538\n",
      "mean_1 = 8.358017334885375,  mean_2 = 6.958442688432202\n",
      "var_1 = 0.070403515131748,  var_2 = 2.3699389527915504\n"
     ]
    }
   ],
   "source": [
    "prob_c = [sum(prob_c0_x)/ len(prob_c0_x), sum(prob_c1_x)/ len(prob_c1_x) ]\n",
    "mean = [sum([x[0] * x[1] for x in zip(prob_c0_x, data)]) / sum(prob_c0_x), sum([x[0] * x[1] for x in zip(prob_c1_x, data)]) / sum(prob_c1_x) ]\n",
    "var = [sum(map(lambda x : x[0]* (x[1] - mean[0])**2, zip(prob_c0_x, data))) / sum(prob_c0_x), sum(map(lambda x : x[0]*(x[1] - mean[1])**2, zip(prob_c1_x, data))) / sum(prob_c1_x)]\n",
    "prob_c0_x = [] # P(C_0 | X_i)\n",
    "prob_c1_x = [] # P(C_1 | X_i)\n",
    "prob_x = [] # P(X_i)\n",
    "k = 2\n",
    "\n",
    "for p in data:\n",
    "    pdf_i = []\n",
    "    for j in range(k):\n",
    "        # P(X_i | C_j)\n",
    "        pdf_i.append(norm.pdf(p, mean[j], var[j]))\n",
    "        prob_c[j] \n",
    "    # P(X_i) = P(C_0)P(X_i | C_0) + P(C_1)P(X_i | C_1)\n",
    "    prob_x = prob_c[0] * pdf_i[0] + prob_c[1] * pdf_i[1]\n",
    "    # P(C_j | X_i) = P(X_i | C_j)P(C_j) / P(X_i)\n",
    "    prob_c0_x.append( pdf_i[0] * prob_c[0] / prob_x )\n",
    "    prob_c1_x.append( pdf_i[1] * prob_c[1] / prob_x )\n",
    "\n",
    "prob_c = [sum(prob_c0_x)/ len(prob_c0_x), sum(prob_c1_x)/ len(prob_c1_x) ]\n",
    "mean = [sum([x[0] * x[1] for x in zip(prob_c0_x, data)]) / sum(prob_c0_x), sum([x[0] * x[1] for x in zip(prob_c1_x, data)]) / sum(prob_c1_x) ]\n",
    "var = [sum(map(lambda x : x[0]* (x[1] - mean[0])**2, zip(prob_c0_x, data))) / sum(prob_c0_x), sum(map(lambda x : x[0]*(x[1] - mean[1])**2, zip(prob_c1_x, data))) / sum(prob_c1_x)]\n",
    "\n",
    "print(\"P(C_1) = \" + str(prob_c[0]) + \",  P(C_2) = \" + str(prob_c[1]))\n",
    "print(\"mean_1 = \" + str(mean[0]) + \",  mean_2 = \" + str(mean[1]))\n",
    "print(\"var_1 = \" + str(var[0]) + \",  var_2 = \" + str(var[1]))"
   ]
  },
  {
   "cell_type": "markdown",
   "metadata": {},
   "source": []
  },
  {
   "cell_type": "markdown",
   "metadata": {},
   "source": [
    "h) Use `P(C_j | X_i)` to create a hard assignment - label each point as belonging to a specific cluster (0 or 1)"
   ]
  },
  {
   "cell_type": "code",
   "execution_count": 26,
   "metadata": {},
   "outputs": [
    {
     "name": "stdout",
     "output_type": "stream",
     "text": [
      "7.837474815428458 --> cluster 1\n",
      "9.37249603005111 --> cluster 1\n",
      "6.786633314876843 --> cluster 1\n",
      "4.265495523680029 --> cluster 1\n",
      "6.101841639985016 --> cluster 1\n",
      "6.7484308241326865 --> cluster 1\n",
      "8.556734020917157 --> cluster 0\n",
      "8.58119752749503 --> cluster 0\n",
      "7.907776689700414 --> cluster 1\n",
      "8.287755468175266 --> cluster 0\n"
     ]
    }
   ],
   "source": [
    "label = {}\n",
    "probs = zip(data, prob_c0_x, prob_c1_x)\n",
    "for p in probs:\n",
    "    if p[1] > p[2]:\n",
    "        label[p[0]] = 0\n",
    "    else:\n",
    "        label[p[0]] = 1\n",
    "    print(str(p[0]) + \" --> cluster \" + str(label[p[0]]))"
   ]
  },
  {
   "cell_type": "markdown",
   "metadata": {},
   "source": [
    "### Clustering Aggregation\n",
    "\n",
    "| Point | C | P |\n",
    "|-------|---|---|\n",
    "| A     | 0 | a |\n",
    "| B     | 0 | b |\n",
    "| C     | 2 | b |\n",
    "| D     | 1 | c |\n",
    "| E     | 1 | d |\n",
    "\n",
    "a) Fill in the following table where for each pair of points determine whether C and P agree or disagree on how to cluster that pair."
   ]
  },
  {
   "cell_type": "markdown",
   "metadata": {},
   "source": [
    "| Pair | Disagreement |\n",
    "|------|--------------|\n",
    "| A  B |      disagree|\n",
    "| A  C |      agree   |\n",
    "| A  D |      agree   |\n",
    "| A  E |      agree   |\n",
    "| B  C |      disagree|\n",
    "| B  D |      agree   |\n",
    "| B  E |      agree   |\n",
    "| C  D |      agree   |\n",
    "| C  E |      agree   |\n",
    "| D  E |      disagree|"
   ]
  },
  {
   "cell_type": "markdown",
   "metadata": {},
   "source": [
    "As datasets become very large, this process can become computationally challenging.\n",
    "\n",
    "b) Given N points, what is the formula for the number of unique pairs of points one can create?"
   ]
  },
  {
   "cell_type": "markdown",
   "metadata": {},
   "source": [
    "$C(N,2) = N! / (2!*(N-2)!)$"
   ]
  },
  {
   "cell_type": "markdown",
   "metadata": {},
   "source": [
    "Assume that clustering C clusters all points in the same cluster and clustering P clusters points as such:\n",
    "\n",
    "| Point | P |\n",
    "|-------|---|\n",
    "| A     | 0 |\n",
    "| B     | 0 |\n",
    "| C     | 0 |\n",
    "| D     | 1 |\n",
    "| E     | 1 |\n",
    "| F     | 2 |\n",
    "| G     | 2 |\n",
    "| H     | 2 |\n",
    "| I     | 2 |\n",
    "\n",
    "c) What is the maximum number of disagreements there could be for a dataset of this size? (use the formula from b)?"
   ]
  },
  {
   "cell_type": "markdown",
   "metadata": {},
   "source": [
    "$C(9, 2) = 36$"
   ]
  },
  {
   "cell_type": "markdown",
   "metadata": {},
   "source": [
    "d) If we look at cluster 0. There are (3 x 2) / 2 = 3 pairs that agree with C (since all points in C are in the same cluster). For each cluster, determine how many agreements there are. How many total agreements are there? How many disagreements does that mean there are between C and P?"
   ]
  },
  {
   "cell_type": "markdown",
   "metadata": {},
   "source": [
    "cluster0: 3 agreements\n",
    "\n",
    "\n",
    "cluster1: 1 agreements\n",
    "\n",
    "\n",
    "cluster2: 6 agreements\n",
    "\n",
    "\n",
    "6+1+3=10 agreements in total\n",
    "\n",
    "\n",
    "36-10 = 26 disagreements between C and P"
   ]
  },
  {
   "cell_type": "markdown",
   "metadata": {},
   "source": [
    "e) Assuming that filtering the dataset by cluster number is a computationally easy operation, describe an algorithm inspired by the above process that can efficiently compute disagreement distances on large datasets."
   ]
  },
  {
   "cell_type": "markdown",
   "metadata": {},
   "source": []
  }
 ],
 "metadata": {
  "interpreter": {
   "hash": "76ca05dc3ea24b2e3b98cdb7774adfbb40773424bf5109b477fd793f623715af"
  },
  "kernelspec": {
   "display_name": "Python 3 (ipykernel)",
   "language": "python",
   "name": "python3"
  },
  "language_info": {
   "codemirror_mode": {
    "name": "ipython",
    "version": 3
   },
   "file_extension": ".py",
   "mimetype": "text/x-python",
   "name": "python",
   "nbconvert_exporter": "python",
   "pygments_lexer": "ipython3",
   "version": "3.9.13"
  }
 },
 "nbformat": 4,
 "nbformat_minor": 2
}

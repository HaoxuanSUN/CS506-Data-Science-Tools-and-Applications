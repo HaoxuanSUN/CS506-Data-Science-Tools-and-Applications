{
 "cells": [
  {
   "cell_type": "markdown",
   "metadata": {},
   "source": [
    "# Homework 4 (100 Points)"
   ]
  },
  {
   "cell_type": "markdown",
   "metadata": {},
   "source": [
    "## Exercise 1 (40pts)\n",
    "\n",
    "In this exercise we will implement a Natural Language Processing (NLP) system using binary logistic regression.\n",
    "\n",
    "The data you will be working with comes from the [Yelp Dataset](https://www.yelp.com/dataset). Each line is a review that consists of a label (0 for negative reviews and 1 for positive reviews) and a set of words.\n",
    "\n",
    "```\n",
    "1 i will never forget this single breakfast experience in mad...\n",
    "0 the search for decent chinese takeout in madison continues ...\n",
    "0 sorry but me julio fell way below the standard even for med...\n",
    "1 so this is the kind of food that will kill you so there s t...\n",
    "```\n",
    "\n",
    "In order to transform the set of words into vectors, we will rely on a method of feature engineering called word embeddings. Rather than simply indicating which words are present, word embeddings represent each word by \"embedding\" it in a low-dimensional vector space which may carry more information about the semantic meaning of the word. (for example in this space, the words \"King\" and \"Queen\" would be close).\n",
    "\n",
    "`word2vec.txt` contains the `word2vec` embeddings for about 15 thousand words. Not every word in each review is present in the provided `word2vec.txt` file. We can treat these words as being \"out of vocabulary\" and ignore them.\n",
    "\n",
    "### Example\n",
    "\n",
    "Let x_i denote the sentence `“a hot dog is not a sandwich because it is not square”` and let a toy word2vec dictionary be as follows:\n",
    "\n",
    "```\n",
    "hot      0.1     0.2     0.3\n",
    "not      -0.1    0.2     -0.3\n",
    "sandwich 0.0     -0.2    0.4\n",
    "square   0.2     -0.1    0.5\n",
    "```\n",
    "\n",
    "we would first `trim` the sentence to only contain words in our vocabulary: `\"hot not sandwich not square”` then embed x_i into the feature space:\n",
    "\n",
    "$$ φ2(x_i)) = \\frac{1}{5} (word2vec(\\text{hot}) + 2 · word2vec(\\text{not}) + word2vec(\\text{sandwich}) + word2vec(\\text{square})) = \\left[0.02 \\hspace{2mm} 0.06 \\hspace{2mm} 0.12 \\hspace{2mm}\\right]^T $$\n",
    "\n",
    "### Part 1 (20pts)\n",
    "\n",
    "a) Implement a function to trim out-of-vocabulary words from the reviews. Your function should return an nd array of the same dimension and dtype as the original loaded dataset. (10pts)"
   ]
  },
  {
   "cell_type": "code",
   "execution_count": 95,
   "metadata": {},
   "outputs": [
    {
     "name": "stdout",
     "output_type": "stream",
     "text": [
      "[(1, array([-1.66646018e-01,  6.41026549e-01, -6.48053097e-02,  1.79902655e-01,\n",
      "         7.58946903e-01, -9.67097345e-01, -1.19115044e+00, -2.29079646e-01,\n",
      "         4.17796460e-01,  1.16079646e-01, -5.54292035e-01,  4.63389381e-01,\n",
      "        -6.91079646e-01,  8.20955752e-01, -3.17469027e-01,  2.93513274e-01,\n",
      "        -1.19477876e+00, -5.07362832e-01, -4.45681416e-01,  1.53669912e+00,\n",
      "        -1.40284956e+00,  1.29318584e+00,  2.06079646e-01,  6.46132743e-01,\n",
      "         5.21061947e-01,  1.71594690e+00, -1.31963717e+00,  2.26681416e-01,\n",
      "        -2.65699115e-01, -4.27716814e-01, -7.03017699e-01, -1.09171681e+00,\n",
      "        -7.33920354e-01, -8.85557522e-01,  1.50001770e+00,  1.64640708e+00,\n",
      "         1.72471681e+00, -1.06955752e+00,  1.22292035e+00, -1.80577876e+00,\n",
      "        -8.64893805e-01, -6.76991150e-03,  9.33628319e-03, -1.12483186e+00,\n",
      "        -2.40803540e+00, -1.14992920e+00, -6.69646018e-02,  1.16514159e+00,\n",
      "        -1.54790265e+00,  1.29176991e-01,  9.91371681e-01, -1.10922124e+00,\n",
      "        -1.57778761e-01,  1.97399115e+00,  2.04044248e+00,  1.73777876e+00,\n",
      "        -9.25398230e-01, -1.79235398e+00, -6.75964602e-01, -5.57256637e-02,\n",
      "        -8.31858407e-02,  2.20387611e+00, -5.66424779e-01,  3.06769912e-01,\n",
      "         7.58805310e-01,  6.38610619e-01, -5.25442478e-01,  1.32079646e+00,\n",
      "         2.08965487e+00,  1.18991150e-01,  5.38787611e-01,  5.23318584e-01,\n",
      "        -2.17606195e+00,  1.43934513e+00,  5.14707965e-01,  3.76283186e-02,\n",
      "        -2.05744248e+00, -1.36413274e+00,  1.77053097e-01, -2.61592920e-02,\n",
      "        -1.51432743e+00, -4.87681416e-01, -2.05215044e+00, -7.32504425e-01,\n",
      "        -6.72619469e-01, -1.40207080e+00, -2.80194690e-01, -8.08132743e-01,\n",
      "         9.33575221e-01,  3.66823009e-01, -3.60796460e-02, -7.60539823e-01,\n",
      "        -7.19000000e-01, -1.55918584e+00, -9.66070796e-01, -1.21369912e+00,\n",
      "        -5.28690265e-01, -1.44437168e+00, -1.83265487e+00,  1.43442478e-01,\n",
      "        -5.33743363e-01,  3.33929204e-01,  1.37405310e+00,  4.58840708e-01,\n",
      "         1.55203540e-01,  4.80283186e-01,  2.26929204e-01, -1.69451327e-01,\n",
      "         8.38318584e-01,  1.87211504e+00,  1.64605310e+00,  1.87207965e+00,\n",
      "         7.12929204e-01,  7.85256637e-01,  3.12134513e+00, -6.91654867e-01,\n",
      "        -1.71401770e+00, -5.06380531e-01,  5.08486726e-01,  1.69897345e+00,\n",
      "        -9.94823009e-01,  1.33589381e+00, -5.25371681e-01, -4.87663717e-01,\n",
      "        -8.69159292e-01, -4.17884956e-01, -3.11955752e-01, -1.30253982e+00,\n",
      "         1.02831858e-01, -9.25858407e-01,  6.58575221e-01, -7.53831858e-01,\n",
      "        -1.47745133e+00, -1.24448673e+00, -5.67442478e-01,  1.57628319e-01,\n",
      "         9.24362832e-01, -3.48486726e-01,  2.62731858e+00, -5.01592920e-02,\n",
      "         6.13451327e-02, -5.63292035e-01,  1.10470796e+00,  1.29966372e+00,\n",
      "         1.08035398e-01,  6.25539823e-01,  2.90011504e+00, -1.79398230e-01,\n",
      "        -3.87389381e-01, -2.74646018e-01,  1.60555752e+00,  2.49628319e-01,\n",
      "         1.63236283e+00,  1.02561947e+00, -1.06802655e+00, -1.27761062e-01,\n",
      "         1.43363717e+00,  1.24796460e-01,  8.76221239e-01, -1.25863717e+00,\n",
      "         1.20869027e+00, -4.33035398e-01,  1.32474336e+00, -1.58095575e+00,\n",
      "         1.06738938e+00,  2.51070796e-01,  3.93345133e-01,  9.78168142e-01,\n",
      "        -1.36928319e+00, -1.01126549e+00,  9.33867257e-01,  2.74530973e-01,\n",
      "         1.21046903e+00, -1.17657522e+00,  9.60442478e-02,  1.05566372e-01,\n",
      "         1.29949558e+00,  2.99955752e-01, -1.26924779e+00, -8.32973451e-01,\n",
      "         1.29371681e+00, -1.63071681e+00, -5.52982301e-01, -4.75044248e-02,\n",
      "        -1.81769912e-01,  2.38106195e+00, -7.22690265e-01,  1.36274336e-01,\n",
      "        -1.40999115e+00, -4.86761062e-01,  1.23541593e+00, -5.15106195e-01,\n",
      "         4.31884956e-01,  2.08265487e-01,  5.33185841e-01,  6.27601770e-01,\n",
      "        -5.79106195e-01,  2.87433628e-02, -3.26522124e-01,  1.11481416e+00,\n",
      "         1.01360177e+00, -2.22035398e-01,  1.82743363e-01, -5.90318584e-01,\n",
      "        -9.54504425e-01,  2.89690265e-01,  7.26318584e-01, -9.69123894e-01,\n",
      "         3.33150442e-01, -1.77565487e+00,  4.99566372e-01, -1.85460177e-01,\n",
      "         1.55211504e+00,  7.28681416e-01, -7.68159292e-01,  3.38646018e-01,\n",
      "        -1.01814159e-01, -7.06212389e-01,  1.99227434e+00, -6.29380531e-02,\n",
      "         8.61619469e-01, -3.62584071e-01,  6.93238938e-01,  1.60085841e+00,\n",
      "        -3.65407080e-01,  3.05203540e-01,  1.28693805e+00, -1.12355752e+00,\n",
      "         2.32972566e+00, -6.19752212e-01, -1.11617699e+00,  8.14097345e-01,\n",
      "         1.14612389e+00, -4.92637168e-01,  2.12216814e+00, -2.74575221e-01,\n",
      "        -3.85389381e-01,  4.37778761e-01, -1.11856637e+00, -9.97849558e-01,\n",
      "        -9.38053097e-04, -8.76654867e-01, -3.17530973e-01,  1.09163717e+00,\n",
      "         5.67442478e-01,  5.20920354e-01, -1.00039823e+00,  1.07938053e-01,\n",
      "         7.14070796e-01, -4.59238938e-01, -3.69654867e-01,  2.15692035e+00,\n",
      "         9.24522124e-01, -5.74725664e-01,  1.11805310e-01,  3.60070796e-01,\n",
      "        -6.64442478e-01, -2.02920354e-01,  8.85159292e-01, -2.09651327e+00,\n",
      "         1.02438938e+00, -1.23292035e+00, -4.60053097e-01, -4.47371681e-01,\n",
      "         2.43402655e+00, -2.12150442e-01,  1.91869027e+00, -3.88902655e-01,\n",
      "        -1.08348673e+00,  7.37610619e-02,  3.21769912e-02, -1.71876106e-01,\n",
      "         2.01616814e+00,  2.24669027e+00,  3.20327434e-01,  1.76002655e+00,\n",
      "        -6.38778761e-01, -1.62564602e+00,  3.38132743e-01, -1.03888496e+00,\n",
      "        -3.89238938e-01,  2.31150442e-02, -3.02654867e-02,  5.95309735e-01,\n",
      "        -3.73849558e-01,  1.15801770e+00,  2.13132743e-01, -3.38982301e-01,\n",
      "        -9.30654867e-01,  9.53292035e-01,  1.40279646e+00,  1.96970796e+00,\n",
      "         1.05089381e+00, -1.68819469e+00, -1.06556637e+00,  5.36831858e-01,\n",
      "        -5.46699115e-01, -7.96929204e-01, -1.66707965e-01, -9.92398230e-01]))  ]\n",
      "[(0, array([-2.03273381e-01,  4.25525180e-01, -1.43158273e-01,  1.29158273e-01,\n",
      "         4.69647482e-01, -8.70834532e-01, -8.06604317e-01, -1.72143885e-01,\n",
      "        -2.04553957e-01,  1.03676259e-01, -6.85107914e-01,  4.43410072e-01,\n",
      "        -6.07143885e-01,  5.44330935e-01, -1.73151079e-01, -2.31690647e-01,\n",
      "        -1.04433813e+00, -3.19640288e-02, -2.48525180e-01,  1.27947482e+00,\n",
      "        -1.16829496e+00,  1.29961871e+00,  3.67287770e-01,  5.49208633e-01,\n",
      "         4.52395683e-01,  1.83592806e+00, -9.23388489e-01,  2.38273381e-01,\n",
      "        -3.01043165e-01, -6.29985612e-01, -5.41316547e-01, -1.00387050e+00,\n",
      "        -5.53553957e-01, -5.92776978e-01,  1.80529496e+00,  1.61985612e+00,\n",
      "         1.60260432e+00, -6.80733813e-01,  1.12127338e+00, -2.20952518e+00,\n",
      "        -6.77978417e-01, -3.49661871e-01,  1.06345324e-01, -9.95791367e-01,\n",
      "        -2.58359712e+00, -1.02240288e+00, -2.95323741e-01,  1.81712230e+00,\n",
      "        -1.27849640e+00,  2.02892086e-01,  7.08388489e-01, -8.54172662e-01,\n",
      "         3.53525180e-02,  2.03846763e+00,  1.89909353e+00,  1.60892086e+00,\n",
      "        -8.10366906e-01, -1.76908633e+00, -5.14956835e-01,  6.74546763e-01,\n",
      "        -4.81352518e-01,  2.28294964e+00, -6.32035971e-01, -1.30899281e-01,\n",
      "         8.20021583e-01,  7.19330935e-01, -4.92402878e-01,  1.68527338e+00,\n",
      "         2.06548921e+00,  5.23611511e-01,  6.78079137e-01,  6.07258993e-01,\n",
      "        -1.60283453e+00,  1.77758273e+00,  5.50892086e-01, -3.87928058e-01,\n",
      "        -2.49974101e+00, -1.32130216e+00,  2.41618705e-01,  1.93683453e-01,\n",
      "        -1.31566906e+00, -7.39273381e-01, -2.11626619e+00, -6.36330935e-01,\n",
      "        -1.13289209e+00, -1.11531655e+00, -5.14568345e-01, -9.07956835e-01,\n",
      "         7.27913669e-01,  3.29489209e-01,  1.88525180e-01, -6.83007194e-01,\n",
      "        -2.94158273e-01, -1.27931655e+00, -1.06248201e+00, -1.31348201e+00,\n",
      "        -3.80395683e-01, -1.41244604e+00, -1.68179137e+00,  3.40827338e-01,\n",
      "        -6.54705036e-01,  6.18000000e-01,  1.37335971e+00,  5.03359712e-01,\n",
      "        -3.38920863e-02,  6.64122302e-01,  8.05294964e-01, -1.06194245e-01,\n",
      "         9.08000000e-01,  1.42969065e+00,  1.57179856e+00,  2.09949640e+00,\n",
      "         7.51726619e-01,  1.03084173e+00,  2.95986331e+00, -2.40201439e-01,\n",
      "        -1.59289928e+00, -7.67489209e-01,  6.58021583e-01,  1.82361151e+00,\n",
      "        -1.04671223e+00,  1.80344604e+00, -6.22640288e-01, -8.36482014e-01,\n",
      "        -9.53661871e-01, -4.90791367e-01, -3.46589928e-01, -1.14556835e+00,\n",
      "         6.24230216e-01, -8.79942446e-01,  6.41194245e-01, -4.02589928e-01,\n",
      "        -1.47342446e+00, -1.31682014e+00, -7.94949640e-01, -1.41726619e-03,\n",
      "         5.03791367e-01, -5.27230216e-01,  2.57456115e+00, -3.01028777e-01,\n",
      "         8.28057554e-02, -9.44007194e-01,  1.12500719e+00,  1.51998561e+00,\n",
      "         2.56266187e-01,  3.08402878e-01,  2.67452518e+00, -3.54546763e-01,\n",
      "        -6.43899281e-01, -3.60935252e-01,  1.58458993e+00,  1.63194245e-01,\n",
      "         1.23484892e+00,  7.92057554e-01, -1.00048921e+00, -1.09165468e-01,\n",
      "         1.16894245e+00,  8.28057554e-03,  1.01153237e+00, -1.39953957e+00,\n",
      "         1.01723022e+00, -6.22280576e-01,  1.06079137e+00, -1.80092086e+00,\n",
      "         8.99697842e-01,  1.47841727e-02,  7.44172662e-01,  1.17835252e+00,\n",
      "        -1.23850360e+00, -7.28151079e-01,  1.09469065e+00,  4.75129496e-01,\n",
      "         1.03295683e+00, -1.60894964e+00,  2.01266187e-01, -2.01043165e-01,\n",
      "         1.05691367e+00,  1.40208633e-01, -1.27294245e+00, -3.90115108e-01,\n",
      "         1.23577698e+00, -1.35836691e+00, -2.26309353e-01,  1.98798561e-01,\n",
      "         9.50000000e-02,  2.55501439e+00, -9.01690647e-01,  2.41913669e-01,\n",
      "        -1.25458273e+00, -6.42726619e-01,  1.29779856e+00, -7.95107914e-02,\n",
      "         3.16244604e-01,  6.47726619e-01,  4.42920863e-01,  7.25136691e-01,\n",
      "        -5.51071942e-01,  8.02661871e-02, -4.23733813e-01,  1.04424460e+00,\n",
      "         7.28359712e-01,  1.84410072e-01,  3.23769784e-01, -6.73359712e-01,\n",
      "        -5.40546763e-01,  5.99402878e-01,  6.45647482e-01, -8.19798561e-01,\n",
      "         1.24784173e-01, -1.64127338e+00,  8.99280576e-02, -3.72071942e-01,\n",
      "         1.72143885e+00,  5.71949640e-01, -2.71395683e-01,  7.21726619e-02,\n",
      "        -2.71597122e-01, -5.49589928e-01,  2.05780576e+00, -4.19251799e-01,\n",
      "         1.14320863e+00,  1.59546763e-01,  1.08882014e+00,  1.06457554e+00,\n",
      "        -3.20496403e-01,  2.76546763e-01,  1.26672662e+00, -1.04135252e+00,\n",
      "         1.91448921e+00, -3.02115108e-01, -1.07502158e+00,  8.56366906e-01,\n",
      "         1.77676259e+00, -3.31597122e-01,  2.01612950e+00, -1.17877698e-01,\n",
      "        -7.56237410e-01,  6.76906475e-01, -1.46237410e+00, -1.06684173e+00,\n",
      "        -1.42244604e-01, -1.15332374e+00,  1.45568345e-01,  9.73604317e-01,\n",
      "         7.35597122e-01,  1.79050360e-01, -3.99474820e-01,  2.88525180e-01,\n",
      "         6.10151079e-01, -9.63194245e-01, -2.21877698e-01,  1.72710072e+00,\n",
      "         9.49402878e-01, -2.60964029e-01,  1.45035971e-02,  4.00158273e-01,\n",
      "        -6.49208633e-01,  1.57913669e-02,  5.50539568e-01, -1.88643165e+00,\n",
      "         5.40661871e-01, -1.11423741e+00, -6.18669065e-01, -3.85848921e-01,\n",
      "         1.64848921e+00, -9.21726619e-02,  2.00490647e+00,  2.37165468e-01,\n",
      "        -1.64971223e+00,  3.98805755e-01,  1.98992806e-02,  1.98107914e-01,\n",
      "         2.08991367e+00,  2.11405036e+00,  7.42266187e-01,  1.50330935e+00,\n",
      "        -7.48971223e-01, -1.37083453e+00,  6.95244604e-01, -1.32402878e+00,\n",
      "        -2.79856115e-02, -1.24302158e-01, -3.56928058e-01,  2.83294964e-01,\n",
      "         6.89208633e-02,  1.40853237e+00,  3.01582734e-02, -1.61446043e-01,\n",
      "        -7.71338129e-01,  7.45021583e-01,  1.35520144e+00,  1.54128777e+00,\n",
      "         7.39438849e-01, -1.55530216e+00, -9.62316547e-01,  6.77258993e-01,\n",
      "        -5.07726619e-01, -3.98719424e-01, -5.42985612e-01, -1.17514388e+00]))  ]\n"
     ]
    }
   ],
   "source": [
    "import csv\n",
    "import numpy as np\n",
    "\n",
    "VECTOR_LEN = 300   # Length of word2vec vector\n",
    "MAX_WORD_LEN = 64  # Max word length in dict.txt and word2vec.txt\n",
    "\n",
    "################################################################################\n",
    "# We have provided you the functions for loading the tsv and txt files. Feel   #\n",
    "# free to use them! No need to change them at all.                             #\n",
    "################################################################################\n",
    "\n",
    "\n",
    "def load_tsv_dataset(file):\n",
    "    \"\"\"\n",
    "    Loads raw data and returns a tuple containing the reviews and their ratings.\n",
    "\n",
    "    Parameters:\n",
    "        file (str): File path to the dataset tsv file.\n",
    "\n",
    "    Returns:\n",
    "        An np.ndarray of shape N. N is the number of data points in the tsv file.\n",
    "        Each element dataset[i] is a tuple (label, review), where the label is\n",
    "        an integer (0 or 1) and the review is a string.\n",
    "    \"\"\"\n",
    "    dataset = np.loadtxt(file, delimiter='\\t', comments=None, encoding='utf-8',\n",
    "                         dtype='l,O')\n",
    "    return dataset\n",
    "\n",
    "\n",
    "def load_feature_dictionary(file):\n",
    "    \"\"\"\n",
    "    Creates a map of words to vectors using the file that has the word2vec\n",
    "    embeddings.\n",
    "\n",
    "    Parameters:\n",
    "        file (str): File path to the word2vec embedding file.\n",
    "\n",
    "    Returns:\n",
    "        A dictionary indexed by words, returning the corresponding word2vec\n",
    "        embedding np.ndarray.\n",
    "    \"\"\"\n",
    "    word2vec_map = dict()\n",
    "    with open(file) as f:\n",
    "        read_file = csv.reader(f, delimiter='\\t')\n",
    "        for row in read_file:\n",
    "            word, embedding = row[0], row[1:]\n",
    "            word2vec_map[word] = np.array(embedding, dtype=float)\n",
    "    return word2vec_map\n",
    "\n",
    "\n",
    "def trim_reviews(path_to_dataset):\n",
    "    dataset = load_tsv_dataset(path_to_dataset)\n",
    "    word2vec_map = load_feature_dictionary('./data/word2vec.txt')\n",
    "    trimmed_dataset = np.empty_like(dataset)\n",
    "    # Trim words and create embeddings for each review\n",
    "    for i, (label, review) in enumerate(dataset):\n",
    "        words = review.split()\n",
    "        words = [word for word in words if word in word2vec_map]\n",
    "        # if all words are out-of vocabulary, skip this loop\n",
    "        if not words:\n",
    "            continue\n",
    "        # Compute review embedding\n",
    "        embedding = np.zeros(VECTOR_LEN)\n",
    "        for word in words:\n",
    "            embedding += word2vec_map[word]\n",
    "        embedding /= len(words)\n",
    "        # Store result in trimmed_dataset\n",
    "        trimmed_dataset[i] = (label, embedding)\n",
    "    # Remove all unused entries in trimmed_dataset\n",
    "    trimmed_dataset = trimmed_dataset[:i+1]\n",
    "    return trimmed_dataset\n",
    "\n",
    "trim_train = trim_reviews(\"./data/train_small.tsv\")\n",
    "trim_test = trim_reviews(\"./data/test_small.tsv\")\n",
    "\n",
    "print(trim_train[:1])\n",
    "print(trim_test[:1])"
   ]
  },
  {
   "cell_type": "markdown",
   "metadata": {},
   "source": [
    "b) Implement the embedding and store it to a `.tsv` file where the first column is the label and the rest are the features from the embedding. Round all numbers to 6 decimal places. `embedded_train_small.tsv` and `embedded_test_small.tsv` contain the expected output of your function. (10pts)"
   ]
  },
  {
   "cell_type": "code",
   "execution_count": 96,
   "metadata": {},
   "outputs": [],
   "source": [
    "def embed_reviews(trimmed_dataset):\n",
    "    # Create a new nd array to store the embedded dataset\n",
    "    embedded_dataset = np.empty((len(trimmed_dataset), VECTOR_LEN+1), dtype=float)\n",
    "    # Embed each review and store it in the new dataset\n",
    "    for i, (label, embedding) in enumerate(trimmed_dataset):\n",
    "        # Store the label in the first column\n",
    "        embedded_dataset[i, 0] = label\n",
    "        # Store the embedding in the rest of the columns\n",
    "        embedded_dataset[i, 1:] = embedding\n",
    "    return embedded_dataset\n",
    "\n",
    "def save_as_tsv(dataset, filename):\n",
    "    # Round all numbers to 6 decimal places\n",
    "    dataset = np.round(dataset, decimals=6)\n",
    "    # Convert the dataset to a list of lines\n",
    "    lines = [('\\t'.join(str(elem) for elem in row) + '\\n') for row in dataset]\n",
    "    with open(filename, 'w+') as f:\n",
    "        f.writelines(lines)\n",
    "    return\n",
    "\n",
    "embedded_train = embed_reviews(trim_train)\n",
    "embedded_test = embed_reviews(trim_test)\n",
    "\n",
    "save_as_tsv(embedded_train, \"./data/output/embedded_train_small.tsv\")\n",
    "save_as_tsv(embedded_test, \"./data/output/embedded_test_small.tsv\")"
   ]
  },
  {
   "cell_type": "markdown",
   "metadata": {},
   "source": [
    "### Part 2 (20pts)\n",
    "\n",
    "In this part we'll be implementing Gradient Descent for binary Logistic Regression Classifier.\n",
    "\n",
    "Some rules:\n",
    "\n",
    "1. Include an intercept term in your model. You must consider the bias term as part of the weight vector and not a separate term to keep track of.\n",
    "2. Initialize all model parameters to 0\n",
    "3. Use vector and matrix multiplication\n",
    "\n",
    "The expected `metrics.txt` from the dataset with `500` epochs and `0.001` learning rate is:\n",
    "\n",
    "```\n",
    "error(train): 0.000000\n",
    "error(test): 0.625000\n",
    "```\n",
    "\n",
    "We will be testing your code on other, larger datasets."
   ]
  },
  {
   "cell_type": "code",
   "execution_count": 97,
   "metadata": {},
   "outputs": [],
   "source": [
    "import numpy as np\n",
    "\n",
    "def load_tsv_dataset(file):\n",
    "    return np.loadtxt(file, delimiter='\\t', encoding='utf-8')\n",
    "\n",
    "def sigmoid(x):\n",
    "    return 1/(1 + np.exp(-x))\n",
    "\n",
    "def gd(theta, X, y, learning_rate):\n",
    "    y_pred = sigmoid(np.dot(X, theta))\n",
    "    grad = np.dot(X.T, y_pred - y)\n",
    "    theta -= learning_rate * grad\n",
    "    return theta\n",
    "\n",
    "def train(theta, X, y, num_epochs, learning_rate):\n",
    "    for i in range(num_epochs):\n",
    "        theta = gd(theta, X, y, learning_rate)\n",
    "    return theta\n",
    "\n",
    "def predict(theta, X):\n",
    "    y_pred = sigmoid(np.dot(X, theta))\n",
    "    # Classify as 1 if y_pred >= 0.5, 0 otherwise\n",
    "    return (y_pred >= 0.5).astype(int)\n",
    "\n",
    "def compute_error(y_pred, y):\n",
    "    return np.mean(y_pred != y)\n",
    "\n",
    "def write_metrics(train_err, test_err, metrics_out):\n",
    "    with open(metrics_out, 'w+') as f:\n",
    "        w = \"error(train): \" + \"{:.6f}\".format(train_err) + \"\\n\"\n",
    "        w += \"error(test): \" + \"{:.6f}\".format(test_err) + \"\\n\"\n",
    "        f.write(w)\n",
    "    return\n",
    "\n",
    "def logistic_reg(formatted_train, formatted_test, metrics_out, num_epochs, learning_rate):\n",
    "    train_data = load_tsv_dataset(formatted_train)\n",
    "    test_data = load_tsv_dataset(formatted_test)\n",
    "    \n",
    "    X = np.insert(train_data[:, 1:], 0, 1, axis=1)\n",
    "    y = train_data[:, 0]\n",
    "    X_test = np.insert(test_data[:, 1:], 0, 1, axis=1)\n",
    "    y_test = test_data[:, 0]\n",
    "    theta = np.zeros(X.shape[1])\n",
    "    \n",
    "    learned_theta = train(theta, X, y, num_epochs, learning_rate)\n",
    "    train_pred = predict(learned_theta, X)\n",
    "    train_err = compute_error(train_pred, y)\n",
    "    test_pred = predict(learned_theta, X_test)\n",
    "    test_err = compute_error(test_pred, y_test)\n",
    "\n",
    "    write_metrics(train_err, test_err, metrics_out)\n",
    "    return\n",
    "\n",
    "\n",
    "logistic_reg(\"./data/output/embedded_train_small.tsv\", \"./data/output/embedded_test_small.tsv\", \"./data/output/metrics.txt\", 500, 0.01)"
   ]
  },
  {
   "cell_type": "markdown",
   "metadata": {},
   "source": [
    "## Exercise 2 (60 Points)\n",
    "\n",
    "For this exercise, recall the lab's kaggle competition where you predicted if a cookie was defective or not (assuming you attend labs). For more information on the data and details, [click here to view the competition and data details](https://www.kaggle.com/competitions/cs506-lab-defective-cookie-detection/data)\n",
    "\n",
    "However, what we will do differently here is check if two of the features were correlated. This is important because if two features are correlated, then we can remove one of the features and still get the same information. This is part of the feature selection process."
   ]
  },
  {
   "cell_type": "markdown",
   "metadata": {},
   "source": [
    "### Loading in the Data\n",
    "\n",
    "For this exercise, we are interested in the two features `Texture Hardness` and `Texture Chewiness` and want to see if they are related. To do this, we will load in the data and create a scatter plot of the two features."
   ]
  },
  {
   "cell_type": "markdown",
   "metadata": {},
   "source": [
    "**a)** (1 Point) Download the kaggle data from the link above and read in the `csv` files `cookie_train.csv` and `cookie_test.csv`"
   ]
  },
  {
   "cell_type": "code",
   "execution_count": 98,
   "metadata": {},
   "outputs": [],
   "source": [
    "import pandas as pd\n",
    "import matplotlib.pyplot as plt\n",
    "train_data = pd.read_csv(\"./data/Exercise2/cookie_train.csv\")\n",
    "test_data = pd.read_csv(\"./data/Exercise2/cookie_test.csv\")"
   ]
  },
  {
   "cell_type": "markdown",
   "metadata": {},
   "source": [
    "### Combining Training and Testing Data\n",
    "\n",
    "The lab did not have a lot of cookies for the training set, so what we will do is combine the training and testing data together without any loss of generality."
   ]
  },
  {
   "cell_type": "markdown",
   "metadata": {},
   "source": [
    "**b)** (3 Point) Combine the training and testing data together into a single dataframe called `cookie_data` and plot the scatter plot for `Texture Chewiness` (our y or our response variable) and `Texture Hardness` (our x or our explanatory variable). Make sure to label your axes and give your plot a title."
   ]
  },
  {
   "cell_type": "code",
   "execution_count": 99,
   "metadata": {},
   "outputs": [
    {
     "data": {
      "image/png": "[encoded data removed]",
      "text/plain": [
       "<Figure size 640x480 with 1 Axes>"
      ]
     },
     "metadata": {},
     "output_type": "display_data"
    }
   ],
   "source": [
    "cookie_data = pd.concat([train_data, test_data], ignore_index=True)\n",
    "plt.scatter(cookie_data[\"Texture Hardness\"], cookie_data[\"Texture Chewiness\"])\n",
    "plt.xlabel(\"Texture Hardness\")\n",
    "plt.ylabel(\"Texture Chewiness\")\n",
    "plt.title(\"Texture Hardness vs Chewiness Scatter Plot\")\n",
    "plt.show()"
   ]
  },
  {
   "cell_type": "markdown",
   "metadata": {},
   "source": [
    "### Checking If We Can Do Linear Regression\n",
    "\n",
    "It is important to check all requirements/assumptions for linear regression are met before we do linear regression. One of the requirements is that the explanatory variable and response variable are linearly related, which we checked by noticing the scatter plot was linear. However, there is much more to check!"
   ]
  },
  {
   "cell_type": "markdown",
   "metadata": {},
   "source": [
    "#### Checking for Normality\n",
    "It is important to check that the response variable is normally distributed. This is important for hypothesis testing and relates to the idea of linear regression being an unbiased, minimum variance estimator (if you're interested in this, check out the course CAS MA 582).\n"
   ]
  },
  {
   "cell_type": "markdown",
   "metadata": {},
   "source": [
    "**c) (5 Points)** Plot an appropriate graph to determine if the response variable `Texture Chewiness` follows the normality assumption. State whether the normality assumption is met or not. If it is not met, state what can we do to fix this."
   ]
  },
  {
   "cell_type": "code",
   "execution_count": 100,
   "metadata": {},
   "outputs": [
    {
     "data": {
      "image/png": "[encoded data removed]",
      "text/plain": [
       "<Figure size 640x480 with 1 Axes>"
      ]
     },
     "metadata": {},
     "output_type": "display_data"
    }
   ],
   "source": [
    "# histogram of Texture Chewiness\n",
    "plt.hist(cookie_data[\"Texture Chewiness\"], bins=20)\n",
    "plt.xlabel(\"Texture Chewiness\")\n",
    "plt.ylabel(\"Frequency\")\n",
    "plt.title(\"Histogram of Texture Chewiness\")\n",
    "plt.show()"
   ]
  },
  {
   "cell_type": "markdown",
   "metadata": {},
   "source": [
    "_(Written response goes in this cell)_\n",
    "\n",
    "Based on the histogram, Texture Chewiness is basically normally distributed. Normality assumption is approximately met."
   ]
  },
  {
   "cell_type": "markdown",
   "metadata": {},
   "source": [
    "#### Checking for Homoscedasticity\n",
    "It is important to check that the variance of the response variable is the same across all values of the explanatory variable. Otherwise, the confidence around a predicted value of the response variable will vary depending on the explanatory variable value."
   ]
  },
  {
   "cell_type": "markdown",
   "metadata": {},
   "source": [
    "**d) (5 Points)** Plot an appropriate graph to determine if the response variable `Texture Chewiness` follows the homoscedasticity assumption. State whether the homoscedasticity assumption is met or not. If it is not met, state what can we do to fix this."
   ]
  },
  {
   "cell_type": "code",
   "execution_count": 101,
   "metadata": {},
   "outputs": [
    {
     "data": {
      "image/png": "[encoded data removed]",
      "text/plain": [
       "<Figure size 640x480 with 1 Axes>"
      ]
     },
     "metadata": {},
     "output_type": "display_data"
    }
   ],
   "source": [
    "from sklearn.linear_model import LinearRegression\n",
    "X = cookie_data[[\"Texture Hardness\"]]\n",
    "y = cookie_data[\"Texture Chewiness\"]\n",
    "model = LinearRegression()\n",
    "model.fit(X, y)\n",
    "y_pred = model.predict(X)\n",
    "\n",
    "plt.scatter(y_pred, y - y_pred)\n",
    "plt.xlabel(\"Predicted Texture Chewiness\")\n",
    "plt.ylabel(\"Residuals\")\n",
    "plt.title(\"Residuals vs Predicted Texture Chewiness Scatter Plot\")\n",
    "plt.show()"
   ]
  },
  {
   "cell_type": "markdown",
   "metadata": {},
   "source": [
    "_(Written response goes in this cell)_\n",
    "\n",
    "The variance of the residuals is roughly constant across all values of the predicted Texture Chewiness, so the homoscedasticity assumption is met."
   ]
  },
  {
   "cell_type": "markdown",
   "metadata": {},
   "source": [
    "#### Checking for Independence\n",
    "It is important to check that the explanatory variable and response variable are independent. Otherwise, the model isn't really best fit with a line. To do so, we will use the Durbin-Watson test.\n",
    "\n",
    "**e) (5 Points)** Use the Durbin-Watson test to determine if the explanatory variable and response variable are independent. State whether if the independence assumption is met or not. If it is not met, state what can we do to fix this. You may use any library to do this, and for more information, check out [this link](https://www.investopedia.com/terms/d/durbin-watson-statistic.asp)."
   ]
  },
  {
   "cell_type": "code",
   "execution_count": 102,
   "metadata": {},
   "outputs": [
    {
     "name": "stdout",
     "output_type": "stream",
     "text": [
      "Durbin-Watson test statistic: 2.28\n"
     ]
    }
   ],
   "source": [
    "import statsmodels.api as sm\n",
    "X = cookie_data[[\"Texture Hardness\"]]\n",
    "y = cookie_data[\"Texture Chewiness\"]\n",
    "model = sm.OLS(y, sm.add_constant(X)).fit()\n",
    "# Durbin-Watson test on residuals\n",
    "dw_test = sm.stats.stattools.durbin_watson(model.resid)\n",
    "\n",
    "print(\"Durbin-Watson test statistic: {:.2f}\".format(dw_test))"
   ]
  },
  {
   "cell_type": "markdown",
   "metadata": {},
   "source": [
    "_(Written response goes in this cell)_\n",
    "\n",
    "The test statistic is close to 2, then we can assume that the independence assumption is met."
   ]
  },
  {
   "cell_type": "markdown",
   "metadata": {},
   "source": [
    "#### Adjusting the Model\n",
    "If you think any of the assumptions are not met, then you should respectively fix the model.\n",
    "\n",
    "**f) (6 Points)** If you think atleast one of the assumptions were not met, then adjust the model how you described you would. Otherwise, proceed to the next step and in the cell below, write \"No adjustments were made to the model\". However, if you do adjust the model, then in the cell below, justify why your adjustments is appropriate (i.e. plot the new graphs and statistics found above). You may add as many cells as you like."
   ]
  },
  {
   "cell_type": "markdown",
   "metadata": {},
   "source": [
    "#Code in this cell\n",
    "\n",
    "No adjustments were made to the model"
   ]
  },
  {
   "cell_type": "markdown",
   "metadata": {},
   "source": [
    "No adjustments were made to the model"
   ]
  },
  {
   "cell_type": "markdown",
   "metadata": {},
   "source": [
    "### Hypothesis Testing\n",
    "Now that we have a model that is appropriate, we can do hypothesis testing. We will be using the Linear Regression t-test to test if the explanatory variable is a significant predictor of the response variable."
   ]
  },
  {
   "cell_type": "markdown",
   "metadata": {},
   "source": [
    "**g) (5 Points)** Use the Linear Regression t-test to determine if the explanatory variable `Texture Hardness` is a significant predictor of the response variable `Texture Chewiness`. State whether if the explanatory variable is a significant predictor of the response variable or not using an alpha significance level of $\\alpha = 0.05$, the null hypothesis $\\beta_{hardness} = 0$ and alternative hypothesis $\\beta_{hardness} \\neq 0$. If it is not, state what can we do to fix this. You may use any library to do this."
   ]
  },
  {
   "cell_type": "code",
   "execution_count": 103,
   "metadata": {},
   "outputs": [
    {
     "name": "stdout",
     "output_type": "stream",
     "text": [
      "                            OLS Regression Results                            \n",
      "==============================================================================\n",
      "Dep. Variable:      Texture Chewiness   R-squared:                       0.879\n",
      "Model:                            OLS   Adj. R-squared:                  0.878\n",
      "Method:                 Least Squares   F-statistic:                     625.0\n",
      "Date:                Mon, 10 Apr 2023   Prob (F-statistic):           3.27e-41\n",
      "Time:                        06:55:35   Log-Likelihood:                 305.19\n",
      "No. Observations:                  88   AIC:                            -606.4\n",
      "Df Residuals:                      86   BIC:                            -601.4\n",
      "Df Model:                           1                                         \n",
      "Covariance Type:            nonrobust                                         \n",
      "====================================================================================\n",
      "                       coef    std err          t      P>|t|      [0.025      0.975]\n",
      "------------------------------------------------------------------------------------\n",
      "const               -0.1736      0.009    -19.243      0.000      -0.192      -0.156\n",
      "Texture Hardness     0.0018   7.09e-05     24.999      0.000       0.002       0.002\n",
      "==============================================================================\n",
      "Omnibus:                        1.734   Durbin-Watson:                   2.280\n",
      "Prob(Omnibus):                  0.420   Jarque-Bera (JB):                1.296\n",
      "Skew:                          -0.029   Prob(JB):                        0.523\n",
      "Kurtosis:                       2.408   Cond. No.                     1.41e+03\n",
      "==============================================================================\n",
      "\n",
      "Notes:\n",
      "[1] Standard Errors assume that the covariance matrix of the errors is correctly specified.\n",
      "[2] The condition number is large, 1.41e+03. This might indicate that there are\n",
      "strong multicollinearity or other numerical problems.\n",
      "\n",
      "p-value for Texture Hardness coefficient: 0.001773181081540043 3.27049621578656e-41\n"
     ]
    }
   ],
   "source": [
    "X = cookie_data[[\"Texture Hardness\"]]\n",
    "y = cookie_data[\"Texture Chewiness\"]\n",
    "X = sm.add_constant(X)\n",
    "model = sm.OLS(y, X).fit()\n",
    "print(model.summary())\n",
    "print()\n",
    "print(\"p-value for Texture Hardness coefficient:\", model.params[\"Texture Hardness\"], \n",
    "      model.pvalues[\"Texture Hardness\"])"
   ]
  },
  {
   "cell_type": "markdown",
   "metadata": {},
   "source": [
    "_(Written response goes in this cell)_\n",
    "\n",
    "3.27049621578656e-41 is smaller than alpha significance level $\\alpha=0.05$."
   ]
  },
  {
   "cell_type": "markdown",
   "metadata": {},
   "source": [
    "### Adding a New Feature\n",
    "Now that we have determined that the explanatory variable is a significant predictor of the response variable, you noticed the fit isn't 100% perfect still (e.g. your model is not capturing all the variation in the data). You think that there is another feature that can help improve the model. You think that the feature `Taste Sweetness` can help improve your model. You want to test if this is true. You may assume that all the assumptions are met for this new model to conduct linear regression."
   ]
  },
  {
   "cell_type": "markdown",
   "metadata": {},
   "source": [
    "**h) (10 Points)** Now that you have two features to predict your response variable, you will have to use multiple linear regression. Use the `statsmodels` library to do multiple linear regression. Then, determine if the explanatory variables `Texture Hardness` and `Taste Sweetness` are significant predictors of the response variable `Texture Chewiness` using an alpha significance level of $\\alpha = 0.001$, the null hypothesis $\\beta_{hardness} = 0$ and $\\beta_{sweetness} = 0$ and alternative hypothesis $\\beta_{hardness} \\neq 0$ and $\\beta_{sweetness} \\neq 0$. If it is not, state what can we do to fix this. You may use any library to do this.\n",
    "\n",
    "Moreover, justify whether the overall model is significant or not using the F-test with the same $\\alpha$ given above. If it is not, state what can we do to fix this.\n",
    "\n",
    "_You may use the transformed model made (if one was made) from the previous parts and add this new feature to it._"
   ]
  },
  {
   "cell_type": "code",
   "execution_count": 104,
   "metadata": {},
   "outputs": [
    {
     "name": "stdout",
     "output_type": "stream",
     "text": [
      "                            OLS Regression Results                            \n",
      "==============================================================================\n",
      "Dep. Variable:      Texture Chewiness   R-squared:                       0.929\n",
      "Model:                            OLS   Adj. R-squared:                  0.928\n",
      "Method:                 Least Squares   F-statistic:                     560.2\n",
      "Date:                Mon, 10 Apr 2023   Prob (F-statistic):           1.13e-49\n",
      "Time:                        06:55:37   Log-Likelihood:                 328.93\n",
      "No. Observations:                  88   AIC:                            -651.9\n",
      "Df Residuals:                      85   BIC:                            -644.4\n",
      "Df Model:                           2                                         \n",
      "Covariance Type:            nonrobust                                         \n",
      "====================================================================================\n",
      "                       coef    std err          t      P>|t|      [0.025      0.975]\n",
      "------------------------------------------------------------------------------------\n",
      "const               -0.1096      0.011    -10.199      0.000      -0.131      -0.088\n",
      "Texture Hardness     0.0011      0.000      9.793      0.000       0.001       0.001\n",
      "Taste Sweetness      0.0107      0.001      7.797      0.000       0.008       0.013\n",
      "==============================================================================\n",
      "Omnibus:                        2.068   Durbin-Watson:                   1.954\n",
      "Prob(Omnibus):                  0.356   Jarque-Bera (JB):                1.434\n",
      "Skew:                          -0.254   Prob(JB):                        0.488\n",
      "Kurtosis:                       3.365   Cond. No.                     2.20e+03\n",
      "==============================================================================\n",
      "\n",
      "Notes:\n",
      "[1] Standard Errors assume that the covariance matrix of the errors is correctly specified.\n",
      "[2] The condition number is large, 2.2e+03. This might indicate that there are\n",
      "strong multicollinearity or other numerical problems.\n",
      "\n",
      "p-value for Texture Hardness coefficient: 0.0010515863124274504 1.3467877105373965e-15\n",
      "p-value for Taste Sweetness coefficient: 0.010664191728729271 1.4454622619319422e-11\n",
      "\n",
      "F-statistic: <F test: F=560.1621166060761, p=1.1308085781938765e-49, df_denom=85, df_num=2>\n",
      "p-value: 1.1308085781938765e-49\n"
     ]
    }
   ],
   "source": [
    "X = cookie_data[[\"Texture Hardness\", \"Taste Sweetness\"]]\n",
    "y = cookie_data[\"Texture Chewiness\"]\n",
    "X = sm.add_constant(X)\n",
    "model = sm.OLS(y, X).fit()\n",
    "print(model.summary())\n",
    "print()\n",
    "\n",
    "print(\"p-value for Texture Hardness coefficient:\", model.params[\"Texture Hardness\"], model.pvalues[\"Texture Hardness\"])\n",
    "print(\"p-value for Taste Sweetness coefficient:\", model.params[\"Taste Sweetness\"], model.pvalues[\"Taste Sweetness\"])\n",
    "print()\n",
    "\n",
    "f_test = model.f_test(\"Texture Hardness = 0, Taste Sweetness = 0\")\n",
    "print(\"F-statistic:\", f_test)\n",
    "print(\"p-value:\", f_test.pvalue)"
   ]
  },
  {
   "cell_type": "markdown",
   "metadata": {},
   "source": [
    "_(Written response goes in this cell)_\n",
    "\n",
    "p-value: 1.1308085781938765e-49 is smaller than 0.001, so both Texture Hardness and Taste Sweetness are significant predictors of Texture Chewiness."
   ]
  },
  {
   "cell_type": "markdown",
   "metadata": {},
   "source": [
    "### Interpretation\n",
    "It is important to be able to interpret the results of the model. This is important because it allows us to understand the model and how it works. It also allows us to understand the relationship between the predictors and the response variable, and this applies to not just linear regression, but all learning models."
   ]
  },
  {
   "cell_type": "markdown",
   "metadata": {},
   "source": [
    "**i) (10 Points)** Interpret the coefficients of the model made in part **h**. What do they mean? What do they represent? What do they tell us about the relationship between the predictors and the response variable? If your code output in part h does not provide these results, you are welcome to use any library here to do so."
   ]
  },
  {
   "cell_type": "code",
   "execution_count": 105,
   "metadata": {},
   "outputs": [],
   "source": [
    "#Your code in this cell if you need it"
   ]
  },
  {
   "cell_type": "markdown",
   "metadata": {},
   "source": [
    "_(Written response goes in this cell)_\n",
    "\n",
    "The model's coefficients indicate the change in the mean of the response variable (Texture Chewiness) for a one-unit shift in the predictor variable, while all other predictors remain constant.\n",
    "\n",
    "The coefficient for Texture Hardness is 0.0011, implying that for every unit increase in Texture Hardness, the mean value of Texture Chewiness increases by 0.0011, with Taste Sweetness held constant.\n",
    "And, the coefficient for Taste Sweetness is 0.0107, indicating that a one-unit increase in Taste Sweetness leads to a 0.0107 increase in the mean value of Texture Chewiness, while Texture Hardness is constant.\n",
    "\n",
    "The p-values linked with each coefficient indicate whether the coefficients are statistically important. In this scenario, both coefficients have a p-value less than 0.001, implying that the null hypothesis that the corresponding coefficient is zero can be declined. As a result, both Texture Hardness and Taste Sweetness are considered significant predictors of Texture Chewiness.\n",
    "\n",
    "In general, the multiple linear regression model indicates that both Texture Hardness and Taste Sweetness are significant predictors of Texture Chewiness, and the model can account for a significant amount of variance in the data (R-squared = 0.929)."
   ]
  },
  {
   "cell_type": "markdown",
   "metadata": {},
   "source": [
    "### Using Taste Bitterness over Taste Sweetness\n",
    "You think that the feature `Taste Bitterness` can help improve your model since `Taste Sweetness` wasn't it.\n",
    "\n",
    "For this section, you will continue to use your fixed/adjusted features for `Texture Hardness` and `Texture Chewiness`."
   ]
  },
  {
   "cell_type": "markdown",
   "metadata": {},
   "source": [
    "**j) (10 Points)** Plot 2 scatter plots: `Taste Bitterness` vs your possibly adjusted `Texture Chewiness` and `Taste Bitterness` vs your possibly adjusted `Texture Hardness`. Given these plots, propose an appropriate model. Justify your answer by fitting it and seeing its accuracy (you can use any metric to prove so), showing appropriate models/graphs, and ensuring assumptions are satisfied (if any). You may use any library to do this."
   ]
  },
  {
   "cell_type": "code",
   "execution_count": 106,
   "metadata": {},
   "outputs": [
    {
     "data": {
      "image/png": "[encoded data removed]",
      "text/plain": [
       "<Figure size 640x480 with 1 Axes>"
      ]
     },
     "metadata": {},
     "output_type": "display_data"
    },
    {
     "data": {
      "image/png": "[encoded data removed]",
      "text/plain": [
       "<Figure size 640x480 with 1 Axes>"
      ]
     },
     "metadata": {},
     "output_type": "display_data"
    }
   ],
   "source": [
    "plt.scatter(cookie_data[\"Taste Bitterness\"], cookie_data[\"Texture Chewiness\"])\n",
    "plt.xlabel(\"Taste Bitterness\")\n",
    "plt.ylabel(\"Texture Chewiness\")\n",
    "plt.title(\"Scatter Plot for Taste Bitterness vs. Texture Chewiness\")\n",
    "plt.show()\n",
    "\n",
    "plt.scatter(cookie_data[\"Taste Bitterness\"], cookie_data[\"Texture Hardness\"])\n",
    "plt.xlabel(\"Taste Bitterness\")\n",
    "plt.ylabel(\"Texture Hardness\")\n",
    "plt.title(\"Scatter Plot for Taste Bitterness vs. Texture Hardness\")\n",
    "plt.show()"
   ]
  },
  {
   "cell_type": "code",
   "execution_count": 107,
   "metadata": {},
   "outputs": [
    {
     "name": "stdout",
     "output_type": "stream",
     "text": [
      "                            OLS Regression Results                            \n",
      "==============================================================================\n",
      "Dep. Variable:      Texture Chewiness   R-squared:                       0.887\n",
      "Model:                            OLS   Adj. R-squared:                  0.885\n",
      "Method:                 Least Squares   F-statistic:                     334.3\n",
      "Date:                Mon, 10 Apr 2023   Prob (F-statistic):           5.25e-41\n",
      "Time:                        06:55:42   Log-Likelihood:                 308.27\n",
      "No. Observations:                  88   AIC:                            -610.5\n",
      "Df Residuals:                      85   BIC:                            -603.1\n",
      "Df Model:                           2                                         \n",
      "Covariance Type:            nonrobust                                         \n",
      "====================================================================================\n",
      "                       coef    std err          t      P>|t|      [0.025      0.975]\n",
      "------------------------------------------------------------------------------------\n",
      "const               -0.1522      0.012    -12.376      0.000      -0.177      -0.128\n",
      "Texture Hardness     0.0016      0.000     15.186      0.000       0.001       0.002\n",
      "Taste Bitterness     0.0406      0.016      2.483      0.015       0.008       0.073\n",
      "==============================================================================\n",
      "Omnibus:                        2.280   Durbin-Watson:                   2.098\n",
      "Prob(Omnibus):                  0.320   Jarque-Bera (JB):                2.034\n",
      "Skew:                          -0.265   Prob(JB):                        0.362\n",
      "Kurtosis:                       2.477   Cond. No.                     3.06e+03\n",
      "==============================================================================\n",
      "\n",
      "Notes:\n",
      "[1] Standard Errors assume that the covariance matrix of the errors is correctly specified.\n",
      "[2] The condition number is large, 3.06e+03. This might indicate that there are\n",
      "strong multicollinearity or other numerical problems.\n"
     ]
    }
   ],
   "source": [
    "X = sm.add_constant(cookie_data[[\"Texture Hardness\", \"Taste Bitterness\"]])\n",
    "y = cookie_data[\"Texture Chewiness\"]\n",
    "model = sm.OLS(y, X).fit()\n",
    "print(model.summary())"
   ]
  },
  {
   "cell_type": "markdown",
   "metadata": {},
   "source": [
    "## Bonus (20pts)\n",
    "\n",
    "Lasso Regression is a modification of Regression that adds a regularization penalty to the the parameter $\\mathbf{\\beta}$ learned by the model. The loss function for Lasso is the following:\n",
    "\n",
    "$$\\mathcal{L}(\\mathbf{\\beta}) = \\Vert \\mathbf{y} - X\\mathbf{\\beta} \\Vert^2 + \\lambda \\Vert \\mathbf{\\beta} \\Vert = \\beta^T X^T X \\beta - 2\\mathbf{\\beta}^TX^T\\mathbf{y}  + \\mathbf{y}^T\\mathbf{y} + \\lambda \\Vert \\mathbf{\\beta} \\Vert$$\n",
    "\n",
    "Where $\\lambda$ is a tuning parameter specified by the user.\n",
    "\n",
    "Using worksheet 17 as a guide:\n",
    "\n",
    "1. create an animation like in part c) for Lasso Regression. [15pts]\n",
    "2. create at least two more animations using different values for $\\lambda$ and the true $\\mathbf{\\beta}$ you used to generate the dataset (try steeper / less steep curves, and higher or close to zero intercepts). Briefly explain some key takeaways on how to tune $\\lambda$. [5pts]"
   ]
  },
  {
   "cell_type": "code",
   "execution_count": 80,
   "metadata": {},
   "outputs": [],
   "source": [
    "from PIL import Image as im\n",
    "\n",
    "def lasso_gradient(X, y, beta_hat, learning_rate, epochs, l1_penalty, images):\n",
    "    losses = [lasso_loss(X, y, beta_hat, l1_penalty)]\n",
    "    betas = [beta_hat]\n",
    "    for _ in range(epochs):\n",
    "        images.append(snap_model(beta_hat))\n",
    "        lasso_grad = lasso_gradient_vec(X, y, beta_hat, l1_penalty)\n",
    "        beta_hat = beta_hat - learning_rate * lasso_grad\n",
    "        losses.append(lasso_loss(X, y, beta_hat, l1_penalty))\n",
    "        betas.append(beta_hat)\n",
    "    return np.array(betas), np.array(losses)\n",
    "\n",
    "def lasso_loss(X, y, beta, l1_penalty):\n",
    "    n = len(y)\n",
    "    y_pred = X @ beta\n",
    "    residuals = y - y_pred\n",
    "    rss = np.sum(residuals**2)\n",
    "    l1_norm = np.sum(np.abs(beta))\n",
    "    return rss/n + l1_penalty*l1_norm\n",
    "\n",
    "def lasso_gradient_vec(X, y, beta_hat, l1_penalty):\n",
    "    n = len(y)\n",
    "    y_pred = X @ beta_hat\n",
    "    residuals = y - y_pred\n",
    "    grad = -2 * X.T @ residuals / n\n",
    "    l1_grad = l1_penalty * np.sign(beta_hat)\n",
    "    return grad + l1_grad\n",
    "\n",
    "def snap_model(beta):\n",
    "    xplot = np.linspace(-10,10,50)\n",
    "    yestplot = beta[0] + beta[1] * xplot\n",
    "    fig, ax = plt.subplots()\n",
    "    ax.plot(xplot, yestplot,'b-',lw=2)\n",
    "    ax.plot(X[:, 1], y, 'ro', markersize=4)\n",
    "    ax.set_xlim(-10, 10)\n",
    "    ax.set_ylim(min(y), max(y))\n",
    "    fig.savefig(TEMPFILE)\n",
    "    plt.close()\n",
    "    return im.fromarray(np.asarray(im.open(TEMPFILE)))\n",
    "\n",
    "TEMPFILE = \"./data/bonus/temp.png\"\n",
    "\n",
    "n = 100\n",
    "x = np.linspace(-10, 10, n)\n",
    "y = 2*x + 3 + np.random.normal(0, 2, n)\n",
    "X = np.column_stack((np.ones(n), x))\n",
    "beta_start = np.zeros(2)\n",
    "learning_rate = 0.002\n",
    "epochs = 1000\n",
    "l1_penalty = 0.5\n",
    "\n",
    "images = []\n",
    "betas, losses = lasso_gradient(X, y, beta_start, learning_rate, epochs, l1_penalty, images)\n",
    "\n",
    "images[0].save(\n",
    "    './data/bonus/lasso_model2.gif',\n",
    "    optimize=False,\n",
    "    save_all=True,\n",
    "    append_images=images[1:],\n",
    "    loop=0,\n",
    "    duration=200\n",
    ")"
   ]
  },
  {
   "cell_type": "code",
   "execution_count": 93,
   "metadata": {},
   "outputs": [],
   "source": [
    "n = 100\n",
    "x = np.linspace(-10, 10, n)\n",
    "y = 2*x + 3 + np.random.normal(0, 2, n)\n",
    "X = np.column_stack((np.ones(n), x))\n",
    "beta_start = np.zeros(2)\n",
    "learning_rate = 0.002\n",
    "epochs = 1000\n",
    "l1_penalty = 5 # higher lambda\n",
    "\n",
    "images = []\n",
    "betas, losses = lasso_gradient(X, y, beta_start, learning_rate, epochs, l1_penalty, images)\n",
    "\n",
    "images[0].save(\n",
    "    './data/bonus/lasso_model_lambda5.gif',\n",
    "    optimize=False,\n",
    "    save_all=True,\n",
    "    append_images=images[1:],\n",
    "    loop=0,\n",
    "    duration=200\n",
    ")"
   ]
  },
  {
   "cell_type": "code",
   "execution_count": 94,
   "metadata": {},
   "outputs": [],
   "source": [
    "n = 100\n",
    "x = np.linspace(-10, 10, n)\n",
    "y = 2*x + 3 + np.random.normal(0, 2, n)\n",
    "X = np.column_stack((np.ones(n), x))\n",
    "beta_start = np.zeros(2)\n",
    "learning_rate = 0.002\n",
    "epochs = 1000\n",
    "l1_penalty = 0.001 # lower lambda\n",
    "\n",
    "images = []\n",
    "betas, losses = lasso_gradient(X, y, beta_start, learning_rate, epochs, l1_penalty, images)\n",
    "\n",
    "images[0].save(\n",
    "    './data/bonus/lasso_model_lambda0.001.gif',\n",
    "    optimize=False,\n",
    "    save_all=True,\n",
    "    append_images=images[1:],\n",
    "    loop=0,\n",
    "    duration=200\n",
    ")"
   ]
  },
  {
   "cell_type": "markdown",
   "metadata": {},
   "source": [
    "The regularization parameter $\\lambda$ controls the trade-off between the bias and the variance of the model. A high value of $\\lambda$ will heavily penalize the coefficients and may set some of them to exactly zero, leading to underfitting of the data. This is especially true if the true underlying model is complex and requires many non-zero coefficients to capture. In contrast, a low value of $\\lambda$ will not effectively shrink the coefficients towards zero, and the model may overfit the data. This is especially true if the true underlying model is simple and requires only a few non-zero coefficients to capture."
   ]
  },
  {
   "cell_type": "code",
   "execution_count": 87,
   "metadata": {},
   "outputs": [],
   "source": [
    "n = 100\n",
    "x = np.linspace(-10, 10, n)\n",
    "y = 10*x + 0.1 + np.random.normal(0, 2, n)  # 10, 0.1\n",
    "X = np.column_stack((np.ones(n), x))\n",
    "beta_start = np.zeros(2)\n",
    "learning_rate = 0.002\n",
    "epochs = 1000\n",
    "l1_penalty = 0.1\n",
    "\n",
    "images = []\n",
    "betas, losses = lasso_gradient(X, y, beta_start, learning_rate, epochs, l1_penalty, images)\n",
    "\n",
    "images[0].save(\n",
    "    './data/bonus/lasso_model_10x+0.1.gif',\n",
    "    optimize=False,\n",
    "    save_all=True,\n",
    "    append_images=images[1:],\n",
    "    loop=0,\n",
    "    duration=200\n",
    ")"
   ]
  },
  {
   "cell_type": "code",
   "execution_count": 88,
   "metadata": {},
   "outputs": [],
   "source": [
    "n = 100\n",
    "x = np.linspace(-10, 10, n)\n",
    "y = 0.5*x + 1 + np.random.normal(0, 2, n)  # 0.5, 1\n",
    "X = np.column_stack((np.ones(n), x))\n",
    "beta_start = np.zeros(2)\n",
    "learning_rate = 0.002\n",
    "epochs = 1000\n",
    "l1_penalty = 0.1\n",
    "\n",
    "images = []\n",
    "betas, losses = lasso_gradient(X, y, beta_start, learning_rate, epochs, l1_penalty, images)\n",
    "\n",
    "images[0].save(\n",
    "    './data/bonus/lasso_model_0.5x+1.gif',\n",
    "    optimize=False,\n",
    "    save_all=True,\n",
    "    append_images=images[1:],\n",
    "    loop=0,\n",
    "    duration=200\n",
    ")"
   ]
  },
  {
   "cell_type": "code",
   "execution_count": null,
   "metadata": {},
   "outputs": [],
   "source": []
  }
 ],
 "metadata": {
  "kernelspec": {
   "display_name": "Python 3 (ipykernel)",
   "language": "python",
   "name": "python3"
  },
  "language_info": {
   "codemirror_mode": {
    "name": "ipython",
    "version": 3
   },
   "file_extension": ".py",
   "mimetype": "text/x-python",
   "name": "python",
   "nbconvert_exporter": "python",
   "pygments_lexer": "ipython3",
   "version": "3.9.13"
  },
  "vscode": {
   "interpreter": {
    "hash": "767d51c1340bd893661ea55ea3124f6de3c7a262a8b4abca0554b478b1e2ff90"
   }
  }
 },
 "nbformat": 4,
 "nbformat_minor": 2
}

{
 "cells": [
  {
   "attachments": {},
   "cell_type": "markdown",
   "metadata": {},
   "source": [
    "# Homework 5 (100 Points)\n",
    "\n",
    "The focus of this homework will be Network and Graphs as well as Neural Networks.\n",
    "\n"
   ]
  },
  {
   "cell_type": "markdown",
   "metadata": {},
   "source": [
    "## Exercise 1 [30pts]\n",
    "\n",
    "This exercise will focus on Neural Networks and visualization.\n",
    "\n",
    "a) Write a function that takes a keras network and outputs an image (png format) of the network. [5pts]\n",
    "\n",
    "You can assume the model is sequential and only uses dense layers. The output image for\n",
    "\n",
    "```python\n",
    "    model = keras.models.Sequential()\n",
    "    model.add(layers.Dense(2, input_dim=2))\n",
    "    model.add(layers.Dense(1))\n",
    "    model.compile(loss=\"binary_crossentropy\")\n",
    "```\n",
    "\n",
    "should look something like this"
   ]
  },
  {
   "cell_type": "code",
   "execution_count": null,
   "metadata": {},
   "outputs": [
    {
     "data": {
      "image/png": "[encoded data removed]",
      "text/plain": [
       "<IPython.core.display.Image object>"
      ]
     },
     "metadata": {},
     "output_type": "display_data"
    }
   ],
   "source": [
    "from IPython.display import Image\n",
    "Image(filename=\"example.png\")"
   ]
  },
  {
   "cell_type": "markdown",
   "metadata": {},
   "source": [
    "Hint: use the networkx library (specifically the [to_agraph](https://networkx.org/documentation/stable/reference/generated/networkx.drawing.nx_agraph.to_agraph.html) method)"
   ]
  },
  {
   "cell_type": "code",
   "execution_count": null,
   "metadata": {},
   "outputs": [],
   "source": []
  },
  {
   "cell_type": "markdown",
   "metadata": {},
   "source": [
    "b) Generate 100 datapoints of the form y = 3x + 1 + e where e ~ N(0, 1) and plot the data in a scatter plot [2.5pts]"
   ]
  },
  {
   "cell_type": "code",
   "execution_count": null,
   "metadata": {},
   "outputs": [],
   "source": []
  },
  {
   "cell_type": "markdown",
   "metadata": {},
   "source": [
    "c) Create a Neural Network with no hidden layers (just input to ouput each with just one neuron), using the `mean_squared_error` loss and no activation function. Create an image of this model using a) then train this model on the dataset from b). In a 3D plot, plot the weight, the bias, and the loss value. [5pts]"
   ]
  },
  {
   "cell_type": "code",
   "execution_count": null,
   "metadata": {},
   "outputs": [],
   "source": []
  },
  {
   "attachments": {},
   "cell_type": "markdown",
   "metadata": {},
   "source": [
    "d) Re-train the model from c) and create an animation of the weight, bias, and loss at each training epoch. [5pts]"
   ]
  },
  {
   "cell_type": "code",
   "execution_count": null,
   "metadata": {},
   "outputs": [],
   "source": []
  },
  {
   "cell_type": "markdown",
   "metadata": {},
   "source": [
    "e) Generate data of the form y = 3x^3 + 2x^2 + x + 1 + e where e ~ N(0, 1) and plot the data in a scatter plot [2.5pts]"
   ]
  },
  {
   "cell_type": "code",
   "execution_count": null,
   "metadata": {},
   "outputs": [],
   "source": []
  },
  {
   "cell_type": "markdown",
   "metadata": {},
   "source": [
    "f) Create and train a neural network on the dataset from b) and plot the resulting curve through the scatter plot. (you can use any number of epochs, hidden layers etc.) Also create an image of the network using the function from a) [5pts]"
   ]
  },
  {
   "cell_type": "code",
   "execution_count": null,
   "metadata": {},
   "outputs": [],
   "source": []
  },
  {
   "cell_type": "markdown",
   "metadata": {},
   "source": [
    "g) Using matplotlib animation, create an animation of the resulting curve from your model at each training epoch (up to 100 epochs). [5pts]"
   ]
  },
  {
   "cell_type": "code",
   "execution_count": null,
   "metadata": {},
   "outputs": [],
   "source": []
  },
  {
   "attachments": {},
   "cell_type": "markdown",
   "metadata": {},
   "source": [
    "## Exercise 2 [50pts]\n",
    "\n",
    "In this excerise we will be implementing logic gates in various forms."
   ]
  },
  {
   "attachments": {},
   "cell_type": "markdown",
   "metadata": {},
   "source": [
    "### Part A: <b> [25pts] </b>\n",
    "\n",
    "Recall in a logistic regression model we would find the weights and bias such that \n",
    "$$P(y=1)=\\sigma(w_1 x_1 + w_2 x_2 + b)$$\n",
    "\n",
    "This means that when $w_1 x_1 + w_2 x_2 + b >0 $ we would predict y = 1. Moving b to the other side, we notice that only when $w_1 x_1 + w_2 x_2 < b $ do we predict y = 1. So the term b acts as a threshold past which the weighted sum of x's would cause the model to predict one class over the other.\n",
    "\n",
    "In this part you are asked to find (not through gradient descent but through your own understanding of the functions below) the weights and threshold that appropriately describe the function being modeled.\n",
    "\n",
    "Additional Resource/Hint: [Realization of Logic Gates Using MccullochPitts Neuron Model](https://ijettjournal.org/assets/year/2017/volume-45/number-2/IJETT-V45P212.pdf)"
   ]
  },
  {
   "attachments": {},
   "cell_type": "markdown",
   "metadata": {},
   "source": [
    "a) Implement the following logic gates <b> - [20pts] </b> <br> \n",
    "<ul>\n",
    "    <li>2 input AND gate</li>\n",
    "    <li>2 input OR gate</li>\n",
    "    <li>2 input NOR gate</li>\n",
    "    <li>1 input NOT gate</li>\n",
    "    <li>2 input NAND gate</li>\n",
    "</ul>\n",
    "\n",
    "by finding the correct weights and threshold.\n",
    "\n",
    "Additional Resource:[Boolean Algebra Truth Tables for Logic Gate Functions](https://www.electronics-tutorials.ws/boolean/bool_7.html#:~:text=The%20table%20used%20to%20represent,of%20these%20input(s).)"
   ]
  },
  {
   "cell_type": "code",
   "execution_count": null,
   "metadata": {},
   "outputs": [],
   "source": [
    "\"\"\"\n",
    "params\n",
    "--------------\n",
    "a = input 1\n",
    "b = input 2\n",
    "\n",
    "other definations\n",
    "--------------\n",
    "w1 = weight associated with input 1\n",
    "w2 = weight associated with input 2\n",
    "\n",
    "returns\n",
    "--------------\n",
    "Y = output of the gate\n",
    "\"\"\"\n",
    "def and_gate(a,b):\n",
    "    w1 = ...  #TODO set weight w1\n",
    "    w2 = ...  #TODO set weight w2\n",
    "    g = w1*a + w2*b\n",
    "    threshold = ... #TODO: set threshold\n",
    "    if g > threshold :\n",
    "        return 1\n",
    "    else:\n",
    "        return 0\n",
    "\n",
    "def or_gate(a,b):\n",
    "    w1 = ...  #TODO set weight w1\n",
    "    w2 = ...  #TODO set weight w2\n",
    "    g = w1*a + w2*b\n",
    "    threshold = ... #TODO: set threshold\n",
    "    if g > threshold :\n",
    "        return 1\n",
    "    else:\n",
    "        return 0\n",
    "        \n",
    "def not_gate(a):\n",
    "    w1 = ...  #TODO set weight w1\n",
    "    g = w1*a\n",
    "    threshold = ... #TODO: set threshold\n",
    "    if g > threshold :\n",
    "        return 1\n",
    "    else:\n",
    "        return 0\n",
    "\n",
    "def nor_gate(a,b):\n",
    "    w1 = ...  #TODO set weight w1\n",
    "    w2 = ...  #TODO set weight w2\n",
    "    g = w1*a + w2*b\n",
    "    threshold = ... #TODO: set threshold\n",
    "    if g > threshold :\n",
    "        return 1\n",
    "    else:\n",
    "        return 0\n",
    "        \n",
    "def nand_gate(a,b):\n",
    "    w1 = ...  #TODO set weight w1\n",
    "    w2 = ...  #TODO set weight w2\n",
    "    g = w1*a + w2*b\n",
    "    threshold = ... #TODO: set threshold\n",
    "    if g > threshold :\n",
    "        return 1\n",
    "    else:\n",
    "        return 0 "
   ]
  },
  {
   "cell_type": "code",
   "execution_count": 22,
   "metadata": {},
   "outputs": [
    {
     "name": "stdout",
     "output_type": "stream",
     "text": [
      "\n",
      "\n",
      "Enter your choice 1.AND 2.OR 3.NOT 4.NOR 5.NAND 6.exit\n",
      "1\n",
      "Enter 1st value: 1\n",
      "Enter 2nd value: 0\n",
      "Y = 0\n",
      "\n",
      "\n",
      "Enter your choice 1.AND 2.OR 3.NOT 4.NOR 5.NAND 6.exit\n",
      "2\n",
      "Enter 1st value: 1\n",
      "Enter 2nd value: 0\n",
      "Y = 1\n",
      "\n",
      "\n",
      "Enter your choice 1.AND 2.OR 3.NOT 4.NOR 5.NAND 6.exit\n",
      "3\n",
      "Enter value: 1\n",
      "Y = 0\n",
      "\n",
      "\n",
      "Enter your choice 1.AND 2.OR 3.NOT 4.NOR 5.NAND 6.exit\n",
      "4\n",
      "Enter 1st value: 1\n",
      "Enter 2nd value: 0\n",
      "Y = 0\n",
      "\n",
      "\n",
      "Enter your choice 1.AND 2.OR 3.NOT 4.NOR 5.NAND 6.exit\n",
      "5\n",
      "Enter 1st value: 1\n",
      "Enter 2nd value: 0\n",
      "Y = 1\n",
      "\n",
      "\n",
      "Enter your choice 1.AND 2.OR 3.NOT 4.NOR 5.NAND 6.exit\n",
      "6\n"
     ]
    }
   ],
   "source": [
    "# run this cell to check your fucntions\n",
    "# the output provided it just a sample output. you can check for any values of a and b\n",
    "\n",
    "def gates(c, a, b=None):\n",
    "    if c == 1:\n",
    "        return and_gate(a, b)\n",
    "    elif c == 2:\n",
    "        return or_gate(a, b)    \n",
    "    elif c == 3:\n",
    "        return not_gate(a)    \n",
    "    elif c == 4:\n",
    "        return nor_gate(a, b)  \n",
    "    elif c == 5:\n",
    "        return nand_gate(a, b)\n",
    "    else:\n",
    "        return \"Please check your choice\"\n",
    "        \n",
    "def inputv(c):\n",
    "    a = int(input((\"Enter 1st value: \")))\n",
    "    if (a>1 or a<0):\n",
    "        print(\"Please check input\")\n",
    "    else:    \n",
    "        if c!=3:\n",
    "            b = int(input((\"Enter 2st value: \")))\n",
    "            if (b>1 or b<0):\n",
    "                print(\"Please check input\") \n",
    "            return(a,b)    \n",
    "    return(a)\n",
    "\n",
    "\n",
    "while True:\n",
    "    c = int(input(\"\\n\\nEnter your choice 1.AND 2.OR 3.NOT 4.NOR 5.NAND 6.exit\\n\"))\n",
    "    if c == 6:\n",
    "        break\n",
    "    elif c not in range(1, 7):\n",
    "        print(\"Please enter a valid choice\")\n",
    "        continue\n",
    "    else:\n",
    "        if c != 3:\n",
    "            a = int(input(\"Enter 1st value: \"))\n",
    "            b = int(input(\"Enter 2nd value: \"))\n",
    "            if a not in [0, 1] or b not in [0, 1]:\n",
    "                print(\"Please check input\")\n",
    "                continue\n",
    "        else:\n",
    "            a = int(input(\"Enter value: \"))\n",
    "            if a not in [0, 1]:\n",
    "                print(\"Please check input\")\n",
    "                continue\n",
    "        y = gates(c, a, b)\n",
    "        print(\"Y =\", y)"
   ]
  },
  {
   "cell_type": "markdown",
   "metadata": {},
   "source": [
    "b) implement a XOR gate <b> - [5pts] </b>\n",
    "\n",
    "Hint: XOR can be implemented as a combination of OR, NAND and AND gates. You can reuse your functions from above"
   ]
  },
  {
   "cell_type": "code",
   "execution_count": null,
   "metadata": {},
   "outputs": [],
   "source": [
    "    "
   ]
  },
  {
   "attachments": {},
   "cell_type": "markdown",
   "metadata": {},
   "source": [
    "### Part B: Perceptron Learning Rule [25pts]"
   ]
  },
  {
   "attachments": {},
   "cell_type": "markdown",
   "metadata": {},
   "source": [
    "a) Inspired by the previous homework's implementation of logistic regression, implement a 2 input OR gate using perceptron learning rule <b>- [20pts] </b>\n",
    "\n",
    "Recall: A perceptron is a no-hidden-layer neural network (like logistic regression) with a single output that is the activation of a weighted sum (plus a bias) of the inputs.\n",
    "\n",
    "Your implementation should:\n",
    "- use a bias\n",
    "- have a configurable input size (the output size will always be 1)\n",
    "- have a configurable learning rate\n",
    "- have a configurable number of epochs\n",
    "- have a configurable batch size\n",
    "- support at least two types of activation functions\n",
    "- support at least two types of losses / cost functions"
   ]
  },
  {
   "cell_type": "code",
   "execution_count": 37,
   "metadata": {},
   "outputs": [],
   "source": [
    "import numpy as np\n",
    "import matplotlib.pyplot as plt\n",
    "\n",
    "class Perceptron:\n",
    "    \"\"\"\n",
    "    Implement a perceptron network\n",
    "    \"\"\"\n",
    "    ...\n",
    "        \n",
    "        \n",
    "if __name__ == '__main__':\n",
    "  X = np.array([\n",
    "                [0,0],\n",
    "                [0,1],\n",
    "                [1,0],\n",
    "                [1,1]\n",
    "  ])\n",
    "  y = np.array([0,1,1,1])\n",
    "\n",
    "  perceptron_or = Perceptron(input_size=2)\n",
    "  perceptron_or.fit(X, y)"
   ]
  },
  {
   "attachments": {},
   "cell_type": "markdown",
   "metadata": {},
   "source": [
    "b) How were the weights and biases you discovered in part B different from the ones you defined in part A for the OR gate? [5pts]"
   ]
  },
  {
   "cell_type": "markdown",
   "metadata": {},
   "source": []
  },
  {
   "cell_type": "markdown",
   "metadata": {},
   "source": [
    "## Exercise 3 [20pts]\n",
    "\n",
    "This exercise will focus on Neural Networks.\n",
    "\n"
   ]
  },
  {
   "cell_type": "code",
   "execution_count": null,
   "metadata": {},
   "outputs": [],
   "source": [
    "from torch.utils.data import Dataset\n",
    "from torchvision import datasets\n",
    "from torchvision.transforms import ToTensor\n",
    "import matplotlib.pyplot as plt\n",
    "import torch \n",
    "import torch.nn as nn \n",
    "import torch.nn.functional as F\n",
    "import torchvision \n",
    "import torchvision.transforms as transforms \n",
    "from torch.optim import SGD, Adam\n",
    "from tqdm import tqdm "
   ]
  },
  {
   "attachments": {},
   "cell_type": "markdown",
   "metadata": {},
   "source": [
    "a) Modify the number of layers to include atleast 2 hidden layers with appropriate number of neurons that use the sigmoid function in the forward pass. Also change the epochs, criterion, batch_size. [5pts]"
   ]
  },
  {
   "cell_type": "code",
   "execution_count": null,
   "metadata": {},
   "outputs": [],
   "source": [
    "class NeuralNetwork(nn.Module):\n",
    "  def __init__(self, input_size):\n",
    "    super(NeuralNetwork, self).__init__()\n",
    "    # You are free to define any number of layers you want to here\n",
    "\n",
    "    self.layer1 = nn.Linear(input_size, 800)\n",
    "    # your code here\n",
    "    self.output = nn.Linear(300, 10)  \n",
    "    self.dropout = nn.Dropout(0.2)\n",
    "\n",
    "\n",
    "  def forward(self, input):\n",
    "    x = F.relu(self.layer1(input))\n",
    "    # your code here\n",
    "    x = self.dropout(x)\n",
    "    outputs = self.output(x)\n",
    "\n",
    "    return F.softmax(outputs)\n",
    "  \n",
    "epochs = 10                      # number of epochs\n",
    "device = torch.device(\"cuda\" if torch.cuda.is_available() else \"cpu\")     # device\n",
    "criterion = nn.CrossEntropyLoss() # loss function\n",
    "batch_size = 500"
   ]
  },
  {
   "attachments": {},
   "cell_type": "markdown",
   "metadata": {},
   "source": [
    "Run the following cell everytime you update the above code"
   ]
  },
  {
   "cell_type": "code",
   "execution_count": null,
   "metadata": {},
   "outputs": [],
   "source": [
    "net = NeuralNetwork(784).to(device)\n",
    "optimizer = Adam(net.parameters(), lr = 1e-2)\n",
    "\n",
    "total_loss = 0\n",
    "\n",
    "\n",
    "#######################################\n",
    "### Downloading the data\n",
    "\n",
    "\n",
    "training_data = datasets.FashionMNIST(\n",
    "    root=\"data\",\n",
    "    train=True,\n",
    "    download=True,\n",
    "    transform=ToTensor()\n",
    ")\n",
    "\n",
    "test_data = datasets.FashionMNIST(\n",
    "    root=\"data\",\n",
    "    train=False,\n",
    "    download=True,\n",
    "    transform=ToTensor()\n",
    ")\n",
    "\n",
    "train_dataloader = torch.utils.data.DataLoader(training_data, batch_size = batch_size, shuffle = True, num_workers=2)\n",
    "train_dataloader2 = torch.utils.data.DataLoader(training_data, batch_size = batch_size, shuffle = True, num_workers=2)\n",
    "\n",
    "test_dataloader = torch.utils.data.DataLoader(test_data, batch_size = batch_size, shuffle = True, num_workers=2)\n",
    "test_dataloader2 = torch.utils.data.DataLoader(test_data, batch_size = batch_size, shuffle = True, num_workers=2)"
   ]
  },
  {
   "attachments": {},
   "cell_type": "markdown",
   "metadata": {},
   "source": [
    "b) You may change the architecture to increase the accuracy of this model. The goal is to attain the highest possible accuracy. You do not get marks for accuracies less than 83%. You may modify the values in part a [10pts]"
   ]
  },
  {
   "cell_type": "code",
   "execution_count": null,
   "metadata": {},
   "outputs": [],
   "source": [
    "for epoch in tqdm(range(epochs)): \n",
    "  epoch_loss = 0\n",
    "  for i, data in enumerate(train_dataloader): \n",
    "    inputs, labels = data \n",
    "\n",
    "    optimizer.zero_grad() \n",
    "    outputs = net(inputs.view(batch_size,-1).to(device))\n",
    "\n",
    "    labels_ = F.one_hot(labels, num_classes= 10)\n",
    "\n",
    "    loss = criterion(outputs,labels_.to(device).float())\n",
    "    loss.backward()  # update network parameters\n",
    "\n",
    "    optimizer.step() # update the optimizer parameters \n",
    "\n",
    "    total_loss += loss.item() \n",
    "    epoch_loss += loss.item()\n",
    "  \n",
    "  with torch.no_grad():\n",
    "    net.eval()\n",
    "    correct = 0\n",
    "    total = 0\n",
    "    for i, data in enumerate(train_dataloader2):\n",
    "      input, labels = data\n",
    "      outputs = net(input.view(batch_size,-1).to(device))\n",
    "\n",
    "      total+= len(labels)\n",
    "\n",
    "      predictions = torch.argmax(outputs, dim = 1)\n",
    "      predictions = predictions.to(\"cpu\").numpy() \n",
    "      correct += sum(1*(labels.numpy()==predictions))\n",
    "  \n",
    "  with torch.no_grad():\n",
    "    net.eval()\n",
    "    correct_test = 0\n",
    "    total_test = 0\n",
    "    for i, data in enumerate(test_dataloader):\n",
    "      input, labels = data\n",
    "      outputs = net(input.view(batch_size,-1).to(device))\n",
    "\n",
    "      total_test+= len(labels)\n",
    "\n",
    "      predictions = torch.argmax(outputs, dim = 1)\n",
    "      predictions = predictions.to(\"cpu\").numpy() \n",
    "      correct_test += sum(1*(labels.numpy()==predictions))\n",
    "\n",
    "  print(\"epoch = \", epoch, \" loss = \", epoch_loss, \"  training accuracy = \", correct/total, \"test accuracy = \", correct_test/total_test)"
   ]
  },
  {
   "attachments": {},
   "cell_type": "markdown",
   "metadata": {},
   "source": [
    "d) Explain in ~150 words your choice of architecture and parameters, and your general process. [5pts]"
   ]
  },
  {
   "cell_type": "markdown",
   "metadata": {},
   "source": []
  }
 ],
 "metadata": {
  "kernelspec": {
   "display_name": "Python 3 (ipykernel)",
   "language": "python",
   "name": "python3"
  },
  "language_info": {
   "codemirror_mode": {
    "name": "ipython",
    "version": 3
   },
   "file_extension": ".py",
   "mimetype": "text/x-python",
   "name": "python",
   "nbconvert_exporter": "python",
   "pygments_lexer": "ipython3",
   "version": "3.9.12"
  }
 },
 "nbformat": 4,
 "nbformat_minor": 2
}
